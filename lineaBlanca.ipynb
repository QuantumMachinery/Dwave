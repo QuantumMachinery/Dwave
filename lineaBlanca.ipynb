{
 "cells": [
  {
   "cell_type": "markdown",
   "id": "da40bd2f-1d24-4bdf-be58-8eef2a42ee7f",
   "metadata": {},
   "source": [
    "## Planificación de la producción: sector industrial\n",
    "\n",
    "V1.0, Jul 2023\n",
    "\n",
    "#### Problema CQM c/ reformulación Qubo\n",
    "\n",
    " Una fábrica de electrodomésticos dispone de dos cadenas de montaje. \n",
    " \n",
    "- La productividad por hora de ambas cadenas es:\n",
    "\n",
    "    - la cadena A produce 10 lavadoras y 5 frigoríficos\n",
    "\n",
    "    - la cadena B produce 7 lavadoras y 6 frigoríficos. \n",
    "\n",
    "\n",
    "- El coste por hora de cada cadena es:\n",
    "\n",
    "    - cadena A: 1200€\n",
    "    - cadena B: 1500€\n",
    "\n",
    "- La cadena A es a doble turno, pero no debe sobrepasar el doble de horas que la cadena B\n",
    "\n",
    "- No se deben de sobrepasar las 24 horas diarias entre ambas líneas\n",
    "\n",
    "- Se quieren producir como mínimo 200 lavadoras y 120 frigoríficos diarios\n",
    "\n",
    "\n",
    "<b>Obtener las horas de funcionamiento de ambas cadenas con el objetivo de minimizar costes</b>\n",
    "\n",
    "\n",
    "<b>Planteamiento algebraico:</b>\n",
    "\n",
    "    - x1, x2 ; variables cadenas A y B\n",
    "\n",
    "    - Función objetivo: minimizar{f(x1,x2)} = -1200*x1 - 1500*x2\n",
    "\n",
    "- Restricciones:\n",
    "\n",
    "    - 10x1 + 7x2 >= 200\n",
    "    - 5x1 + 6x2 >= 140\n",
    "    - x1 <= 2X2\n",
    "    - x1 + x2 <= 24\n",
    " \n"
   ]
  },
  {
   "cell_type": "code",
   "execution_count": 61,
   "id": "77bae138-26c9-4b39-b5a2-63c2d5f0a4df",
   "metadata": {},
   "outputs": [],
   "source": [
    "# Recursos\n",
    "import dimod\n",
    "from dimod import ConstrainedQuadraticModel, ExactCQMSolver, Integer\n",
    "from dwave.system import DWaveSampler, EmbeddingComposite\n",
    "\n",
    "# Funciones auxiliares\n",
    "\n",
    "def sol_factibles(sampleset,n=None):\n",
    "    # Resultados\n",
    "    \n",
    "    subset=sampleset.filter(lambda s: s.is_feasible).aggregate()\n",
    "    \n",
    "    if not n:\n",
    "        print(f\"\\nLas {len(subset)} soluciones factibles al problema son:\\n\")\n",
    "    else:\n",
    "        print(f\"\\nImprimiendo las {n}/{len(subset)} primeras soluciones factibles:\\n\")\n",
    "    \n",
    "    print(subset.slice(n))\n",
    "    \n",
    "    \n",
    "def sol_problema(result):\n",
    "    # Agregación de los n reads\n",
    "    samples = []\n",
    "    ocurrencias = []\n",
    "\n",
    "    for s in result.data():\n",
    "        samples.append(invert(s.sample))\n",
    "        ocurrencias.append(s.num_occurrences)\n",
    "\n",
    "    sampleset = dimod.SampleSet.from_samples_cqm(samples,cqm,num_occurrences=ocurrencias)\n",
    "    return(sampleset)"
   ]
  },
  {
   "cell_type": "code",
   "execution_count": 76,
   "id": "3af9bf02-f003-4819-bf89-58a479f3cd78",
   "metadata": {},
   "outputs": [
    {
     "name": "stdout",
     "output_type": "stream",
     "text": [
      "Planteamiento problema CQM\n",
      "==========================\n",
      "Constrained quadratic model: 2 variables, 4 constraints, 10 biases\n",
      "\n",
      "Objective\n",
      "  -12*Integer('Xa') - 15*Integer('Xb')\n",
      "\n",
      "Constraints\n",
      "  Producción lavadoras: 10Xa + 7Xb >=200: 10*Integer('Xa') + 7*Integer('Xb') >= 200.0\n",
      "  Producción frigos: 5Xa + 6Xa >= 120: 5*Integer('Xa') + 6*Integer('Xb') >= 120.0\n",
      "  Horas: x1 <= 2x2: Integer('Xa') - 2*Integer('Xb') <= 0.0\n",
      "  Horas diarias: x1 + x2 <= 24: Integer('Xa') + Integer('Xb') <= 24.0\n",
      "\n",
      "Bounds\n",
      "  0.0 <= Integer('Xa') <= 20.0\n",
      "  0.0 <= Integer('Xb') <= 20.0\n",
      "\n"
     ]
    }
   ],
   "source": [
    "# Definición del problema CQM\n",
    "\n",
    "x1 = Integer('Xa',upper_bound=20)\n",
    "x2 = Integer('Xb',upper_bound=20)\n",
    "\n",
    "cqm = ConstrainedQuadraticModel()\n",
    "\n",
    "\n",
    "# Función objetivo: minimizar coste\n",
    "\n",
    "cqm.set_objective(12*x1 + 15*x2)\n",
    "\n",
    "# Restricciones\n",
    "\n",
    "cqm.add_constraint(10*x1 + 7*x2 >= 200,\"Producción lavadoras: 10Xa + 7Xb >=200\")\n",
    "cqm.add_constraint(5*x1 + 6*x2 >= 120,\"Producción frigos: 5Xa + 6Xa >= 120\")\n",
    "cqm.add_constraint(x1 - 2*x2 <= 0,\"Horas: x1 <= 2x2\")\n",
    "cqm.add_constraint(x1 + x2 <= 24,\"Horas diarias: x1 + x2 <= 24\")\n",
    "\n",
    "print(\"Planteamiento problema CQM\")\n",
    "print(\"==========================\")\n",
    "print(cqm)"
   ]
  },
  {
   "cell_type": "markdown",
   "id": "02eed209-1aac-416b-bf44-4891b216df25",
   "metadata": {},
   "source": [
    "### Solución por fuerza bruta"
   ]
  },
  {
   "cell_type": "code",
   "execution_count": 77,
   "id": "edf95fa5-cad3-4fc2-b8b0-6896d19a0883",
   "metadata": {},
   "outputs": [],
   "source": [
    "result = ExactCQMSolver().sample_cqm(cqm)"
   ]
  },
  {
   "cell_type": "code",
   "execution_count": 78,
   "id": "26c00d6c-2002-4f56-a16f-50aa21ceced0",
   "metadata": {
    "tags": []
   },
   "outputs": [
    {
     "name": "stdout",
     "output_type": "stream",
     "text": [
      "\n",
      "Imprimiendo las 10/9 primeras soluciones factibles:\n",
      "\n",
      "  Xa Xb energy num_oc. is_sat. is_fea.\n",
      "0 11 13 -327.0       1 arra...    True\n",
      "1 12 12 -324.0       1 arra...    True\n",
      "2 13 11 -321.0       1 arra...    True\n",
      "3 14 10 -318.0       1 arra...    True\n",
      "4 15  9 -315.0       1 arra...    True\n",
      "5 16  8 -312.0       1 arra...    True\n",
      "6 13 10 -306.0       1 arra...    True\n",
      "7 14  9 -303.0       1 arra...    True\n",
      "8 15  8 -300.0       1 arra...    True\n",
      "['INTEGER', 9 rows, 9 samples, 2 variables]\n"
     ]
    }
   ],
   "source": [
    "solCPU=sol_factibles(result,10)"
   ]
  },
  {
   "cell_type": "markdown",
   "id": "b787f2c1-4738-45e4-987c-c00634b0976d",
   "metadata": {},
   "source": [
    "\n",
    "<b>Resultados:</b>\n",
    "\n",
    "- El coste mínimo logrando objetivos es de 30.000€\n",
    "\n",
    "- La planta A debe permanecer activa 15 horas\n",
    "\n",
    "- La planta B trabaja 8 horas"
   ]
  },
  {
   "cell_type": "markdown",
   "id": "349c04dd-67e0-4d70-beb6-7b3abca3e796",
   "metadata": {},
   "source": [
    "### Solución con QPU"
   ]
  },
  {
   "cell_type": "code",
   "execution_count": 74,
   "id": "a04d4ffb-2199-4848-ac50-a001994c49fc",
   "metadata": {
    "tags": []
   },
   "outputs": [],
   "source": [
    "#reformulación qubo y sampling\n",
    "\n",
    "fl=20 # factor penalizador de lagrange\n",
    "\n",
    "qubo, invert = dimod.cqm_to_bqm(cqm, lagrange_multiplier = fl)\n",
    "\n",
    "sampler = EmbeddingComposite(DWaveSampler())\n",
    "result = sampler.sample(qubo, num_reads=3000)"
   ]
  },
  {
   "cell_type": "code",
   "execution_count": 75,
   "id": "2d2e80d8-808e-45b0-92c9-ce807d6c460d",
   "metadata": {},
   "outputs": [
    {
     "name": "stdout",
     "output_type": "stream",
     "text": [
      "\n",
      "Imprimiendo las 5/4 primeras soluciones factibles:\n",
      "\n",
      "  Xa Xb energy num_oc. is_sat. is_fea.\n",
      "0 15  8  300.0       2 arra...    True\n",
      "1 16  8  312.0       1 arra...    True\n",
      "2 15  9  315.0       1 arra...    True\n",
      "3 13 11  321.0       1 arra...    True\n",
      "['INTEGER', 4 rows, 5 samples, 2 variables]\n"
     ]
    }
   ],
   "source": [
    "sampleset=sol_problema(result)\n",
    "solQPU=sol_factibles(sampleset,5)"
   ]
  },
  {
   "cell_type": "markdown",
   "id": "b38afd6c-5be7-444f-87c9-759e9216426b",
   "metadata": {},
   "source": [
    "\n",
    "\n",
    "<b>Analizando los resultados del sampler QPU</b>\n",
    "\n",
    "- Se ha formulado un problema Qubo desde un problema CQM\n",
    "\n",
    "- El espacio de soluciones factibles es similar al de fuerza bruta (sobre 350)\n",
    "\n",
    "- Se han replicado los valores óptimos obtenidos por fuerza bruta\n",
    "\n",
    "- Se necesitaron entre 2000-3000 samples, y después de ajustar la función objetivo a 12*x1 + 15*x2 ya que en caso contrario no convergía con reads sensatos.\n"
   ]
  },
  {
   "cell_type": "code",
   "execution_count": null,
   "id": "2e5acee2-63b6-44c6-b962-1a8c8a519cea",
   "metadata": {},
   "outputs": [],
   "source": []
  }
 ],
 "metadata": {
  "kernelspec": {
   "display_name": "Python 3 (ipykernel)",
   "language": "python",
   "name": "python3"
  },
  "language_info": {
   "codemirror_mode": {
    "name": "ipython",
    "version": 3
   },
   "file_extension": ".py",
   "mimetype": "text/x-python",
   "name": "python",
   "nbconvert_exporter": "python",
   "pygments_lexer": "ipython3",
   "version": "3.10.11"
  }
 },
 "nbformat": 4,
 "nbformat_minor": 5
}
