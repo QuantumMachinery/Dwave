{
 "cells": [
  {
   "cell_type": "markdown",
   "id": "da40bd2f-1d24-4bdf-be58-8eef2a42ee7f",
   "metadata": {},
   "source": [
    "## Planificación de la producción: industria farmacéutica\n",
    "\n",
    "V1.0, Nov 23\n",
    "\n",
    "#### Problema CQM c/ reformulación Qubo\n",
    "\n",
    "\n",
    "Un laboratorio farmacéutico tiene una línea de producción con dos medicamentos A y B, con\n",
    "marca comercial y genérico respectivamente. Algunas características de su producción son: \n",
    "\n",
    "- entre los dos como máximo puede fabricar 10 unidades a la hora, pero no debiendo de bajar de las 4 unidades por hora en total.\n",
    "\n",
    "- por motivos de política sanitaria, la producción de A ha de ser como mucho 2 unidades más que la de B.\n",
    "\n",
    "- Cada unidad de tipo A vendida produce un beneficio de 60 euros, mientras que cada unidad de tipo B, genera un beneficio de 25 euros. \n",
    "\n",
    "1. Determinar las unidades de cada medicamento que deberá fabricar por hora para maximizar su beneficio\n",
    "2. Obtener dicho beneficio\n",
    "\n",
    "\n",
    "<b>Planteamiento algebraico:</b>\n",
    "\n",
    "    - x1, x2 ; variables  A y  B\n",
    "\n",
    "    - Función objetivo: minimizar{f(x1,x2)} = -60*x1 - 25*x2\n",
    "\n",
    "- Restricciones:\n",
    "\n",
    "    - x1 + x2 <= 10\n",
    "    - x1 + x2 >= 4\n",
    "    - x1 -x2 <= 2\n",
    "\n",
    "\n"
   ]
  },
  {
   "cell_type": "code",
   "execution_count": 151,
   "id": "77bae138-26c9-4b39-b5a2-63c2d5f0a4df",
   "metadata": {},
   "outputs": [],
   "source": [
    "# Recursos\n",
    "import dimod\n",
    "from dimod import ConstrainedQuadraticModel, ExactCQMSolver, Integer\n",
    "from dwave.system import DWaveSampler, EmbeddingComposite\n",
    "\n",
    "# Funciones auxiliares\n",
    "\n",
    "def sol_factibles(sampleset,n=None):\n",
    "    # Resultados\n",
    "    \n",
    "    subset=sampleset.filter(lambda s: s.is_feasible).aggregate()\n",
    "    \n",
    "    if not n:\n",
    "        print(f\"\\nLas {len(subset)} soluciones factibles al problema son:\\n\")\n",
    "    else:\n",
    "        print(f\"\\nImprimiendo las {n}/{len(subset)} primeras soluciones factibles:\\n\")\n",
    "    \n",
    "    print(subset.slice(n))\n",
    "    \n",
    "    \n",
    "def sol_problema(result):\n",
    "    # Agregación de los n reads\n",
    "    samples = []\n",
    "    ocurrencias = []\n",
    "\n",
    "    for s in result.data():\n",
    "        samples.append(invert(s.sample))\n",
    "        ocurrencias.append(s.num_occurrences)\n",
    "\n",
    "    sampleset = dimod.SampleSet.from_samples_cqm(samples,cqm,num_occurrences=ocurrencias)\n",
    "    return(sampleset)"
   ]
  },
  {
   "cell_type": "code",
   "execution_count": 160,
   "id": "8a0d61ff-6203-4c85-aa9a-7d0d471539b1",
   "metadata": {},
   "outputs": [
    {
     "name": "stdout",
     "output_type": "stream",
     "text": [
      "Planteamiento problema CQM\n",
      "==========================\n",
      "Constrained quadratic model: 2 variables, 3 constraints, 8 biases\n",
      "\n",
      "Objective\n",
      "  -60*Integer('Xa') - 25*Integer('Xb')\n",
      "\n",
      "Constraints\n",
      "  Producción 1: Xa + Xb <=10: Integer('Xa') + Integer('Xb') <= 10.0\n",
      "  Producción 2: Xb - Xa >= 4: Integer('Xa') + Integer('Xb') >= 4.0\n",
      "  Producción 3: Xa - Xb <= 2: Integer('Xa') - Integer('Xb') <= 2.0\n",
      "\n",
      "Bounds\n",
      "  0.0 <= Integer('Xa') <= 10.0\n",
      "  0.0 <= Integer('Xb') <= 10.0\n",
      "\n"
     ]
    }
   ],
   "source": [
    "## Definición del problema CQM\n",
    "\n",
    "x1 = Integer('Xa',upper_bound=10)\n",
    "x2 = Integer('Xb',upper_bound=10)\n",
    "\n",
    "cqm = ConstrainedQuadraticModel()\n",
    "\n",
    "\n",
    "# Función objetivo: minimizar beneficio\n",
    "\n",
    "cqm.set_objective(-60*x1 - 25*x2)\n",
    "\n",
    "# Restricciones\n",
    "\n",
    "cqm.add_constraint(x1 + x2 <= 10,\"Producción 1: Xa + Xb <=10\")\n",
    "cqm.add_constraint(x1 + x2 >= 4,\"Producción 2: Xb - Xa >= 4\")\n",
    "cqm.add_constraint(x1 - x2 <= 2,\"Producción 3: Xa - Xb <= 2\")\n",
    "print(\"Planteamiento problema CQM\")\n",
    "print(\"==========================\")\n",
    "print(cqm)"
   ]
  },
  {
   "cell_type": "markdown",
   "id": "02eed209-1aac-416b-bf44-4891b216df25",
   "metadata": {},
   "source": [
    "### Solución por fuerza bruta"
   ]
  },
  {
   "cell_type": "code",
   "execution_count": 161,
   "id": "edf95fa5-cad3-4fc2-b8b0-6896d19a0883",
   "metadata": {},
   "outputs": [],
   "source": [
    "result = ExactCQMSolver().sample_cqm(cqm)"
   ]
  },
  {
   "cell_type": "code",
   "execution_count": 162,
   "id": "26c00d6c-2002-4f56-a16f-50aa21ceced0",
   "metadata": {
    "tags": []
   },
   "outputs": [
    {
     "name": "stdout",
     "output_type": "stream",
     "text": [
      "\n",
      "Imprimiendo las 10/37 primeras soluciones factibles:\n",
      "\n",
      "  Xa Xb energy num_oc. is_sat. is_fea.\n",
      "0  6  4 -460.0       1 arra...    True\n",
      "1  5  5 -425.0       1 arra...    True\n",
      "2  5  4 -400.0       1 arra...    True\n",
      "3  4  6 -390.0       1 arra...    True\n",
      "4  5  3 -375.0       1 arra...    True\n",
      "5  4  5 -365.0       1 arra...    True\n",
      "6  3  7 -355.0       1 arra...    True\n",
      "7  4  4 -340.0       1 arra...    True\n",
      "8  3  6 -330.0       1 arra...    True\n",
      "9  2  8 -320.0       1 arra...    True\n",
      "['INTEGER', 10 rows, 10 samples, 2 variables]\n"
     ]
    }
   ],
   "source": [
    "solCPU=sol_factibles(result,10)"
   ]
  },
  {
   "cell_type": "markdown",
   "id": "b787f2c1-4738-45e4-987c-c00634b0976d",
   "metadata": {},
   "source": [
    "\n",
    "<b>Resultados:</b>\n",
    "\n",
    "- Medicamento A: 6 u/h y B: 4 u/h\n",
    "\n",
    "- El beneficio /hora: 460€\n"
   ]
  },
  {
   "cell_type": "markdown",
   "id": "349c04dd-67e0-4d70-beb6-7b3abca3e796",
   "metadata": {},
   "source": [
    "### Solución con QPU"
   ]
  },
  {
   "cell_type": "code",
   "execution_count": 165,
   "id": "a04d4ffb-2199-4848-ac50-a001994c49fc",
   "metadata": {
    "tags": []
   },
   "outputs": [],
   "source": [
    "#reformulación qubo y sampling\n",
    "\n",
    "fl=20 # factor penalizador de lagrange\n",
    "\n",
    "qubo, invert = dimod.cqm_to_bqm(cqm, lagrange_multiplier = fl)\n",
    "\n",
    "sampler = EmbeddingComposite(DWaveSampler())\n",
    "result = sampler.sample(qubo, num_reads=1000)"
   ]
  },
  {
   "cell_type": "code",
   "execution_count": 166,
   "id": "2d2e80d8-808e-45b0-92c9-ce807d6c460d",
   "metadata": {},
   "outputs": [
    {
     "name": "stdout",
     "output_type": "stream",
     "text": [
      "\n",
      "Imprimiendo las 5/36 primeras soluciones factibles:\n",
      "\n",
      "  Xa Xb energy num_oc. is_sat. is_fea.\n",
      "0  6  4 -460.0      18 arra...    True\n",
      "1  5  5 -425.0      21 arra...    True\n",
      "2  5  4 -400.0      11 arra...    True\n",
      "3  4  6 -390.0      48 arra...    True\n",
      "4  5  3 -375.0      27 arra...    True\n",
      "['INTEGER', 5 rows, 125 samples, 2 variables]\n"
     ]
    }
   ],
   "source": [
    "sampleset=sol_problema(result)\n",
    "solQPU=sol_factibles(sampleset,5)"
   ]
  },
  {
   "cell_type": "markdown",
   "id": "b38afd6c-5be7-444f-87c9-759e9216426b",
   "metadata": {},
   "source": [
    "### <b>Analizando los resultados del sampler QPU</b>\n",
    "\n",
    "- Se ha formulado un problema Qubo desde un problema CQM\n",
    "\n",
    "- El espacio de soluciones factibles es similar al del solver CPU (36 vs 37)\n",
    "\n",
    "- Se han replicado los valores óptimos obtenidos por fuerza bruta\n",
    "\n",
    "- Con 1000 samples ya se obtuvieron modas > 15 para la función objetivo mínima \n",
    "\n",
    "- Con respecto al problema de las baterías, de complejidad estructural similar, resulta evidente que la menor dispersión del espacio de entrada reduce drásticamente el num_reads necesario. Sería interesante poder caracterizar esta relación."
   ]
  }
 ],
 "metadata": {
  "kernelspec": {
   "display_name": "Python 3 (ipykernel)",
   "language": "python",
   "name": "python3"
  },
  "language_info": {
   "codemirror_mode": {
    "name": "ipython",
    "version": 3
   },
   "file_extension": ".py",
   "mimetype": "text/x-python",
   "name": "python",
   "nbconvert_exporter": "python",
   "pygments_lexer": "ipython3",
   "version": "3.10.12"
  }
 },
 "nbformat": 4,
 "nbformat_minor": 5
}
