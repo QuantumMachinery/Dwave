{
 "cells": [
  {
   "cell_type": "markdown",
   "id": "d88893ab-e326-483b-ae7d-10c961959943",
   "metadata": {},
   "source": [
    "## Problema de la Mochila\n",
    "\n",
    "(Knapdac\n",
    "\n",
    "### Solución cuántica a un problema clásico CQM con reformulación QUBO.\n",
    "\n",
    "V.1, Julio 2023"
   ]
  },
  {
   "cell_type": "markdown",
   "id": "e89f7feb-f51e-40d3-a715-dda2fadd78cf",
   "metadata": {},
   "source": [
    "### El Problema de la mochila clásico\n",
    "\n",
    "En el problema de mochila, se debe de empaquetar un conjunto de elementos de peso (o volumen) determinado en una mochila con una peso (o volumen) máximo. \n",
    "\n",
    "Además, estos elemenos tienen diferente valor para el mochilero, bien por su utilidad, bien por su coste\n",
    "\n",
    "Si el tamaño o peso total de los elementos supera lo soportado por la mochila, no se pueden empaquetar todos. En ese caso, el problema es elegir un subconjunto de los elementos  que cabiendo en la mochila maximicen el valor de la carga.\n",
    "\n",
    "A continuación se va a especificar un problema ejemplo, con 5 elementos como objetivo"
   ]
  },
  {
   "cell_type": "markdown",
   "id": "30a568fc-d383-4377-ba69-98a42289f9b0",
   "metadata": {},
   "source": [
    "<b> Parámetrización del problema</b>\n",
    "\n",
    "    - Objetos:  N = 5 \n",
    "\n",
    "    - Peso_max: w_max = 15\n",
    "    \n",
    "    - Pesos i : wi={1, 2, 1, 2, 2 }\n",
    "\n",
    "    - Utilidad (1-5): ui={1, 3, 2, 5, 4}\n",
    "\n",
    "Función objetivo: maximizar la utilidad asociada a los objetos en la mochila sujetos a la restricción del peso max\n",
    "\n",
    "<b>Nota<b>\n",
    "    \n",
    "En los problemas CQM/BQM la función objetivo siempre se minimiza, de ahí los signos (-) en cqm.set_objective "
   ]
  },
  {
   "cell_type": "code",
   "execution_count": 41,
   "id": "8385cbb9-fe08-4966-ada6-0ea1195e0d1c",
   "metadata": {},
   "outputs": [],
   "source": [
    "# Recursos\n",
    "import dimod\n",
    "from dimod import ConstrainedQuadraticModel, ExactCQMSolver, Integer, Binary\n",
    "from dwave.system import DWaveSampler, EmbeddingComposite\n",
    "\n",
    "# Funciones auxiliares\n",
    "\n",
    "def sol_factibles(sampleset):\n",
    "    # Resultados\n",
    "    print(\"\\nLas soluciones factibles al problema son:\\n\")\n",
    "    print(sampleset.filter(lambda s: s.is_feasible).aggregate())\n",
    "    \n",
    "def sol_problema(result):\n",
    "    # Agregación de los n reads\n",
    "    samples = []\n",
    "    ocurrencias = []\n",
    "\n",
    "    for s in result.data():\n",
    "        samples.append(invert(s.sample))\n",
    "        ocurrencias.append(s.num_occurrences)\n",
    "\n",
    "    sampleset = dimod.SampleSet.from_samples_cqm(samples,cqm,num_occurrences=ocurrencias)\n",
    "    return(sampleset)\n"
   ]
  },
  {
   "cell_type": "code",
   "execution_count": 42,
   "id": "e25fc4fa-5a50-458e-8357-daa566250767",
   "metadata": {},
   "outputs": [
    {
     "data": {
      "text/plain": [
       "'restricción peso max'"
      ]
     },
     "execution_count": 42,
     "metadata": {},
     "output_type": "execute_result"
    }
   ],
   "source": [
    "# Problema mochila como problema CQM de variable discreta\n",
    "\n",
    "N=5\n",
    "w=6\n",
    "wi=[1,2,1,3,2]\n",
    "ui=[1,3,2,5,4]\n",
    " \n",
    "#Uso de QP\n",
    "\n",
    "sampler = EmbeddingComposite(DWaveSampler())\n",
    "\n",
    "# dimod.Integer impone que upper_bound >=2\n",
    "\n",
    "rango= lambda s: int(w/s) if int(w/s) > 2 else 2 \n",
    "\n",
    "x1 = dimod.Integer('x1', upper_bound=rango(wi[0]))\n",
    "x2 = dimod.Integer('x2', upper_bound=rango(wi[1]))\n",
    "x3 = dimod.Integer('x3', upper_bound=rango(wi[2]))\n",
    "x4 = dimod.Integer('x4', upper_bound=rango(wi[3]))\n",
    "x5 = dimod.Integer('x5', upper_bound=rango(wi[4]))\n",
    "\n",
    "\n",
    "cqm = dimod.ConstrainedQuadraticModel()\n",
    "\n",
    "cqm.set_objective(-ui[0]*x1-ui[1]*x2-ui[2]*x3-ui[3]*x4-ui[4]*x5)\n",
    "\n",
    "cqm.add_constraint(wi[0]*x1+wi[1]*x2+wi[2]*x3+wi[3]*x4+wi[4]*x5 <= w, label='restricción peso max')\n"
   ]
  },
  {
   "cell_type": "code",
   "execution_count": 43,
   "id": "cf49a0d1-6301-47d1-907d-d69d7f552a6b",
   "metadata": {},
   "outputs": [
    {
     "name": "stdout",
     "output_type": "stream",
     "text": [
      "Variables:\n",
      "Variables(['x1', 'x2', 'x3', 'x4', 'x5'])\n",
      "Objetivo:\n",
      "ObjectiveView({'x1': -1.0, 'x2': -3.0, 'x3': -2.0, 'x4': -5.0, 'x5': -4.0}, {}, 0.0, {'x1': 'INTEGER', 'x2': 'INTEGER', 'x3': 'INTEGER', 'x4': 'INTEGER', 'x5': 'INTEGER'})\n",
      "Restricciones:\n",
      "{'restricción peso max': Le(ConstraintView({'x1': 1.0, 'x2': 2.0, 'x3': 1.0, 'x4': 3.0, 'x5': 2.0}, {}, 0.0, {'x1': 'INTEGER', 'x2': 'INTEGER', 'x3': 'INTEGER', 'x4': 'INTEGER', 'x5': 'INTEGER'}), 6.0)}\n"
     ]
    }
   ],
   "source": [
    "print(\"Variables:\")\n",
    "print(cqm.variables)\n",
    "print(\"Objetivo:\")\n",
    "print(cqm.objective)\n",
    "print(\"Restricciones:\") \n",
    "print(cqm.constraints)"
   ]
  },
  {
   "cell_type": "code",
   "execution_count": 44,
   "id": "b5723006-0b57-44f0-9678-0a988c422480",
   "metadata": {},
   "outputs": [],
   "source": [
    "#Reformulación como problema qubo\n",
    "\n",
    "fl=10\n",
    "\n",
    "qubo, invert = dimod.cqm_to_bqm(cqm, lagrange_multiplier = fl)\n",
    "result = sampler.sample(qubo, num_reads=100)"
   ]
  },
  {
   "cell_type": "code",
   "execution_count": 45,
   "id": "123e66a8-dfd6-4b47-9a8d-2f34745b2be4",
   "metadata": {},
   "outputs": [
    {
     "name": "stdout",
     "output_type": "stream",
     "text": [
      "\n",
      "Las soluciones factibles al problema son:\n",
      "\n",
      "   x1 x2 x3 x4 x5 energy num_oc. is_sat. is_fea.\n",
      "0   0  0  6  0  0  -12.0       1 arra...    True\n",
      "1   1  0  5  0  0  -11.0       1 arra...    True\n",
      "2   0  0  1  1  1  -11.0       3 arra...    True\n",
      "3   0  0  3  1  0  -11.0       1 arra...    True\n",
      "4   1  0  0  1  1  -10.0       4 arra...    True\n",
      "5   0  1  1  1  0  -10.0       1 arra...    True\n",
      "6   2  0  2  0  1  -10.0       1 arra...    True\n",
      "22  0  0  3  0  1  -10.0       2 arra...    True\n",
      "23  1  1  3  0  0  -10.0       1 arra...    True\n",
      "34  0  0  0  2  0  -10.0       1 arra...    True\n",
      "7   1  0  4  0  0   -9.0       1 arra...    True\n",
      "8   0  0  2  1  0   -9.0       3 arra...    True\n",
      "9   2  0  1  1  0   -9.0       2 arra...    True\n",
      "24  0  1  3  0  0   -9.0       2 arra...    True\n",
      "25  1  0  2  0  1   -9.0       1 arra...    True\n",
      "26  0  0  0  1  1   -9.0       2 arra...    True\n",
      "38  2  1  0  0  1   -9.0       1 arra...    True\n",
      "10  0  0  2  0  1   -8.0       1 arra...    True\n",
      "11  2  0  3  0  0   -8.0       2 arra...    True\n",
      "27  1  0  1  1  0   -8.0       1 arra...    True\n",
      "28  0  2  1  0  0   -8.0       1 arra...    True\n",
      "35  0  0  0  0  2   -8.0       1 arra...    True\n",
      "12  1  0  1  0  1   -7.0       1 arra...    True\n",
      "13  2  0  0  1  0   -7.0       4 arra...    True\n",
      "14  1  0  3  0  0   -7.0       1 arra...    True\n",
      "15  0  0  1  1  0   -7.0       1 arra...    True\n",
      "29  0  1  2  0  0   -7.0       1 arra...    True\n",
      "16  1  0  0  1  0   -6.0       2 arra...    True\n",
      "17  4  0  1  0  0   -6.0       1 arra...    True\n",
      "30  2  0  0  0  1   -6.0       1 arra...    True\n",
      "18  5  0  0  0  0   -5.0       1 arra...    True\n",
      "19  0  1  1  0  0   -5.0       1 arra...    True\n",
      "20  2  1  0  0  0   -5.0       1 arra...    True\n",
      "31  1  0  0  0  1   -5.0       1 arra...    True\n",
      "37  0  0  0  1  0   -5.0       1 arra...    True\n",
      "32  0  0  0  0  1   -4.0       1 arra...    True\n",
      "33  1  1  0  0  0   -4.0       1 arra...    True\n",
      "36  3  0  0  0  0   -3.0       1 arra...    True\n",
      "21  2  0  0  0  0   -2.0       2 arra...    True\n",
      "['INTEGER', 39 rows, 56 samples, 5 variables]\n"
     ]
    }
   ],
   "source": [
    "sampleset=sol_problema(result)\n",
    "sol_factibles(sampleset)"
   ]
  },
  {
   "cell_type": "markdown",
   "id": "84905865-1503-4af3-9683-7d1aaad69ce7",
   "metadata": {},
   "source": [
    "\n",
    "<b>Comentarios</b>\n",
    "\n",
    "- La solución óptima más diversa es x3,x5=2 con utilidad acumulada =12\n",
    "- La solución cuasi óptima es x3,x4,x5=1, con utilidad total=11 \n",
    "\n",
    "<b>nota:</b>\n",
    "\n",
    "Con fl>>10 se producen ausencias significativas, p.e.\n",
    "\n",
    "x1 x2 x3 x4 x5=[0 1 0 0 2], f=-11 no es evaluada como solución candidata."
   ]
  },
  {
   "cell_type": "markdown",
   "id": "955d31f7-5855-4ac0-a7f8-e2f6c5670d42",
   "metadata": {},
   "source": [
    "### Mejoras\n",
    "\n",
    "Es trivial ampliar el problema para que contemple restricción de peso y volumen."
   ]
  },
  {
   "cell_type": "code",
   "execution_count": null,
   "id": "5cfc6edd-219a-40bb-8b8d-36c276e5b7bb",
   "metadata": {},
   "outputs": [],
   "source": []
  }
 ],
 "metadata": {
  "kernelspec": {
   "display_name": "Python 3 (ipykernel)",
   "language": "python",
   "name": "python3"
  },
  "language_info": {
   "codemirror_mode": {
    "name": "ipython",
    "version": 3
   },
   "file_extension": ".py",
   "mimetype": "text/x-python",
   "name": "python",
   "nbconvert_exporter": "python",
   "pygments_lexer": "ipython3",
   "version": "3.10.11"
  }
 },
 "nbformat": 4,
 "nbformat_minor": 5
}
