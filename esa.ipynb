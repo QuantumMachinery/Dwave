{
 "cells": [
  {
   "cell_type": "markdown",
   "id": "da40bd2f-1d24-4bdf-be58-8eef2a42ee7f",
   "metadata": {
    "tags": []
   },
   "source": [
    "## Planificación de la producción: Agencia Espacial Europea\n",
    "\n",
    "V1.0, Julio 23\n",
    "\n",
    "#### Problema CQM c/ reformulación Qubo\n",
    "\n",
    "La Agencia Espacial Europea contará con un presupuesto de 2’4 millones de euros para\n",
    "financiar misiones sobre Observación de la Tierra y programas de Transporte Espacial.\n",
    "\n",
    "- Cada misión supone una inversión de 200.000 euros y cada programa 100.000 euros. \n",
    "\n",
    "- El número de Misiones debe de ser al menos 4, pero no más de la mitad del de Programas.\n",
    "\n",
    "- Se estima que el retorno económico es del 60% del invertido en Misiones y del 40% en Programas\n",
    "\n",
    "\n",
    "<b>¿cuántas misiones y programas se deben llevar a cabo para maximizar el retorno</b>\n",
    "\n",
    "\n",
    "<b>Planteamiento algebraico:</b>\n",
    "\n",
    "    - x, y ; variables  Misiones y  Programas\n",
    "\n",
    "    - Función objetivo 1: minimizar{F(x,y)=-0'6*x - 0'4*y}\n",
    "    \n",
    "\n",
    "- Restricciones:\n",
    "\n",
    "    - 2x1 + y <= 24\n",
    "    - x >= 4\n",
    "    - x - 0.5y <=0 \n",
    "\n",
    "\n",
    "\n"
   ]
  },
  {
   "cell_type": "code",
   "execution_count": 4,
   "id": "77bae138-26c9-4b39-b5a2-63c2d5f0a4df",
   "metadata": {},
   "outputs": [],
   "source": [
    "# Recursos\n",
    "import dimod\n",
    "from dimod import ConstrainedQuadraticModel, ExactCQMSolver, Integer\n",
    "from dwave.system import DWaveSampler, EmbeddingComposite\n",
    "\n",
    "# Funciones auxiliares\n",
    "\n",
    "def sol_factibles(sampleset,n=None):\n",
    "    # Resultados\n",
    "    \n",
    "    subset=sampleset.filter(lambda s: s.is_feasible).aggregate()\n",
    "    \n",
    "    if not n:\n",
    "        print(f\"\\nLas {len(subset)} soluciones factibles al problema son:\\n\")\n",
    "    else:\n",
    "        print(f\"\\nImprimiendo las {n}/{len(subset)} primeras soluciones factibles:\\n\")\n",
    "    \n",
    "    print(subset.slice(n))\n",
    "    \n",
    "    \n",
    "def sol_problema(result):\n",
    "    # Agregación de los n reads\n",
    "    samples = []\n",
    "    ocurrencias = []\n",
    "\n",
    "    for s in result.data():\n",
    "        samples.append(invert(s.sample))\n",
    "        ocurrencias.append(s.num_occurrences)\n",
    "\n",
    "    sampleset = dimod.SampleSet.from_samples_cqm(samples,cqm,num_occurrences=ocurrencias)\n",
    "    return(sampleset)"
   ]
  },
  {
   "cell_type": "markdown",
   "id": "467459a4-0b79-4570-96cf-99796e0594bc",
   "metadata": {},
   "source": [
    "#### Caso simple\n",
    "\n",
    "Obtener dimensionado surtidos atendiendo al criterio de maximizar el importe de venta "
   ]
  },
  {
   "cell_type": "code",
   "execution_count": 6,
   "id": "8a0d61ff-6203-4c85-aa9a-7d0d471539b1",
   "metadata": {},
   "outputs": [
    {
     "name": "stdout",
     "output_type": "stream",
     "text": [
      "Planteamiento problema CQM\n",
      "==========================\n",
      "Constrained quadratic model: 2 variables, 3 constraints, 7 biases\n",
      "\n",
      "Objective\n",
      "  -0.6*Integer('x') - 0.4*Integer('y')\n",
      "\n",
      "Constraints\n",
      "  Presupuesto: 2*x + y <= 24: 2*Integer('x') + Integer('y') <= 24.0\n",
      "  Misiones mínimas: x>=4: Integer('x') >= 4.0\n",
      "  Misiones/Programas x -0.5y <=0: Integer('x') - 2*Integer('y') <= 0.0\n",
      "\n",
      "Bounds\n",
      "  0.0 <= Integer('x') <= 24.0\n",
      "  0.0 <= Integer('y') <= 24.0\n",
      "\n"
     ]
    }
   ],
   "source": [
    "## Definición del problema CQM\n",
    "\n",
    "x = Integer('x',upper_bound=24)\n",
    "y = Integer('y',upper_bound=24)\n",
    "\n",
    "cqm = ConstrainedQuadraticModel()\n",
    "\n",
    "\n",
    "# Función objetivo: Maximizar (ventas-costes)o minimizar (-ventas+costes)\n",
    "\n",
    "cqm.set_objective(-0.6*x - 0.4*y)\n",
    "\n",
    "# Restricciones\n",
    "\n",
    "cqm.add_constraint(2*x + y <= 24, \"Presupuesto: 2*x + y <= 24\")\n",
    "cqm.add_constraint(x >= 4,\"Misiones mínimas: x>=4\")\n",
    "cqm.add_constraint(x - 2*y <= 0,\"Misiones/Programas x -0.5y <=0\")\n",
    "print(\"Planteamiento problema CQM\")\n",
    "print(\"==========================\")\n",
    "print(cqm)"
   ]
  },
  {
   "cell_type": "markdown",
   "id": "02eed209-1aac-416b-bf44-4891b216df25",
   "metadata": {},
   "source": [
    "### Solución por fuerza bruta"
   ]
  },
  {
   "cell_type": "code",
   "execution_count": 7,
   "id": "edf95fa5-cad3-4fc2-b8b0-6896d19a0883",
   "metadata": {
    "tags": []
   },
   "outputs": [],
   "source": [
    "result = ExactCQMSolver().sample_cqm(cqm)"
   ]
  },
  {
   "cell_type": "code",
   "execution_count": 8,
   "id": "26c00d6c-2002-4f56-a16f-50aa21ceced0",
   "metadata": {
    "tags": []
   },
   "outputs": [
    {
     "name": "stdout",
     "output_type": "stream",
     "text": [
      "\n",
      "Imprimiendo las 10/51 primeras soluciones factibles:\n",
      "\n",
      "  x  y energy num_oc. is_sat. is_fea.\n",
      "0 4 16   -8.8       1 arra...    True\n",
      "1 5 14   -8.6       1 arra...    True\n",
      "2 6 12   -8.4       1 arra...    True\n",
      "3 4 15   -8.4       1 arra...    True\n",
      "4 5 13   -8.2       1 arra...    True\n",
      "5 7 10   -8.2       1 arra...    True\n",
      "6 8  8   -8.0       1 arra...    True\n",
      "7 6 11   -8.0       1 arra...    True\n",
      "8 4 14   -8.0       1 arra...    True\n",
      "9 7  9   -7.8       1 arra...    True\n",
      "['INTEGER', 10 rows, 10 samples, 2 variables]\n"
     ]
    }
   ],
   "source": [
    "solCPU=sol_factibles(result,10)"
   ]
  },
  {
   "cell_type": "markdown",
   "id": "b787f2c1-4738-45e4-987c-c00634b0976d",
   "metadata": {},
   "source": [
    "\n",
    "<b>Resultados:</b>\n",
    "\n",
    "- Misiones: 4\n",
    "\n",
    "- Programas: 16\n",
    "\n",
    "- Coste: 2.4M\n"
   ]
  },
  {
   "cell_type": "markdown",
   "id": "349c04dd-67e0-4d70-beb6-7b3abca3e796",
   "metadata": {},
   "source": [
    "### Solución con QPU"
   ]
  },
  {
   "cell_type": "code",
   "execution_count": 13,
   "id": "a04d4ffb-2199-4848-ac50-a001994c49fc",
   "metadata": {
    "tags": []
   },
   "outputs": [],
   "source": [
    "#reformulación qubo y sampling\n",
    "\n",
    "fl=20 # factor penalizador de lagrange\n",
    "\n",
    "qubo, invert = dimod.cqm_to_bqm(cqm, lagrange_multiplier = fl)\n",
    "\n",
    "sampler = EmbeddingComposite(DWaveSampler())\n",
    "result = sampler.sample(qubo, num_reads=2000)"
   ]
  },
  {
   "cell_type": "code",
   "execution_count": 14,
   "id": "2d2e80d8-808e-45b0-92c9-ce807d6c460d",
   "metadata": {},
   "outputs": [
    {
     "name": "stdout",
     "output_type": "stream",
     "text": [
      "\n",
      "Imprimiendo las 5/50 primeras soluciones factibles:\n",
      "\n",
      "  x  y energy num_oc. is_sat. is_fea.\n",
      "0 4 16   -8.8       1 arra...    True\n",
      "1 5 14   -8.6       1 arra...    True\n",
      "2 4 15   -8.4       3 arra...    True\n",
      "3 6 12   -8.4       6 arra...    True\n",
      "4 7 10   -8.2       5 arra...    True\n",
      "['INTEGER', 5 rows, 16 samples, 2 variables]\n"
     ]
    }
   ],
   "source": [
    "sampleset=sol_problema(result)\n",
    "solQPU=sol_factibles(sampleset,5)"
   ]
  },
  {
   "cell_type": "markdown",
   "id": "b38afd6c-5be7-444f-87c9-759e9216426b",
   "metadata": {},
   "source": [
    "### <b>Analizando los resultados del sampler QPU</b>\n",
    "\n",
    "- Se ha formulado un problema Qubo desde un problema CQM\n",
    "\n",
    "- El espacio de soluciones factibles es igual al de fuerza bruta\n",
    "\n",
    "- Se han replicado los valores óptimos obtenidos por fuerza bruta\n",
    "\n",
    "- num_reads=2000 solo produce una ocurrencia del valor óptimo, subir a 3000.\n",
    "\n"
   ]
  }
 ],
 "metadata": {
  "kernelspec": {
   "display_name": "Python 3 (ipykernel)",
   "language": "python",
   "name": "python3"
  },
  "language_info": {
   "codemirror_mode": {
    "name": "ipython",
    "version": 3
   },
   "file_extension": ".py",
   "mimetype": "text/x-python",
   "name": "python",
   "nbconvert_exporter": "python",
   "pygments_lexer": "ipython3",
   "version": "3.10.11"
  }
 },
 "nbformat": 4,
 "nbformat_minor": 5
}
