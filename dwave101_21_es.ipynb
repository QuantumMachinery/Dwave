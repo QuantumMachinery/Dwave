{
 "cells": [
  {
   "cell_type": "markdown",
   "metadata": {
    "id": "9Ld6xO_gU1GD"
   },
   "source": [
    "# QA - Quantum Annealing - Dwave 101\n",
    "\n",
    "V2.1, Julio 2023"
   ]
  },
  {
   "cell_type": "markdown",
   "metadata": {},
   "source": [
    "Estructura SDK Ocean y sus paquetes\n",
    "\n",
    "https://docs.ocean.dwavesys.com/en/stable/\n",
    "\n",
    "\n",
    "Documento referencial fundamental:\n",
    "\n",
    "https://support.dwavesys.com/hc/en-us/articles/360045654674-Which-Solver-Sampler-Should-I-Use-\n",
    "\n",
    "Documentos iniciales esencial sobre solvers, tipos etc:\n",
    "\n",
    "https://docs.dwavesys.com/docs/latest/doc_getting_started.html\n",
    "\n",
    "\n",
    "https://docs.dwavesys.com/docs/latest/c_solver_parameters.html#:~:text=1000%2C%20**reverse_anneal_params)-,annealing_time,returned%20in%20the%20timing%20structure."
   ]
  },
  {
   "cell_type": "markdown",
   "metadata": {},
   "source": [
    "## Parte I\n",
    "## Arquitectura software Dwave/Ocean"
   ]
  },
  {
   "cell_type": "markdown",
   "metadata": {},
   "source": [
    "### Modelos: Ising,Quobo, BQM y CQM\n",
    "\n",
    "Documentación de referencia\n",
    "\n",
    "https://docs.ocean.dwavesys.com/en/stable/docs_dimod/reference/models.html\n",
    "\n",
    "Durante la primera parte de este tutorial se van a desplegar los recursos computacionales, tanto clásicos como cuánticos para plantear y resolver problemas de optimización,  de dependencia lineal y/o cuadrática entre sus variables.\n",
    "\n",
    "A la hora de abordar esta tarea existen 2 modelos de variable binaria bien diferenciados: el modelo Ising, con asignaciones {-1,+1}, también conocidos como problemas de variable spin, y el modelo Quobo, con asignaciones {0,1}. Ambos modelos son cuadráticos, es decir, contemplan relaciones cuadráticas entre sus variables. \n",
    "\n",
    "El modelo Ising es inherente a una arquitectura cuántica porque la función de coste a minimizar, un hamiltoniano en realidad, se sintetiza como sumandos de productos tensoriales de puertas de pauli - {x},{I} y {Z} -, bloques fundamentales de cualquier computador cuántico. \n",
    "\n",
    "El modelo Qubo en cambio es habitual en las ciencias de la computación como estrategia para resolver problemas de programación lineal y cuadrática de variables binarias {0,1}.\n",
    "\n",
    "Por fortuna existe una equivalencia matemática (excepto un factor de offset) entre los modelos Ising y Quobo, por lo que, en principio, cualquier problema clásico Qubo, puede replantearse fácilmente para un computador cuántico. Se dice que ambos son modelos cuadráticos binarios o `BQM`\n",
    "\n",
    "También, como es sabido, los problemas de programación  (de variable binaria, discreta o contínua) añaden a la función objetivo una o varias ecuaciones con restricciones para sus variables, expresadas  como igualdades o desigualdades. \n",
    "\n",
    "Estas ecuaciones no siempre se pueden satisfacer en su totalidad, bien  por la inherencia probabilística de la computación cuántica, la decoherencia en sus estados,  o simplemente por las limitaciones en el número de iteraciones de la algoritmia.  En estos casos la solución propuesta  será la que arroje una función objetivo mínima, con el mayor número de restricciones satisfechas.\n",
    "\n",
    "Ahora bien, el  formalismo Qubo no contempla restricciones (de ahí su nombre). Lo mismo le sucede al modelo Ising. En ambos casos se habla de modelos BQM o cuadráticos binarios sin restricciones.\n",
    "\n",
    "Con  la finalidad de generalizar estos modelos a los problemas con restricciones,  se ha recurrido tradicionalmente a la siguiente estratagia \n",
    "\n",
    "- convertir las restricciones con desigualdades en igualdades mediante variables auxiliares (slack)\n",
    "\n",
    "- incorporar estas restricciones a la función objetivo de los modelos BQM como cuadrados (para evitar sesgos debido al sigo) de sumandos que actuán como penalizaciones cuando se incumplen las restricciones.\n",
    "\n",
    "- Usar un factor multiplicador, factor de Lagrange,  para cada sumando añadido, y  que amplifique su aporte a la función objetivo cuando no se cumple la restricción. El ajuste de este factor es heurístico y juega un papel crítico.\n",
    "\n",
    "Bien, esta es la esencia de los modelos cuadráticos con restricciones, `CQM`,  y de sus variantes de variable discreta o contínua.\n",
    "\n",
    "<b> Ejemplo conversión  CQM-BQM </b>\n",
    "\n",
    "<b>Problema:</b>\n",
    "\n",
    "Función objetivo: f(x,y)=-3xy + x\n",
    "\n",
    "Restricción: x+y=1\n",
    "\n",
    "<b>Modelo CQM:</b>\n",
    "\n",
    "Función objetivo: f(x,y)=-3xy + x + 10(x+y-1)^2\n",
    "\n",
    "La penalización P(x,y)= 10(x+y-1)^2 incluye el factor de lagrange 10. Cuando x+y=1, P(x,y)=0 y no interviene en el proceso de optimización de la función objetivo.\n",
    "\n",
    "\n"
   ]
  },
  {
   "cell_type": "markdown",
   "metadata": {},
   "source": [
    "### `solvers` y `samplers` en Dwave/Ocean\n",
    "\n",
    "El annealing cuántico en el que se fundamentan los QPU de Dwave, está basado en la computación adiabática, con un hamiltoniano inicial de fácil preparación, y al que se hace evolucionar en el tiempo hacía el hamiltoniano problema, siendo la función de coste a minimizar, la energía de este hamiltoniano problema. En un annealer el principio de evolución adiabática solo es inspiradora, por lo que no está garantizada que el estado final corresponda al de mínima energía del problema planteado. \n",
    "\n",
    "En el siguiente enlace se desarrolla un poco más esta base fundacional.\n",
    "\n",
    "https://docs.dwavesys.com/docs/latest/c_qpu_annealing.html\n",
    "\n",
    "En D-Wave, un `solver` es una abstracción de alto nivel que abarca los componentes hardware y software necesarios para resolver un problema de optimización determinado. Consiste en una colección de herramientas y algoritmos que se utilizan para mapear el problema de optimización en el hardware del annealer.\n",
    "\n",
    "El solver encapsula todo el proceso de formulación de la función de coste del problema,y de sus restricciones, brindando un interfaz que permita a los usuarios ingresar el problema de una manera que se pueda luego transpilar en el annealer cuántico.  \n",
    "\n",
    "Los solvers también manejan varios detalles técnicos, como configurar la conexión con el annealer, envío a la nube para su ejecución y recuperación de los resultados.\n",
    "\n",
    "Por otro lado, un `sampler` es un componente de bajo nivel que interactúa directamente con el hardware del annealer. Toma un problema como entrada y devuelve muestras de la distribución de posibles soluciones. Un sampler no realiza ninguna formulación o interpretación del problema de alto nivel, ni aplica ninguna restricción a las soluciones que devuelve. Simplemente toma un problema en un formato particular, lo mapea en el annealer cuántico, lo ejecuta n `reads`, equivalente a los `runs`, y devuelve el conjunto de muestras o `samples`, que son las configuraciones de los qbits-variables que se estiman ser soluciones al problema.\n",
    "\n",
    "En Dwave un ´sampler´ acepta un problema formulado según un `modelo cuadrático binario` (BQM), -mediante variables binarias- ,`modelo cuadrático discreto` (DQM) -con variables discretas-,  o, desde 2022, incluso como un `modelo cuadrático contínuo` (CQM), permitiendo variables reales.\n",
    "\n",
    "En los tres casos devuelve asignaciones de variables para dicho problema. Los ´samplers´ generalmente intentan encontrar valores discretos de minimización de la función objetivo, pero también pueden muestrear distribuciones definidas por el problema.\n",
    "\n",
    "Nota: el siguiente pdf sobre el `Hybrid Solver Service` (HSS) introduce los modelos BQM,DQM y CQM:\n",
    "\n",
    "https://www.dwavesys.com/media/soxph512/hybrid-solvers-for-quadratic-optimization.pdf\n",
    "\n",
    "La clase de referencia es `DWaveSampler`, que puede usar tanto solvers físicos como simuladores. En la documentación de `samplers`que se indican a continuación se pueden consultar otras clases asociadas a los recursos de `samplers`.\n",
    "\n",
    "La adaptación del problema al hardware qpu, o transpilación, se denomina `embedding` o incrustación en este ecosistema.\n",
    "\n",
    "#### Documentación específica:\n",
    "\n",
    "Getting Started oficial:\n",
    "\n",
    "https://docs.dwavesys.com/docs/latest/doc_getting_started.html\n",
    "\n",
    "Parámetros Solvers:\n",
    "\n",
    "https://docs.dwavesys.com/docs/latest/doc_solver_ref.html\n",
    "\n",
    "Samplers\n",
    "\n",
    "https://docs.ocean.dwavesys.com/projects/system/en/stable/reference/samplers.html\n",
    "\n",
    "Algoritmos de grafos proporcionados\n",
    "\n",
    "https://docs.ocean.dwavesys.com/projects/dwave-networkx/en/latest/reference/algorithms/index.html\n"
   ]
  },
  {
   "cell_type": "markdown",
   "metadata": {
    "id": "JVihxhS9VEKJ"
   },
   "source": [
    "### Instalación SDK Ocean"
   ]
  },
  {
   "cell_type": "code",
   "execution_count": 2,
   "metadata": {
    "id": "SKFxM8wQANz2"
   },
   "outputs": [],
   "source": [
    "# pip install dwave-ocean-sdk==6.0.1"
   ]
  },
  {
   "cell_type": "markdown",
   "metadata": {
    "id": "jW-1DjgJVbvU"
   },
   "source": [
    "Configuración de la cuenta. \n",
    "Mejor hacerlo desde consola para mayor claridad. Activar previamente env ocean!\n",
    "\n",
    "Solo es necesario la primera vez\n",
    "\n",
    "Documentación de la API de acceso a Dwave:\n",
    "\n",
    "https://docs.ocean.dwavesys.com/en/stable/overview/sapi.html"
   ]
  },
  {
   "cell_type": "code",
   "execution_count": 3,
   "metadata": {
    "id": "9WoQF03-EaGu"
   },
   "outputs": [],
   "source": [
    "# !dwave config create -> mejor desde consola"
   ]
  },
  {
   "cell_type": "markdown",
   "metadata": {},
   "source": [
    "### Biblioteca `dimod`\n",
    "\n",
    "En la jerarquía de la arquitecturas sofware Dwave/Ocean, que se puede consultar aquí:\n",
    "\n",
    "https://docs.ocean.dwavesys.com/en/stable/\n",
    "\n",
    "la biblioteca `dimod` juega un papel fundamental ya que es una especie de parser entre el problema de usuario y los recursos de computación, tanto clásicos como cuánticos.\n",
    "\n",
    "Efectivamente, consultando el siguiente documento:\n",
    "\n",
    "https://docs.ocean.dwavesys.com/en/stable/docs_dimod/index.html\n",
    "\n",
    "Se dice que dentro del SDK Ocean, la biblioteca `dimod` es una API para samplers, proporcionado por ejemplo la clase `BQM` (binary quadratic model) que permite plantear problemas de optimización usando:\n",
    "\n",
    "- Modelo Ising para variables {-1,1}\n",
    "- Modelos Qubo, tanto cuadráticos como de orden superior!- para variables {0,1}\n",
    "\n",
    "`dimod`también  permite usar varios samplers para probar y depurar los algoritmos con cpu local, y que no consumen por tanto tiempo-máquina:\n",
    "\n",
    "Una lista de los mismos:\n",
    "\n",
    "https://docs.ocean.dwavesys.com/en/stable/docs_dimod/reference/sampler_composites/samplers.html\n",
    "\n",
    "Pero especialmente, estamos interesados en samplers cuánticos reales (QPUs), para los que también actúa como interfase:\n",
    "\n",
    "https://docs.ocean.dwavesys.com/en/stable/docs_system/reference/samplers.html"
   ]
  },
  {
   "cell_type": "markdown",
   "metadata": {
    "tags": []
   },
   "source": [
    "## Dwave y los modelos Ising y Qubo\n",
    "Se empezará esta inmersión al ecosistema Ocean/Dwave con un problema Ising.\n",
    "\n",
    "Un problema Ising es un problema BQM que asigna valores {-1,+1} a cada variable del problema. En su adaptación a la QC estos valores los vincularemos a la base computacional. Así el valor +1 lo asociaremos a un cúbit en estado |0> y un valor -1 al estado |1>. \n",
    "\n",
    "De este modo, si un problema Ising de dos variables, v1 y v2, minimiza su energía para los valores {v1,v2}={-1,-1}, esto equivaldrá en formalismo cuántico al estado |q1q2>=|11>= [0001]\n",
    "\n",
    "El modelo Ising se inspira en el hamiltoniano ising de la física cuántica, exitoso a la hora de explicar el ferromagnetismo. Un recordatorio del mismo.\n",
    "\n",
    "https://en.wikipedia.org/wiki/Ising_model\n",
    "\n",
    "\n",
    "Por otro lado, los problemas QUBO tienen su origen en las ciencias de la computación, para plantear y resolver problemas de optimización de variables binarias {0} y {1}.\n",
    "\n",
    "Ambos enfoques son modelos cuadráticos binarios  (BQM), <b>equivalentes</b>, y la conversión entre ellos es trivial.\n",
    "\n",
    "\n",
    "En el siguiente documento se explica su impronta en el ecosistema Dwave.\n",
    "\n",
    "https://docs.dwavesys.com/docs/latest/c_gs_3.html#getting-started-concepts\n",
    "\n",
    "\n",
    "<b> Observación importante: </b>\n",
    "\n",
    "\n",
    "Tal como recoge el documento anterior, es habitual en QC que el signo (-) que precede a los sumatorios de las componentes longitudinales y transversales del formalismo  Ising queda codificado en los propios parámetros Jij y hi. Bajo esta consideración:\n",
    "\n",
    "\n",
    "##### Parámetro de acoplamiento cuadrático J:\n",
    "\n",
    ". 𝐉 < 0 : Acoplamiento ferromagnético; los qubits acoplados tienden a estar en el mismo estado, (1,1)  o (−1,−1)\n",
    "\n",
    ". 𝐉 > 0 : Acoplamiento antiferromagnético; los qubits acoplados tienden a estar en estados opuestos, (−1,1) o (1,−1)\n",
    "\n",
    ". 𝐉 = 0 : Sin acoplamiento; Los estados de qubit no se afectan entre sí.\n",
    "\n",
    "##### Parámetro de acoplamiento lineal h:\n",
    "\n",
    "Debido a que el annealing cuántico minimiza la función de energía del hamiltoniano y ℎ𝑖\n",
    "es el sesgo de la variable 𝑖, los estados vi que contribuyen a la minimización energética son aquellos de signo contrario al del sesgo.\n",
    "Así, para  ℎ𝑖 =-1, el estado vi que favorece la minimización es vi=+1\n",
    "\n",
    "#### La clase `sample_ising`\n",
    "\n",
    "Heredado de la clase `sample()`, convierte un problema Ising en un modelo BQM y luego invoca a `sample()`.\n",
    "\n",
    "- Parámetros\n",
    "\n",
    "    - h (dict/list) – Sesgos lineales del problema de Ising. Si es un dict, debe tener la forma {v: sesgo, …} donde `v`es una variable de espín (+1,-1) y el sesgo es su sesgo asociado. Si es una lista, se trata como una lista de sesgos donde los índices son las etiquetas de las variables.\n",
    "\n",
    "    - J (dict[(variable i, variable j), bias]) – Sesgos cuadráticos del problema Ising.\n",
    "    \n",
    "#### La clase  `sample_quobo`\n",
    "\n",
    "De modo equivalente, este método convierte un modelo QUBO (0,1) a un modelo BQM, y luego invoca `sample()`-\n",
    "\n",
    "- Parámetros\n",
    "\n",
    "    - Parámetros - Q (dict): coeficientes de sesgos de la matriz Q de un problema QUBO. Es un dict de la forma {(i, j): aij, …} donde i, j, son variables con valores binarios y aij es su coeficiente asociado.\n",
    "\n",
    "\n",
    "##### Nota importante sobre `sample()`: \n",
    "\n",
    "`sample()` se aplica estrictamente a un modelo BQM, que ha de ser compatible con la lista de nodos y de aristas de la geometría QPU que se esté usando.\n",
    "\n",
    "El siguiente ejemplo de código permite obtener tales recursos para un sistema Dwave concreto, y posteriormente asignar con determinada estrategia nodos a qb_a, qb_b y qb_c.\n"
   ]
  },
  {
   "cell_type": "code",
   "execution_count": 4,
   "metadata": {},
   "outputs": [
    {
     "name": "stdout",
     "output_type": "stream",
     "text": [
      "30\n",
      "{2985, 2955, 45, 2970, 2940, 31}\n",
      "2985 2955\n"
     ]
    }
   ],
   "source": [
    "# Interactuando con la arquitectura física\n",
    "\n",
    "from dwave.system import DWaveSampler\n",
    "sampler = DWaveSampler()\n",
    "\n",
    "# sampler.nodelist\n",
    "# sampler.edgelist\n",
    "\n",
    "qb_a = sampler.nodelist[0] # asigna primer nodo de la QPU\n",
    "nodos_ady= iter(sampler.adjacency[qb_a]) #obtiene todos los adyacentes al nodo asignado a qb_a\n",
    "qb_b = next(nodos_ady) #asigna primer adyacente a qb_b\n",
    "qb_c = next(nodos_ady) #asigna segundo adyacente a qb_c\n",
    "\n",
    "print(qb_a)\n",
    "print(sampler.adjacency[qb_a])\n",
    "print(qb_b,qb_c)"
   ]
  },
  {
   "cell_type": "markdown",
   "metadata": {},
   "source": [
    "\n",
    "<b> Documentación oficial: </b>\n",
    "\n",
    "https://docs.ocean.dwavesys.com/projects/system/en/stable/reference/generated/dwave.system.samplers.DWaveSampler.sample_ising.html#dwave.system.samplers.DWaveSampler.sample_ising\n",
    "\n",
    "https://docs.ocean.dwavesys.com/projects/system/en/stable/reference/generated/dwave.system.samplers.DWaveSampler.sample_qubo.html#dwave.system.samplers.DWaveSampler.sample_qubo\n",
    "\n",
    "https://docs.ocean.dwavesys.com/projects/system/en/stable/reference/generated/dwave.system.samplers.DWaveSampler.sample.html#dwave.system.samplers.DWaveSampler.sample"
   ]
  },
  {
   "cell_type": "markdown",
   "metadata": {},
   "source": [
    "## Casos de estudio\n",
    "\n",
    "Introducidos los conceptos fundamentales y las nociones básicas del ecosistema Dwave, a continuación se van a desplegar recursos clave de este SDK para resolver problemas germinales sencillos, usando diferentes modelos y técnicas."
   ]
  },
  {
   "cell_type": "markdown",
   "metadata": {},
   "source": [
    "#### Caso 1: Ising antiferromagnético sin campo longitudinal\n",
    "\n",
    "Enlazando con la sección anterior, se trata de encontrar la energía mínima de un sistema binario usando el modelo Ising, y empezando por este caso, con sesgos h nulos."
   ]
  },
  {
   "cell_type": "code",
   "execution_count": 5,
   "metadata": {},
   "outputs": [
    {
     "name": "stdout",
     "output_type": "stream",
     "text": [
      "   a  b energy num_oc. chain_.\n",
      "0 +1 -1   -1.5       5     0.0\n",
      "1 -1 +1   -1.5       5     0.0\n",
      "['SPIN', 2 rows, 10 samples, 2 variables]\n"
     ]
    },
    {
     "data": {
      "text/plain": [
       "-1.5"
      ]
     },
     "execution_count": 5,
     "metadata": {},
     "output_type": "execute_result"
    }
   ],
   "source": [
    "# caso 1: Ising antiferromagnético sin campo longitudinal\n",
    "\n",
    "from dwave.system import DWaveSampler, EmbeddingComposite\n",
    "\n",
    "sampler = EmbeddingComposite(DWaveSampler())\n",
    "h = {'a': 0, 'b': 0}   # sin sesgo longitudinal favorecedor\n",
    "J = {('a', 'b'): 1.5}  # J>0, favorece estados opuestos\n",
    "result = sampler.sample_ising(h, J, num_reads=10)\n",
    "print(result)\n",
    "result.first.energy"
   ]
  },
  {
   "cell_type": "markdown",
   "metadata": {},
   "source": [
    "#### Caso 2: Ising antiferromagnético con campo longitudinal"
   ]
  },
  {
   "cell_type": "code",
   "execution_count": 5,
   "metadata": {},
   "outputs": [
    {
     "name": "stdout",
     "output_type": "stream",
     "text": [
      "   a  b energy num_oc. chain_.\n",
      "0 +1 -1   -4.5      10     0.0\n",
      "['SPIN', 1 rows, 10 samples, 2 variables]\n"
     ]
    },
    {
     "data": {
      "text/plain": [
       "-4.5"
      ]
     },
     "execution_count": 5,
     "metadata": {},
     "output_type": "execute_result"
    }
   ],
   "source": [
    "# caso 2:  Ising antiferromagnético con campo longitudinal\n",
    "\n",
    "from dwave.system import DWaveSampler, EmbeddingComposite\n",
    "\n",
    "sampler = EmbeddingComposite(DWaveSampler())\n",
    "h = {'a': -1, 'b': 2}  # favorece el estado b=-1 (|1>)\n",
    "J = {('a', 'b'): 1.5}  # J>0, favorece estados opuestos\n",
    "result = sampler.sample_ising(h, J, num_reads=10)\n",
    "print(result)\n",
    "result.first.energy"
   ]
  },
  {
   "cell_type": "markdown",
   "metadata": {},
   "source": [
    "#### Caso 3: Ising ferromagnético con campo longitudinal"
   ]
  },
  {
   "cell_type": "code",
   "execution_count": 6,
   "metadata": {},
   "outputs": [
    {
     "name": "stdout",
     "output_type": "stream",
     "text": [
      "   a  b energy num_oc. chain_.\n",
      "0 -1 -1   -3.0       9     0.0\n",
      "1 +1 +1   -1.0       1     0.0\n",
      "['SPIN', 2 rows, 10 samples, 2 variables]\n"
     ]
    },
    {
     "data": {
      "text/plain": [
       "-3.0"
      ]
     },
     "execution_count": 6,
     "metadata": {},
     "output_type": "execute_result"
    }
   ],
   "source": [
    "# caso 3: Ising ferromagnético con campo longitudinal\n",
    "\n",
    "from dwave.system import DWaveSampler, EmbeddingComposite\n",
    "\n",
    "sampler = EmbeddingComposite(DWaveSampler())\n",
    "h = {'a': -1, 'b': 2}  # favorece el estado b=-1 (|1>)\n",
    "J = {('a', 'b'): -2}  # J>0, favorece estados iguales\n",
    "result = sampler.sample_ising(h, J, num_reads=10)\n",
    "print(result)\n",
    "result.first.energy"
   ]
  },
  {
   "cell_type": "markdown",
   "metadata": {},
   "source": [
    "##### Observamos que los resultados son consistentes con el argumentario inicial."
   ]
  },
  {
   "cell_type": "markdown",
   "metadata": {},
   "source": [
    "### Problema BLP\n",
    "\n",
    "A continuación se plantea un problema clásico de programación lineal binaria (BLP) con restricciones, y para cuya resolución se usa un enfoque BQM,  pero con coeficientes cuadráticos nulos. Esta variante recibe el nombre de `CQM` (modelo cuadrático con restricciones).\n",
    "\n",
    "Ocean dispone de una clase CQM, `ConstrainedQuadraticModel()`, con métodos tanto para resolver modelos en formalismo ising, `BinaryQuadraticModel.from_ising`, como qubo, `ConstrainedQuadraticModel().from_bqm`.\n",
    "\n",
    "Si se prefiere, también se le puede declarar la función objetivo y las restricciones directamente con los métodos `set_objective` y `add_constrains`, alternativa que se sigue en el siguiente ejemplo.\n",
    "\n",
    "Documentación:\n",
    "\n",
    "https://docs.ocean.dwavesys.com/en/stable/docs_dimod/reference/generated/dimod.ConstrainedQuadraticModel.from_quadratic_model.html"
   ]
  },
  {
   "cell_type": "code",
   "execution_count": 142,
   "metadata": {
    "id": "42ucb8VpFuKt"
   },
   "outputs": [],
   "source": [
    "# Modelo binario cuadrático con restricciones: CQM\n",
    "\n",
    "# Definición de las variables binarias {0,1}\n",
    "\n",
    "x0 = dimod.Binary(\"x0\")\n",
    "x1 = dimod.Binary(\"x1\")\n",
    "x2 = dimod.Binary(\"x2\")\n",
    "x3 = dimod.Binary(\"x3\")"
   ]
  },
  {
   "cell_type": "code",
   "execution_count": 143,
   "metadata": {
    "id": "7upiqt8eFzy3"
   },
   "outputs": [
    {
     "data": {
      "text/plain": [
       "'Segunda restricción'"
      ]
     },
     "execution_count": 143,
     "metadata": {},
     "output_type": "execute_result"
    }
   ],
   "source": [
    "#Definición de un problema de programación lineal binario (blp) con modelo CQM\n",
    "\n",
    "blp = dimod.ConstrainedQuadraticModel() #Modelo CQM\n",
    "\n",
    "blp.set_objective(-2*x0-3*x1+4*x2-x3)  # Función objetivo\n",
    "\n",
    "blp.add_constraint(x0 + 2*x1 <= 2, \"Primera restricción\")\n",
    "blp.add_constraint(x2 + x3 <= 1, \"Segunda restricción\")"
   ]
  },
  {
   "cell_type": "code",
   "execution_count": 144,
   "metadata": {
    "id": "hJF69F3LF5Dc"
   },
   "outputs": [
    {
     "name": "stdout",
     "output_type": "stream",
     "text": [
      "Variables:\n",
      "Variables(['x0', 'x1', 'x2', 'x3'])\n",
      "Objetivo:\n",
      "ObjectiveView({'x0': -2.0, 'x1': -3.0, 'x2': 4.0, 'x3': -1.0}, {}, 0.0, {'x0': 'BINARY', 'x1': 'BINARY', 'x2': 'BINARY', 'x3': 'BINARY'})\n",
      "Restricciones:\n",
      "{'Primera restricción': Le(ConstraintView({'x0': 1.0, 'x1': 2.0}, {}, 0.0, {'x0': 'BINARY', 'x1': 'BINARY'}), 2.0), 'Segunda restricción': Le(ConstraintView({'x2': 1.0, 'x3': 1.0}, {}, 0.0, {'x2': 'BINARY', 'x3': 'BINARY'}), 1.0)}\n"
     ]
    }
   ],
   "source": [
    "print(\"Variables:\")\n",
    "print(blp.variables)\n",
    "print(\"Objetivo:\")\n",
    "print(blp.objective)\n",
    "print(\"Restricciones:\") \n",
    "print(blp.constraints)"
   ]
  },
  {
   "cell_type": "markdown",
   "metadata": {},
   "source": [
    "Veamos ahora \n",
    "\n",
    "- Ensayos de soluciones adhoc\n",
    "\n",
    "- Métricas de restricciones:\n",
    "\n",
    "     - +m: la solución excede en +m unidades a la restricción\n",
    "     -  0: la restricción se cumple en su igualdad\n",
    "     - -m: la restricción se cumple con margen de m unidades\n",
    "     \n",
    "- Sampler de fuerza bruta\n",
    "    "
   ]
  },
  {
   "cell_type": "code",
   "execution_count": 145,
   "metadata": {
    "id": "V9Wtt3OlF_uK"
   },
   "outputs": [
    {
     "name": "stdout",
     "output_type": "stream",
     "text": [
      "Muestra {'x0': 1, 'x1': 1, 'x2': 1, 'x3': 1}\n",
      "Su coste -2.0\n",
      "Es factible? False\n",
      "Métrica restricciones:\n",
      "{'Primera restricción': 1.0, 'Segunda restricción': 1.0}\n"
     ]
    }
   ],
   "source": [
    "sample1 = {\"x0\":1, \"x1\":1, \"x2\":1, \"x3\":1}\n",
    "print(\"Muestra\", sample1)\n",
    "print(\"Su coste\", blp.objective.energy(sample1))\n",
    "print(\"Es factible?\",blp.check_feasible(sample1))\n",
    "print(\"Métrica restricciones:\")\n",
    "print(blp.violations(sample1))"
   ]
  },
  {
   "cell_type": "code",
   "execution_count": 146,
   "metadata": {
    "id": "tam0h2V1GmP9"
   },
   "outputs": [
    {
     "name": "stdout",
     "output_type": "stream",
     "text": [
      "Muestra {'x0': 0, 'x1': 0, 'x2': 1, 'x3': 1}\n",
      "Su coste 3.0\n",
      "Es factible? False\n",
      "Métrica restricciones:\n",
      "{'Primera restricción': -2.0, 'Segunda restricción': 1.0}\n"
     ]
    }
   ],
   "source": [
    "sample2 = {\"x0\":0, \"x1\":0, \"x2\":1, \"x3\":1}\n",
    "print(\"Muestra\", sample2)\n",
    "print(\"Su coste\", blp.objective.energy(sample2))\n",
    "print(\"Es factible?\",blp.check_feasible(sample2))\n",
    "print(\"Métrica restricciones:\")\n",
    "print(blp.violations(sample2))"
   ]
  },
  {
   "cell_type": "markdown",
   "metadata": {},
   "source": [
    "#### Samplers locales\n",
    "\n",
    "Como es obvio, la verificación adhoc de problemas de optimización solo tiene valor demostrativo, no resolutivo. Es conveniente automatizar este proceso, una forma de barrer el espacio de entrada de manera automática. El paquete `dimod` proporciona para ello varias clases de samplers: \n",
    "\n",
    "- exactos: barren todo el espacio de entrada. Son samplers de fuerza bruta. Reciben el nombre de `solvers exactos`. Este espacio de entrada admite cualquier modelo, incluso ising (clase `SimulatedAnnealingSampler`)\n",
    "\n",
    "- discretos: barren un subconjunto del espacio de entrada, por ejemplo siguiendo una estrategia aleatoria.\n",
    "\n",
    "Por definición estos samplers usan cpu local, no qpu, y por tanto están muy indicados para el prototipado de problemas.\n",
    "\n",
    "Por supuesto que también se pueden usar samplers cuánticos Dwave con diferentes estrategias.\n",
    "\n",
    "Documentación\n",
    "\n",
    "samplers dimod locales:\n",
    "\n",
    "https://docs.ocean.dwavesys.com/en/stable/docs_dimod/reference/sampler_composites/samplers.html\n",
    "\n",
    "samplers Q, y cuántico-clásicos Dwave:\n",
    "\n",
    "https://docs.ocean.dwavesys.com/en/stable/docs_samplers/index.html#\n",
    "\n",
    "\n"
   ]
  },
  {
   "cell_type": "markdown",
   "metadata": {},
   "source": [
    "##### ExactCQMSolver\n",
    "\n",
    "En el problema blp planteado se optará por un sampler de fuerza bruta que soporte el modelo CQM. \n",
    "\n",
    "La clase `ExactCQMSolver()` proporciona las soluciones para los 2^n estados del espacio de entradas, ordenando las mismas en función de energía creciente de la función de coste, y comprobando las restricciones del problema"
   ]
  },
  {
   "cell_type": "code",
   "execution_count": 147,
   "metadata": {
    "id": "xyQzxTkhGsZo"
   },
   "outputs": [
    {
     "name": "stdout",
     "output_type": "stream",
     "text": [
      "Lista de asignaciones\n",
      "   x0 x1 x2 x3 energy num_oc. is_sat. is_fea.\n",
      "11  1  1  0  1   -6.0       1 arra...   False\n",
      "3   1  1  0  0   -5.0       1 arra...   False\n",
      "9   0  1  0  1   -4.0       1 arra...    True\n",
      "1   0  1  0  0   -3.0       1 arra...    True\n",
      "10  1  0  0  1   -3.0       1 arra...    True\n",
      "2   1  0  0  0   -2.0       1 arra...    True\n",
      "15  1  1  1  1   -2.0       1 arra...   False\n",
      "7   1  1  1  0   -1.0       1 arra...   False\n",
      "8   0  0  0  1   -1.0       1 arra...    True\n",
      "0   0  0  0  0    0.0       1 arra...    True\n",
      "13  0  1  1  1    0.0       1 arra...   False\n",
      "5   0  1  1  0    1.0       1 arra...    True\n",
      "14  1  0  1  1    1.0       1 arra...   False\n",
      "6   1  0  1  0    2.0       1 arra...    True\n",
      "12  0  0  1  1    3.0       1 arra...   False\n",
      "4   0  0  1  0    4.0       1 arra...    True\n",
      "['INTEGER', 16 rows, 16 samples, 4 variables]\n"
     ]
    }
   ],
   "source": [
    "# Solver fuerza bruta ExactCQMSolver\n",
    "\n",
    "solver = dimod.ExactCQMSolver()\n",
    "solution = solver.sample_cqm(blp)\n",
    "\n",
    "print(\"Lista de asignaciones\")\n",
    "print(solution)"
   ]
  },
  {
   "cell_type": "markdown",
   "metadata": {},
   "source": [
    "\n",
    "De la tabla anterior se observa que la solución óptima, función de coste mínima,  corresponde a:\n",
    "\n",
    "[x0x1x2x3x4]=[0101]\n",
    "\n",
    "con valor f=-4.\n",
    "\n",
    "#### Extrayendo la solución óptima\n",
    "\n",
    "Se pueden extraer la solución factible de `menor energía` con el siguiente método:"
   ]
  },
  {
   "cell_type": "code",
   "execution_count": 148,
   "metadata": {
    "id": "9dRF20ktG2Wf",
    "tags": []
   },
   "outputs": [
    {
     "data": {
      "text/plain": [
       "Sample(sample={'x0': 0, 'x1': 1, 'x2': 0, 'x3': 1}, energy=-4.0, num_occurrences=1, is_satisfied=array([ True,  True]), is_feasible=True)"
      ]
     },
     "execution_count": 148,
     "metadata": {},
     "output_type": "execute_result"
    }
   ],
   "source": [
    "feasible_sols = solution.filter(lambda s: s.is_feasible)\n",
    "feasible_sols.first"
   ]
  },
  {
   "cell_type": "markdown",
   "metadata": {},
   "source": [
    "#### Nota importante\n",
    "\n",
    "<b> Al final de esta Parte I se volverá a este tipo de problemas, pero reformulándolo como un problema `bqm`, sin restricciones, y haciendo uso ya de samplers cuánticos. </b>\n",
    "\n",
    "Pasemos ahora a otro tipo interesante de problema clásico-cuántico: el maxcut."
   ]
  },
  {
   "cell_type": "markdown",
   "metadata": {},
   "source": [
    "### Un problema Maxcut \n",
    "\n",
    "El problema maxcut es un problema clásico de clasificación  del ML. En un grafo dado, con una topología de interconexiones arbitraria,  se trata de maximizar el número de aristas que interconectan nodos de diferente clase.\n",
    "\n",
    "Se va a ejemplarizar con un grafo sencillo:\n",
    "\n",
    "- 5 nodos\n",
    "\n",
    "- tolología planar de base cuadrada:  4 nodos en los vértices de las aristas de un cuadrado, y un quinto nodo en el centro del mismo. \n",
    "\n",
    "\n",
    "<b> En esta sección se van a indicar varias estrategías para afrontar este tipo de problemas, tanto con computación cuántica en nube, como con cpu local.</b>"
   ]
  },
  {
   "cell_type": "markdown",
   "metadata": {},
   "source": [
    "#### Maxcut y modelo Ising\n",
    "\n",
    "El formalismo Ising se adapta especialmente bien a este tipo de problemas, favoreciendo con un peso -1 a las configuraciones nodales de diferente clase, o penalizando con un peso de +1 cuando los nodos pertenecen a la misma clase.\n",
    "\n",
    "Por cada configuración nodal (espacio de entrada) se obtendrá una función de coste asociada, con el balance final entre premios y penalizanciones según que las diferentes aristas interconecten nodos de igual o diferente clase.\n",
    "\n",
    "Cada arista maxcut contribuye con -1 a la energía, cada arista no maxcut contribuye con +1. Así, la energía maxcut óptima es:\n",
    "\n",
    "- Emin= Num_aristas * -1\n",
    "\n",
    "\n",
    "En esta sección se vas a utilizar tanto samplers CPU como samplers QPU (DwaveSampler)\n",
    "\n",
    "Los parámetros del problema: J, h, BQM etc se pueden consultar en el siguiente link:\n",
    "\n",
    "https://docs.dwavesys.com/docs/latest/c_solver_problems.html\n",
    "\n",
    "Y de nuevo el enlace de referencia al modelo Ising.\n",
    "\n",
    "https://docs.dwavesys.com/docs/latest/c_gs_3.html#getting-started-concepts"
   ]
  },
  {
   "cell_type": "markdown",
   "metadata": {},
   "source": [
    "#### Especificación del problema maxcut con formalismo Ising\n",
    "\n",
    "A continuación se va a codificar el problema maxcut propuesto bajo el modelo Ising, con sesgos hi=0"
   ]
  },
  {
   "cell_type": "code",
   "execution_count": 30,
   "metadata": {
    "id": "UUFTKnf6FMb4"
   },
   "outputs": [],
   "source": [
    "# Modelo Maxcut Ising \n",
    "\n",
    "# prisma de base cuadrada,  4 nodos, `0-3`, en los vértices, con un quinto, `4`, como nodo central.\n",
    "\n",
    "J = {(0,1):1, (0,3):1, (0,4):1,(1,2):1, (1,4):1, (2,3):1, (2,4):1, (3,4):1}\n",
    "h = {} # sin campo externo\n"
   ]
  },
  {
   "cell_type": "markdown",
   "metadata": {},
   "source": [
    "#### Solución con sampler de fuerza bruta\n",
    "\n",
    "Con el sampler `ExactSolver()`y el método `sample_ising()`, se obtiene la función de coste para todo el espacio de entradas, es decir, para todas las configuraciones nodales, 2^5=32, en este caso."
   ]
  },
  {
   "cell_type": "code",
   "execution_count": 31,
   "metadata": {},
   "outputs": [
    {
     "name": "stdout",
     "output_type": "stream",
     "text": [
      "Soluciones Ising\n",
      "    0  1  2  3  4 energy num_oc.\n",
      "4  -1 +1 -1 +1 -1   -4.0       1\n",
      "11 -1 +1 -1 +1 +1   -4.0       1\n",
      "17 +1 -1 +1 -1 +1   -4.0       1\n",
      "30 +1 -1 +1 -1 -1   -4.0       1\n",
      "5  +1 +1 -1 +1 -1   -2.0       1\n",
      "8  -1 -1 -1 +1 +1   -2.0       1\n",
      "12 -1 +1 -1 -1 +1   -2.0       1\n",
      "14 +1 -1 -1 -1 +1   -2.0       1\n",
      "16 -1 -1 +1 -1 +1   -2.0       1\n",
      "25 +1 -1 +1 +1 -1   -2.0       1\n",
      "27 -1 +1 +1 +1 -1   -2.0       1\n",
      "29 +1 +1 +1 -1 -1   -2.0       1\n",
      "2  +1 +1 -1 -1 -1    0.0       1\n",
      "6  +1 -1 -1 +1 -1    0.0       1\n",
      "9  +1 -1 -1 +1 +1    0.0       1\n",
      "13 +1 +1 -1 -1 +1    0.0       1\n",
      "15 -1 -1 -1 -1 +1    0.0       1\n",
      "19 -1 +1 +1 -1 +1    0.0       1\n",
      "23 -1 -1 +1 +1 +1    0.0       1\n",
      "24 -1 -1 +1 +1 -1    0.0       1\n",
      "26 +1 +1 +1 +1 -1    0.0       1\n",
      "28 -1 +1 +1 -1 -1    0.0       1\n",
      "1  +1 -1 -1 -1 -1    2.0       1\n",
      "3  -1 +1 -1 -1 -1    2.0       1\n",
      "7  -1 -1 -1 +1 -1    2.0       1\n",
      "10 +1 +1 -1 +1 +1    2.0       1\n",
      "18 +1 +1 +1 -1 +1    2.0       1\n",
      "20 -1 +1 +1 +1 +1    2.0       1\n",
      "22 +1 -1 +1 +1 +1    2.0       1\n",
      "31 -1 -1 +1 -1 -1    2.0       1\n",
      "0  -1 -1 -1 -1 -1    8.0       1\n",
      "21 +1 +1 +1 +1 +1    8.0       1\n",
      "['SPIN', 32 rows, 32 samples, 5 variables]\n",
      "\n",
      "Aristas totales: 8\n",
      "Aristas óptimas: 4\n"
     ]
    }
   ],
   "source": [
    "import dimod\n",
    "\n",
    "maxcut_cpu = dimod.ExactSolver().sample_ising(h, J)\n",
    "print(\"Soluciones Ising\")\n",
    "print(maxcut_cpu)\n",
    "print(\"\\nAristas totales:\",len(J))\n",
    "print(\"Aristas óptimas:\",int(maxcut_cpu.first.energy+len(J)))"
   ]
  },
  {
   "cell_type": "markdown",
   "metadata": {},
   "source": [
    "#### Solución con sampler cuántico sobre modelo Ising\n",
    "\n",
    "Lanzar el problema maxcut sobre procesador cuántico solo requiere migrar el sampler cuántico e invocar el mismo método `sample_ising()`"
   ]
  },
  {
   "cell_type": "code",
   "execution_count": 32,
   "metadata": {},
   "outputs": [],
   "source": [
    "from dwave.system import DWaveSampler, EmbeddingComposite\n",
    "\n",
    "sampler = EmbeddingComposite(DWaveSampler())\n",
    "maxcut_qpu = sampler.sample_ising(h, J, num_reads=10)"
   ]
  },
  {
   "cell_type": "markdown",
   "metadata": {},
   "source": [
    "<b>Resultados:</b>"
   ]
  },
  {
   "cell_type": "code",
   "execution_count": 33,
   "metadata": {},
   "outputs": [
    {
     "name": "stdout",
     "output_type": "stream",
     "text": [
      "Soluciones Ising\n",
      "   0  1  2  3  4 energy num_oc. chain_.\n",
      "0 -1 +1 -1 +1 -1   -4.0       4     0.0\n",
      "1 +1 -1 +1 -1 -1   -4.0       1     0.0\n",
      "2 -1 +1 -1 +1 +1   -4.0       4     0.0\n",
      "3 +1 -1 +1 -1 +1   -4.0       1     0.0\n",
      "['SPIN', 4 rows, 10 samples, 5 variables]\n",
      "\n",
      "Aristas totales: 8\n",
      "Aristas óptimas: 4\n"
     ]
    }
   ],
   "source": [
    "print(\"Soluciones Ising\")\n",
    "print(maxcut_qpu)\n",
    "print(\"\\nAristas totales:\",len(J))\n",
    "print(\"Aristas óptimas:\",int(maxcut_qpu.first.energy+len(J)))"
   ]
  },
  {
   "cell_type": "markdown",
   "metadata": {},
   "source": [
    "Se han proporcionado 4 soluciones con el mismo coste (-4)  al problema maxcut planteado. Incluso no se puede descartar que en algunos runs se proporcione soluciones con coste -2"
   ]
  },
  {
   "cell_type": "markdown",
   "metadata": {},
   "source": [
    "#### Solución con sampler cuántico sobre modelo BQM\n",
    "\n",
    "En lugar de usar el método `sample_ising`, se puede pasar directamente el problema al sampler usando un modelo BQM, sin restricciones. (recordemos que el CQM usado en el problema blp era con restricciones."
   ]
  },
  {
   "cell_type": "code",
   "execution_count": 34,
   "metadata": {},
   "outputs": [
    {
     "name": "stdout",
     "output_type": "stream",
     "text": [
      "El problema a resolver es:\n",
      "BinaryQuadraticModel({0: 0.0, 1: 0.0, 3: 0.0, 4: 0.0, 2: 0.0}, {(1, 0): 1.0, (3, 0): 1.0, (4, 0): 1.0, (4, 1): 1.0, (4, 3): 1.0, (2, 1): 1.0, (2, 3): 1.0, (2, 4): 1.0}, 0.0, 'SPIN')\n"
     ]
    }
   ],
   "source": [
    "# Sampler CPU exacto modelo BQM con variables SPIN (-1,1)\n",
    "\n",
    "import dimod\n",
    "\n",
    "maxcut_bqm = dimod.BinaryQuadraticModel(h, J, 0.0, dimod.SPIN)  #BQM\n",
    "print(\"El problema a resolver es:\")\n",
    "print(maxcut_bqm)\n",
    "\n",
    "sampler = EmbeddingComposite(DWaveSampler())\n",
    "maxcut_qpu2 = sampler.sample(maxcut_bqm, num_reads=10)"
   ]
  },
  {
   "cell_type": "markdown",
   "metadata": {},
   "source": [
    "<b>Resultados:</b>"
   ]
  },
  {
   "cell_type": "code",
   "execution_count": 35,
   "metadata": {},
   "outputs": [
    {
     "name": "stdout",
     "output_type": "stream",
     "text": [
      "Soluciones Ising\n",
      "   0  1  2  3  4 energy num_oc. chain_.\n",
      "0 -1 +1 -1 +1 -1   -4.0       6     0.0\n",
      "1 +1 -1 +1 -1 +1   -4.0       1     0.0\n",
      "2 -1 +1 -1 +1 +1   -4.0       1     0.0\n",
      "3 +1 -1 +1 -1 -1   -4.0       2     0.0\n",
      "['SPIN', 4 rows, 10 samples, 5 variables]\n",
      "\n",
      "Aristas totales: 8\n",
      "Aristas óptimas: 4\n"
     ]
    }
   ],
   "source": [
    "print(\"Soluciones Ising\")\n",
    "print(maxcut_qpu2)\n",
    "print(\"\\nAristas totales:\",len(J))\n",
    "print(\"Aristas óptimas:\",int(maxcut_qpu2.first.energy+len(J)))"
   ]
  },
  {
   "cell_type": "markdown",
   "metadata": {},
   "source": [
    "\n",
    "Veamos ahora un modelo BQM con restricciones:\n",
    "\n",
    "- Modelo CQM, cuadrático con restricciones"
   ]
  },
  {
   "cell_type": "markdown",
   "metadata": {},
   "source": [
    "### Reformulación de problemas  CQM a BQM\n",
    "\n",
    "Plantear un problema en formalismo qubo obliga a incorporar las restricciones a la función objetivo como penalizaciones,  usando para ello relaciones lineales o cuadráticas, generalmente con la ayuda de `variables slack`, y `multiplicadores o factores de Lagrange` que modulen el nivel de penalización por incumplimiento de la restricciones.\n"
   ]
  },
  {
   "cell_type": "code",
   "execution_count": 1,
   "metadata": {},
   "outputs": [],
   "source": [
    "# Recursos\n",
    "import dimod\n",
    "from dimod import ConstrainedQuadraticModel, ExactCQMSolver, Integer, Binary\n",
    "from dwave.system import DWaveSampler, EmbeddingComposite\n",
    "\n",
    "# Funciones auxiliares\n",
    "\n",
    "def sol_factibles(sampleset):\n",
    "    # Resultados\n",
    "    print(\"\\nLas soluciones factibles al problema son:\\n\")\n",
    "    print(sampleset.filter(lambda s: s.is_feasible).aggregate())\n",
    "    \n",
    "def sol_problema(result):\n",
    "    # Agregación de los n reads\n",
    "    samples = []\n",
    "    ocurrencias = []\n",
    "\n",
    "    for s in result.data():\n",
    "        samples.append(invert(s.sample))\n",
    "        ocurrencias.append(s.num_occurrences)\n",
    "\n",
    "    sampleset = dimod.SampleSet.from_samples_cqm(samples,cqm,num_occurrences=ocurrencias)\n",
    "    return(sampleset)"
   ]
  },
  {
   "cell_type": "markdown",
   "metadata": {},
   "source": [
    "A continuación se presenta a modo de ejemplo un sencillo problema `blp` con este nuevo enfoque"
   ]
  },
  {
   "cell_type": "code",
   "execution_count": 2,
   "metadata": {
    "id": "JSYjdRNuG_x5"
   },
   "outputs": [
    {
     "name": "stdout",
     "output_type": "stream",
     "text": [
      "BinaryQuadraticModel({'x0': -17.0, 'x1': -23.0, 'slack_v15f213c121f749b78809019ee41bec33_0': -15.0, 'slack_v15f213c121f749b78809019ee41bec33_1': -15.0}, {('x1', 'x0'): 20.0, ('slack_v15f213c121f749b78809019ee41bec33_0', 'x0'): 10.0, ('slack_v15f213c121f749b78809019ee41bec33_0', 'x1'): 20.0, ('slack_v15f213c121f749b78809019ee41bec33_1', 'x0'): 10.0, ('slack_v15f213c121f749b78809019ee41bec33_1', 'x1'): 20.0, ('slack_v15f213c121f749b78809019ee41bec33_1', 'slack_v15f213c121f749b78809019ee41bec33_0'): 10.0}, 20.0, 'BINARY')\n"
     ]
    }
   ],
   "source": [
    "# Problema de programación lineal cqm con reformulación bqm (qubo)\n",
    "\n",
    "x0 = Binary(\"x0\")\n",
    "x1 = Binary(\"x1\")\n",
    "\n",
    "cqm = ConstrainedQuadraticModel() #CQM\n",
    "\n",
    "cqm.set_objective(-2*x0-3*x1)  # Función objetivo\n",
    "\n",
    "cqm.add_constraint(x0 + 2*x1 <= 2, 'restricción')\n",
    "\n",
    "qubo, invert = dimod.cqm_to_bqm(cqm, lagrange_multiplier = 5)\n",
    "print(qubo)"
   ]
  },
  {
   "cell_type": "code",
   "execution_count": 3,
   "metadata": {
    "id": "zeKwEoWxHJXz"
   },
   "outputs": [
    {
     "name": "stdout",
     "output_type": "stream",
     "text": [
      "Soluciones encontradas:\n",
      "  x0 x1 energy num_oc. is_sat. is_fea.\n",
      "3  1  1   -5.0       1 arra...   False\n",
      "0  0  1   -3.0       5 arra...    True\n",
      "1  1  0   -2.0       1 arra...    True\n",
      "2  1  0   -2.0       3 arra...    True\n",
      "['INTEGER', 4 rows, 10 samples, 2 variables]\n"
     ]
    }
   ],
   "source": [
    "# Transpilado  (embedding) a Qpu\n",
    "\n",
    "sampler = EmbeddingComposite(DWaveSampler())\n",
    "result = sampler.sample(qubo, num_reads=10)\n",
    "\n",
    "print(\"Soluciones encontradas:\")\n",
    "sampleset=sol_problema(result)\n",
    "print(sampleset)"
   ]
  },
  {
   "cell_type": "markdown",
   "metadata": {},
   "source": [
    "Pero no todas estas soluciones son factibles, pueden incumplir una o varias restricciones, aunque su función de coste pueda ser la mínima.\n",
    "\n",
    "A continuación se hace un filtrado de estos resultados:"
   ]
  },
  {
   "cell_type": "code",
   "execution_count": 5,
   "metadata": {
    "id": "FrhzIllgHQqz"
   },
   "outputs": [
    {
     "name": "stdout",
     "output_type": "stream",
     "text": [
      "\n",
      "Las soluciones factibles al problema son:\n",
      "\n",
      "  x0 x1 energy num_oc. is_sat. is_fea.\n",
      "0  0  1   -3.0       5 arra...    True\n",
      "1  1  0   -2.0       4 arra...    True\n",
      "['INTEGER', 2 rows, 9 samples, 2 variables]\n"
     ]
    }
   ],
   "source": [
    "sol_factibles(sampleset)"
   ]
  },
  {
   "cell_type": "markdown",
   "metadata": {},
   "source": [
    "\n",
    "Este enfoque general será el empleado ahora en este otro problema con dos restricciones."
   ]
  },
  {
   "cell_type": "markdown",
   "metadata": {},
   "source": [
    "### BLP como problema Quobo\n",
    "\n",
    "Volviendo al problema blp planteado al principio de este cuaderno, y que se había resuelto mediante un sampler de fuerza bruta, vamos ahoa a replantearlo como problema Quobo, incorporando las dos restricciones como penalizaciones de la función objetivo."
   ]
  },
  {
   "cell_type": "code",
   "execution_count": 6,
   "metadata": {
    "id": "zbRc9V4CJLKH"
   },
   "outputs": [
    {
     "data": {
      "text/plain": [
       "'Segunda restricción'"
      ]
     },
     "execution_count": 6,
     "metadata": {},
     "output_type": "execute_result"
    }
   ],
   "source": [
    "# Definición del problema \n",
    "\n",
    "x0 = dimod.Binary(\"x0\")\n",
    "x1 = dimod.Binary(\"x1\")\n",
    "x2 = dimod.Binary(\"x2\")\n",
    "x3 = dimod.Binary(\"x3\")\n",
    "\n",
    "# Modelo CQM con restricciones\n",
    "blp = dimod.ConstrainedQuadraticModel()\n",
    "\n",
    "# Función objetivo\n",
    "blp.set_objective(-2*x0-3*x1+4*x2-x3)\n",
    "\n",
    "# Restricciones\n",
    "blp.add_constraint(x0 + 2*x1 <= 2, \"Primera restricción\")\n",
    "blp.add_constraint(x2 + x3 <= 1, \"Segunda restricción\")\n",
    "\n"
   ]
  },
  {
   "cell_type": "code",
   "execution_count": 7,
   "metadata": {},
   "outputs": [],
   "source": [
    "# Conversión a qubo (cqm-bqm) con multiplicador de Lagrange \n",
    "\n",
    "fl=10\n",
    "\n",
    "qubo, invert = dimod.cqm_to_bqm(blp, lagrange_multiplier = fl)\n",
    "result = sampler.sample(qubo, num_reads=100)"
   ]
  },
  {
   "cell_type": "code",
   "execution_count": 8,
   "metadata": {},
   "outputs": [
    {
     "name": "stdout",
     "output_type": "stream",
     "text": [
      "\n",
      "Las soluciones factibles al problema son:\n",
      "\n",
      "  x0 x1 x2 x3 energy num_oc. is_sat. is_fea.\n",
      "0  0  1  0  1   -3.0      16 arra...    True\n",
      "2  0  1  0  0   -3.0      12 arra...    True\n",
      "6  0  1  1  0   -3.0       2 arra...    True\n",
      "8  0  1  1  1   -3.0       1 arra...    True\n",
      "1  1  0  0  1   -2.0      28 arra...    True\n",
      "3  1  0  0  0   -2.0      21 arra...    True\n",
      "7  1  0  1  0   -2.0       6 arra...    True\n",
      "4  0  0  0  1    0.0       4 arra...    True\n",
      "5  0  0  0  0    0.0       9 arra...    True\n",
      "['INTEGER', 9 rows, 99 samples, 4 variables]\n"
     ]
    }
   ],
   "source": [
    "sampleset=sol_problema(result)\n",
    "sol_factibles(sampleset)"
   ]
  },
  {
   "cell_type": "markdown",
   "metadata": {},
   "source": [
    "\n",
    "#### Influencia del factor de Lagrange:\n",
    "\n",
    "Se va a repetir el problema usando factores de lagrange 3 y 1, para \"calibrar\" el efecto amplificación de las penalizaciones por no cumplimiento de las restricciones."
   ]
  },
  {
   "cell_type": "code",
   "execution_count": 9,
   "metadata": {
    "id": "DiUb5nqIJQNf"
   },
   "outputs": [
    {
     "name": "stdout",
     "output_type": "stream",
     "text": [
      "\n",
      "Las soluciones factibles al problema son:\n",
      "\n",
      "  x0 x1 x2 x3 energy num_oc. is_sat. is_fea.\n",
      "0  0  1  0  1   -3.0      42 arra...    True\n",
      "2  0  1  0  0   -3.0      16 arra...    True\n",
      "1  1  0  0  1   -2.0      20 arra...    True\n",
      "3  1  0  0  0   -2.0      10 arra...    True\n",
      "4  0  0  0  0    0.0       1 arra...    True\n",
      "['INTEGER', 5 rows, 89 samples, 4 variables]\n"
     ]
    }
   ],
   "source": [
    "# FL=4\n",
    "fl=3\n",
    "qubo, invert = dimod.cqm_to_bqm(blp, lagrange_multiplier = fl)\n",
    "result = sampler.sample(qubo, num_reads=100)\n",
    "\n",
    "sampleset=sol_problema(result)\n",
    "sol_factibles(sampleset)\n"
   ]
  },
  {
   "cell_type": "code",
   "execution_count": 10,
   "metadata": {
    "id": "ztgEnnB8JYC4"
   },
   "outputs": [
    {
     "name": "stdout",
     "output_type": "stream",
     "text": [
      "\n",
      "Las soluciones factibles al problema son:\n",
      "\n",
      "  x0 x1 x2 x3 energy num_oc. is_sat. is_fea.\n",
      "0  0  1  0  1   -3.0       1 arra...    True\n",
      "['INTEGER', 1 rows, 1 samples, 4 variables]\n"
     ]
    }
   ],
   "source": [
    "# FL1\n",
    "fl=1\n",
    "qubo, invert = dimod.cqm_to_bqm(blp, lagrange_multiplier = fl)\n",
    "result = sampler.sample(qubo, num_reads=100)\n",
    "\n",
    "sampleset=sol_problema(result)\n",
    "sol_factibles(sampleset)"
   ]
  },
  {
   "cell_type": "markdown",
   "metadata": {},
   "source": [
    "Con fl=3 las soluciones factibles se han reducido considerablemente, pero la de menor energía coincide.\n",
    "\n",
    "Con fl=1, el sistema simplemente no ha encontrado ninguna solución factible."
   ]
  },
  {
   "cell_type": "markdown",
   "metadata": {},
   "source": [
    "### Problema CQM de variable entera"
   ]
  },
  {
   "cell_type": "markdown",
   "metadata": {},
   "source": [
    "#### 1. Problema CQM 2/1"
   ]
  },
  {
   "cell_type": "code",
   "execution_count": 11,
   "metadata": {},
   "outputs": [
    {
     "data": {
      "text/plain": [
       "'x + y <= 3'"
      ]
     },
     "execution_count": 11,
     "metadata": {},
     "output_type": "execute_result"
    }
   ],
   "source": [
    "# Definición del problema \n",
    "\n",
    "sampler = EmbeddingComposite(DWaveSampler())\n",
    "\n",
    "x = Integer('x',upper_bound=4)\n",
    "y = Integer('y',upper_bound=2)\n",
    "\n",
    "cqm = ConstrainedQuadraticModel()\n",
    "\n",
    "\n",
    "# Función objetivo\n",
    "\n",
    "cqm.set_objective(-x -2*y)\n",
    "\n",
    "# Restricciones\n",
    "\n",
    "cqm.add_constraint(x + y <= 3, \"x + y <= 3\")\n"
   ]
  },
  {
   "cell_type": "code",
   "execution_count": 12,
   "metadata": {},
   "outputs": [
    {
     "name": "stdout",
     "output_type": "stream",
     "text": [
      "Variables:\n",
      "Variables(['x', 'y'])\n",
      "Objetivo:\n",
      "ObjectiveView({'x': -1.0, 'y': -2.0}, {}, 0.0, {'x': 'INTEGER', 'y': 'INTEGER'})\n",
      "Restricciones:\n",
      "{'x + y <= 3': Le(ConstraintView({'x': 1.0, 'y': 1.0}, {}, 0.0, {'x': 'INTEGER', 'y': 'INTEGER'}), 3.0)}\n"
     ]
    }
   ],
   "source": [
    "print(\"Variables:\")\n",
    "print(cqm.variables)\n",
    "print(\"Objetivo:\")\n",
    "print(cqm.objective)\n",
    "print(\"Restricciones:\") \n",
    "print(cqm.constraints)"
   ]
  },
  {
   "cell_type": "code",
   "execution_count": 13,
   "metadata": {},
   "outputs": [],
   "source": [
    "qubo, invert = dimod.cqm_to_bqm(cqm)\n",
    "result = dimod.ExactSolver().sample(qubo)"
   ]
  },
  {
   "cell_type": "code",
   "execution_count": 14,
   "metadata": {},
   "outputs": [
    {
     "name": "stdout",
     "output_type": "stream",
     "text": [
      "\n",
      "Las soluciones factibles al problema son:\n",
      "\n",
      "  x y energy num_oc. is_sat. is_fea.\n",
      "0 1 2   -5.0       8 arra...    True\n",
      "1 2 1   -4.0      16 arra...    True\n",
      "2 0 2   -4.0       4 arra...    True\n",
      "3 3 0   -3.0       8 arra...    True\n",
      "4 1 1   -3.0      16 arra...    True\n",
      "5 2 0   -2.0       8 arra...    True\n",
      "6 0 1   -2.0       8 arra...    True\n",
      "7 1 0   -1.0       8 arra...    True\n",
      "8 0 0    0.0       4 arra...    True\n",
      "['INTEGER', 9 rows, 80 samples, 2 variables]\n"
     ]
    }
   ],
   "source": [
    "sampleset=sol_problema(result)\n",
    "sol_factibles(sampleset)"
   ]
  },
  {
   "cell_type": "code",
   "execution_count": 15,
   "metadata": {},
   "outputs": [],
   "source": [
    "fl=50\n",
    "\n",
    "qubo, invert = dimod.cqm_to_bqm(cqm, lagrange_multiplier = fl)\n",
    "result = sampler.sample(qubo, num_reads=10)"
   ]
  },
  {
   "cell_type": "code",
   "execution_count": 16,
   "metadata": {},
   "outputs": [
    {
     "name": "stdout",
     "output_type": "stream",
     "text": [
      "\n",
      "Las soluciones factibles al problema son:\n",
      "\n",
      "  x y energy num_oc. is_sat. is_fea.\n",
      "0 1 2   -5.0       1 arra...    True\n",
      "3 2 1   -4.0       2 arra...    True\n",
      "1 1 1   -3.0       3 arra...    True\n",
      "2 0 1   -2.0       2 arra...    True\n",
      "4 1 0   -1.0       1 arra...    True\n",
      "5 0 0    0.0       1 arra...    True\n",
      "['INTEGER', 6 rows, 10 samples, 2 variables]\n"
     ]
    }
   ],
   "source": [
    "sampleset=sol_problema(result)\n",
    "sol_factibles(sampleset)"
   ]
  },
  {
   "cell_type": "markdown",
   "metadata": {},
   "source": [
    "#### 2. Problema CQM 3/3\n",
    "\n",
    "Problema PL de 3 variables y 3(+3) restricciones"
   ]
  },
  {
   "cell_type": "code",
   "execution_count": 17,
   "metadata": {},
   "outputs": [
    {
     "data": {
      "text/plain": [
       "'restricción 3'"
      ]
     },
     "execution_count": 17,
     "metadata": {},
     "output_type": "execute_result"
    }
   ],
   "source": [
    "\n",
    "x = dimod.Integer('x', upper_bound=7)\n",
    "y = dimod.Integer('y', upper_bound=4) #lower_bound=0 forzosamente para var entera\n",
    "z = dimod.Integer('z', upper_bound=2)\n",
    "\n",
    "cqm = dimod.ConstrainedQuadraticModel()\n",
    "\n",
    "cqm.set_objective(-3 * x - 4 * y +z)\n",
    "\n",
    "cqm.add_constraint(x+ y <= 5, label='restricción 1')\n",
    "cqm.add_constraint(y- z <= 2, label='restricción 2')\n",
    "cqm.add_constraint(x+ z <= 3, label='restricción 3')\n"
   ]
  },
  {
   "cell_type": "code",
   "execution_count": 18,
   "metadata": {},
   "outputs": [],
   "source": [
    "fl=20\n",
    "\n",
    "qubo, invert = dimod.cqm_to_bqm(cqm, lagrange_multiplier = fl)\n",
    "result = sampler.sample(qubo, num_reads=50)"
   ]
  },
  {
   "cell_type": "code",
   "execution_count": 19,
   "metadata": {},
   "outputs": [
    {
     "name": "stdout",
     "output_type": "stream",
     "text": [
      "\n",
      "Las soluciones factibles al problema son:\n",
      "\n",
      "   x y z energy num_oc. is_sat. is_fea.\n",
      "0  2 3 1  -17.0       2 arra...    True\n",
      "5  1 3 1  -14.0       4 arra...    True\n",
      "1  2 2 1  -13.0       1 arra...    True\n",
      "6  1 3 2  -13.0       1 arra...    True\n",
      "7  1 2 0  -11.0       2 arra...    True\n",
      "15 0 3 1  -11.0       1 arra...    True\n",
      "2  1 2 1  -10.0       6 arra...    True\n",
      "3  0 3 2  -10.0       2 arra...    True\n",
      "8  2 1 0  -10.0       1 arra...    True\n",
      "9  1 2 2   -9.0       2 arra...    True\n",
      "16 0 2 0   -8.0       3 arra...    True\n",
      "10 1 1 0   -7.0       2 arra...    True\n",
      "11 0 2 1   -7.0       2 arra...    True\n",
      "4  0 2 2   -6.0       3 arra...    True\n",
      "12 1 1 1   -6.0       6 arra...    True\n",
      "13 2 0 0   -6.0       1 arra...    True\n",
      "14 1 1 2   -5.0       1 arra...    True\n",
      "17 2 0 1   -5.0       1 arra...    True\n",
      "18 0 1 0   -4.0       2 arra...    True\n",
      "20 1 0 0   -3.0       1 arra...    True\n",
      "19 0 0 0    0.0       1 arra...    True\n",
      "22 0 0 1    1.0       1 arra...    True\n",
      "21 0 0 2    2.0       1 arra...    True\n",
      "['INTEGER', 23 rows, 47 samples, 3 variables]\n"
     ]
    }
   ],
   "source": [
    "sampleset=sol_problema(result)\n",
    "sol_factibles(sampleset)"
   ]
  },
  {
   "cell_type": "markdown",
   "metadata": {},
   "source": [
    "# Parte II"
   ]
  },
  {
   "cell_type": "markdown",
   "metadata": {},
   "source": [
    "# Administración QPUs Dwave"
   ]
  },
  {
   "cell_type": "markdown",
   "metadata": {},
   "source": [
    "### Topologías Dwave\n",
    "Dwave construye QPUs de propósito específico con arreglos de qbits especialmente pensados para los problemas de programación lineal y cuadrática.\n",
    "\n",
    "Las diferentes generaciónes han ido proponiendo diferentes topologías. En el siguiente documento se pueden consultar.\n",
    "\n",
    "https://docs.dwavesys.com/docs/latest/c_gs_4.html\n",
    "\n",
    "Es importante percibir la importancia central que juegan estas arquitecturas en el éxito comercial de Dwave, que sin duda descansa en su efectividad a la hora de resolver estos problemas de optimización, de extremada importancia en algunos sectores como las finanzas y la industria, bajo el paradigma cuántico.\n",
    "\n",
    "En las próximas secciones se van a poder consultar y manipular algunos de estos atributos."
   ]
  },
  {
   "cell_type": "markdown",
   "metadata": {},
   "source": [
    "\n",
    "### Caracterización física de QPUs asignables a Cliente\n",
    "\n",
    "La instrucción `!dwave config create` , que ha de ejecutarse una primera y única vez en `local`, o en cada sesión si se hace desde `colab`, instancia el objeto Client que configura el entorno operativo y la disponibilidad de recursos de cómputo asociados.\n",
    "\n",
    "Se puede obtener info relevante usando diferentes métodos del mismo."
   ]
  },
  {
   "cell_type": "code",
   "execution_count": 3,
   "metadata": {},
   "outputs": [
    {
     "name": "stdout",
     "output_type": "stream",
     "text": [
      "30\n",
      "{2985, 2955, 45, 2970, 2940, 31}\n",
      "2985 2955\n"
     ]
    }
   ],
   "source": [
    "# Interactuando con la arquitectura física\n",
    "\n",
    "from dwave.system import DWaveSampler\n",
    "sampler = DWaveSampler()\n",
    "\n",
    "# sampler.nodelist\n",
    "# sampler.edgelist\n",
    "\n",
    "qb_a = sampler.nodelist[0] # asigna primer nodo de la QPU\n",
    "nodos_ady= iter(sampler.adjacency[qb_a]) #obtiene todos los adyacentes al nodo asignado a qb_a\n",
    "qb_b = next(nodos_ady) #asigna primer adyacente a qb_b\n",
    "qb_c = next(nodos_ady) #asigna segundo adyacente a qb_c\n",
    "\n",
    "print(qb_a)\n",
    "print(sampler.adjacency[qb_a])\n",
    "print(qb_b,qb_c)"
   ]
  },
  {
   "cell_type": "code",
   "execution_count": 49,
   "metadata": {},
   "outputs": [],
   "source": [
    "# Funciones auxiliares informativas\n",
    "\n",
    "import random\n",
    "from dwave.system import DWaveSampler\n",
    "from dwave.cloud import Client\n",
    "\n",
    "def client_info():\n",
    "    print(\"Solvers:\")\n",
    "    for solver in Client.from_config().get_solvers():\n",
    "        print(solver)\n",
    "\n",
    "def dwave_info(sampler,modo=0):\n",
    "    print(\"Nombre:\",sampler.properties[\"chip_id\"])\n",
    "    print(\"No. qubits:\",sampler.properties[\"num_qubits\"])\n",
    "    print(\"Categoría:\",sampler.properties[\"category\"])\n",
    "    print(\"Problemas soportados:\",sampler.properties[\"supported_problem_types\"])\n",
    "    print(\"Topología:\",sampler.properties[\"topology\"])\n",
    "    print(\"Fuerza de acoplamiento\", sampler.properties[\"h_range\"])\n",
    "    print(\"Rango de 'reads':\",sampler.properties[\"num_reads_range\"])\n",
    "    print(\"Annealing time (defecto)\",sampler.properties[\"default_annealing_time\"],\"microsecs\")\n",
    "    print(\"Rango annealing time (us)\",sampler.properties[\"annealing_time_range\"])\n",
    "    if modo:\n",
    "        print(\"Acoplamientos:\",sampler.properties[\"couplers\"]) #muestra geometría\n",
    "        print(sampler.adjacency) # muestra adyacencias"
   ]
  },
  {
   "cell_type": "markdown",
   "metadata": {},
   "source": [
    "with Client.from_config() as client:\n",
    "    solver = client.get_solver()\n",
    "    # Build a random Ising model to exactly fit the graph the solver supports\n",
    "    linear = {index: random.choice([-1, 1]) for index in solver.nodes}\n",
    "    quad = {key: random.choice([-1, 1]) for key in solver.undirected_edges}"
   ]
  },
  {
   "cell_type": "code",
   "execution_count": 18,
   "metadata": {},
   "outputs": [],
   "source": [
    "#solver.undirected_edges"
   ]
  },
  {
   "cell_type": "code",
   "execution_count": 51,
   "metadata": {
    "id": "ycO77-2JHhCE"
   },
   "outputs": [
    {
     "name": "stdout",
     "output_type": "stream",
     "text": [
      "Solvers:\n",
      "BQMSolver(id='hybrid_binary_quadratic_model_version2')\n",
      "DQMSolver(id='hybrid_discrete_quadratic_model_version1')\n",
      "StructuredSolver(id='Advantage_system4.1')\n",
      "CQMSolver(id='hybrid_constrained_quadratic_model_version1')\n",
      "StructuredSolver(id='Advantage2_prototype1.1')\n",
      "StructuredSolver(id='Advantage_system6.2')\n"
     ]
    }
   ],
   "source": [
    "# solvers disponibles para cuenta de usuario (puede variar)\n",
    "client_info()"
   ]
  },
  {
   "cell_type": "markdown",
   "metadata": {},
   "source": [
    "Los solvers anteriores tienen asociado samplers cuyas características se pueden consultar:"
   ]
  },
  {
   "cell_type": "code",
   "execution_count": 54,
   "metadata": {
    "id": "sICOR7yoHmeB"
   },
   "outputs": [
    {
     "name": "stdout",
     "output_type": "stream",
     "text": [
      "Nombre: Advantage_system6.2\n",
      "No. qubits: 5760\n",
      "Categoría: qpu\n",
      "Problemas soportados: ['ising', 'qubo']\n",
      "Topología: {'type': 'pegasus', 'shape': [16]}\n",
      "Fuerza de acoplamiento [-4.0, 4.0]\n",
      "Rango de 'reads': [1, 10000]\n",
      "Annealing time (defecto) 20.0 microsecs\n",
      "Rango annealing time (us) [0.5, 2000.0]\n"
     ]
    }
   ],
   "source": [
    "# sampler=DWaveSampler(solver='DW_2000Q_6')\n",
    "sampler=DWaveSampler(solver='Advantage_system6.2')\n",
    "dwave_info(sampler)"
   ]
  },
  {
   "cell_type": "code",
   "execution_count": 52,
   "metadata": {
    "id": "SvYDUn4cHwnT"
   },
   "outputs": [
    {
     "name": "stdout",
     "output_type": "stream",
     "text": [
      "Nombre: Advantage_system4.1\n",
      "No. qubits: 5760\n",
      "Categoría: qpu\n",
      "Problemas soportados: ['ising', 'qubo']\n",
      "Topología: {'type': 'pegasus', 'shape': [16]}\n",
      "Fuerza de acoplamiento [-4.0, 4.0]\n",
      "Rango de 'reads': [1, 10000]\n",
      "Annealing time (defecto) 20.0 microsecs\n",
      "Rango annealing time (us) [0.5, 2000.0]\n"
     ]
    }
   ],
   "source": [
    "sampler=DWaveSampler(solver='Advantage_system4.1')\n",
    "dwave_info(sampler)"
   ]
  },
  {
   "cell_type": "code",
   "execution_count": 43,
   "metadata": {
    "id": "BEbRGsy3H5jP"
   },
   "outputs": [
    {
     "name": "stdout",
     "output_type": "stream",
     "text": [
      "Nombre: Advantage2_prototype1.1\n",
      "No. qubits: 576\n",
      "Categoría: qpu\n",
      "Problemas soportados: ['ising', 'qubo']\n",
      "Topología: {'type': 'zephyr', 'shape': [4, 4]}\n",
      "Fuerza de acoplamiento [-4.0, 4.0]\n",
      "Rango de 'reads': [1, 10000]\n",
      "Annealing time (defecto) 20.0 microsecs\n",
      "Rango annealing time (us) [1.0, 2000.0]\n"
     ]
    }
   ],
   "source": [
    "sampler=DWaveSampler(solver='Advantage2_prototype1.1')\n",
    "dwave_info(sampler)"
   ]
  },
  {
   "cell_type": "code",
   "execution_count": 45,
   "metadata": {},
   "outputs": [
    {
     "name": "stdout",
     "output_type": "stream",
     "text": [
      "Nombre: Advantage_system6.2\n",
      "No. qubits: 5760\n",
      "Categoría: qpu\n",
      "Problemas soportados: ['ising', 'qubo']\n",
      "Topología: {'type': 'pegasus', 'shape': [16]}\n",
      "Fuerza de acoplamiento [-4.0, 4.0]\n",
      "Rango de 'reads': [1, 10000]\n",
      "Annealing time (defecto) 20.0 microsecs\n",
      "Rango annealing time (us) [0.5, 2000.0]\n"
     ]
    }
   ],
   "source": [
    "sampler=DWaveSampler(solver='Advantage_system6.2')\n",
    "dwave_info(sampler)"
   ]
  },
  {
   "cell_type": "markdown",
   "metadata": {},
   "source": [
    "### Maxcut con qpu específica\n",
    "\n",
    "Retomando el problema maxcut anterior, se va a resolver ahora con qpu específica y reetiquetando los nodos 0-4 con el objeto de evidenciar algunos aspectos importantes de la arquitectura hardwarer subyacente.\n",
    "\n",
    "La QPU seleccionada es la `Advantage_system6.2`, de 5760 cúbits con arquitectura `Pegasus`y cuyo resto de  características figuran en el listado inmediato anterior."
   ]
  },
  {
   "cell_type": "code",
   "execution_count": 78,
   "metadata": {
    "id": "ntM_2zE4ITU-"
   },
   "outputs": [],
   "source": [
    "# Problema maxcut de 5 nodos \n",
    "\n",
    "J = {('a','b'):1, ('a','d'):1, ('a','e'):1,('b','c'):1, ('b','e'):1, ('c','d'):1, ('c','e'):1, ('d','e'):1}\n",
    "h = {}\n",
    "\n",
    "prisma = dimod.BinaryQuadraticModel(h, J, 0.0, dimod.SPIN)\n",
    "\n",
    "# embedding y run en annealer 'Advantage_system6.2'\n",
    "\n",
    "sampler = EmbeddingComposite(DWaveSampler(solver = 'Advantage_system6.2'))\n",
    "result = sampler.sample(prisma, num_reads=10, \n",
    "    return_embedding = True)\n"
   ]
  },
  {
   "cell_type": "code",
   "execution_count": 79,
   "metadata": {},
   "outputs": [
    {
     "name": "stdout",
     "output_type": "stream",
     "text": [
      "'Samples' obtenidos:\n",
      "\n",
      "   a  b  c  d  e energy num_oc. chain_.\n",
      "0 +1 -1 +1 -1 +1   -4.0       2     0.0\n",
      "1 -1 +1 -1 +1 -1   -4.0       1     0.0\n",
      "2 +1 -1 +1 -1 -1   -4.0       5     0.0\n",
      "3 -1 +1 -1 +1 +1   -4.0       1     0.0\n",
      "4 +1 +1 -1 +1 -1   -2.0       1     0.0\n",
      "['SPIN', 5 rows, 10 samples, 5 variables]\n",
      "\n",
      "La incrustación asignada fue:\n",
      "\n",
      "{'embedding': {'b': (2046,), 'a': (2061, 4195), 'd': (2002,), 'e': (4285,), 'c': (4270,)}, 'chain_break_method': 'majority_vote', 'embedding_parameters': {}, 'chain_strength': 2.529440096147762}\n"
     ]
    }
   ],
   "source": [
    "print(\"'Samples' obtenidos:\\n\")\n",
    "print(result)\n",
    "print(\"\\nLa incrustación asignada fue:\\n\")\n",
    "print(result.info[\"embedding_context\"])"
   ]
  },
  {
   "cell_type": "markdown",
   "metadata": {},
   "source": [
    "\n",
    "Examinando la asignación de nodos de la QPU al grafo, esta parece caprichosa. Es más, la lista de los 5 primeros nodos de la máquina seleccionada sería:"
   ]
  },
  {
   "cell_type": "code",
   "execution_count": 73,
   "metadata": {},
   "outputs": [
    {
     "name": "stdout",
     "output_type": "stream",
     "text": [
      "30\n",
      "31\n",
      "32\n",
      "33\n",
      "34\n"
     ]
    }
   ],
   "source": [
    "qpu=DWaveSampler(solver = 'Advantage_system6.2')\n",
    "\n",
    "for i in range(5):\n",
    " print(qpu.nodelist[i])"
   ]
  },
  {
   "cell_type": "markdown",
   "metadata": {},
   "source": [
    "Entonces?, pues es fácil de entender si asumimos que las qpu operan en la nube en un contexto multiusuario. El administrador de jobs de la qpu va distribuyendo los nodos entre los trabajos concurrentes.\n",
    "\n",
    "Ahora bien, si examinamos los nodos adyacentes a, por ejemplo el nodo 'a', asignado al nodo qpu 4190, podremos comprobar que los nodos 'b','d' y 'e' a los que se conecta el nodo 'a', pertenecen a esa lista."
   ]
  },
  {
   "cell_type": "code",
   "execution_count": 71,
   "metadata": {},
   "outputs": [
    {
     "name": "stdout",
     "output_type": "stream",
     "text": [
      "{1056, 1026, 996, 1161, 1132, 1102, 1071, 4175, 1041, 1011, 4189, 1146, 1117, 4191, 1087}\n"
     ]
    }
   ],
   "source": [
    "qpu=DWaveSampler(solver = 'Advantage_system6.2')\n",
    "print(qpu.adjacency[4190])\n"
   ]
  },
  {
   "cell_type": "markdown",
   "metadata": {},
   "source": [
    "Otra singularidad, el nodo central 'e', está interconectado con los otros 4. Si el incrustador no logra asignarle nodo con adyacencias a ellos,  puede optar  por realizar una doble asignación, y por eso en la lista anterior aparece con asignación doble: 4175 y 1041.\n"
   ]
  },
  {
   "cell_type": "code",
   "execution_count": 75,
   "metadata": {},
   "outputs": [
    {
     "name": "stdout",
     "output_type": "stream",
     "text": [
      "{4160, 4129, 1026, 4099, 4070, 4205, 4175, 1040, 4145, 1042, 4114, 4084, 4055, 4220, 4190}\n",
      "{1056, 1026, 996, 1161, 1132, 1102, 1071, 4174, 1041, 4176, 1011, 1146, 1117, 4190, 1087}\n"
     ]
    }
   ],
   "source": [
    "qpu=DWaveSampler(solver = 'Advantage_system6.2')\n",
    "print(qpu.adjacency[1041])\n",
    "print(qpu.adjacency[4175])"
   ]
  },
  {
   "cell_type": "markdown",
   "metadata": {},
   "source": [
    "Examinando el nodo físico 1041, vemos que es adyacente al de asignación para los nodos 'a', 'c' y 'e', pero no del 'b', del que sí lo es el 4176.\n",
    "\n",
    "Concluímos que la incrustación automática ha optimizado la asignación nodal en la qpu para que  los vértices interconectados del problema maxcut tengan nodos adyacentes."
   ]
  },
  {
   "cell_type": "markdown",
   "metadata": {},
   "source": [
    "## Annealing time\n",
    "\n",
    "Como se mencionó al comienzo del cuaderno, el annealer hace evolucionar un hamiltoniano inicial, de setup sencillo, a uno final, que representa el problema a minimizar.\n",
    "\n",
    "Esta evolución temporal queda caracterizada por el  `annealing time`, uno de los parámetros fundamentales de un determinado `read`.\n",
    "\n",
    "El rango de valores admitidos depende del qpu seleccionado. En el  Advantage_system6.2  por ejemplo varía entre 0.5 y 2000 𝜇𝑠, con una resolución de 0,02 𝜇𝑠, siendo 20 𝜇𝑠 el valor por defecto. \n",
    "\n",
    "Cuanto mayor sea este tiempo, <b> más se acercará la evolución al principio adiabático </b>, pero más tiempo máquina se consumirá.\n",
    "\n",
    "Consultar la descripción proporcionada por `dwave_info(sampler)` para otros samplers, y el siguiente doc:\n",
    "\n",
    "https://docs.dwavesys.com/docs/latest/c_solver_parameters.html#annealing-time\n",
    "\n",
    "Se va a repetir el ejemplo anterior usando un At= 100𝜇𝑠 \n"
   ]
  },
  {
   "cell_type": "code",
   "execution_count": 82,
   "metadata": {
    "id": "erXf3rnXIkOf"
   },
   "outputs": [
    {
     "name": "stdout",
     "output_type": "stream",
     "text": [
      "'Samples' obtenidos:\n",
      "\n",
      "   0  1  2  3  4 energy num_oc. chain_.\n",
      "0 +1 -1 +1 -1 +1   -4.0       2     0.0\n",
      "1 -1 +1 -1 +1 -1   -4.0       3     0.0\n",
      "2 -1 +1 -1 +1 +1   -4.0       2     0.0\n",
      "3 +1 -1 +1 -1 -1   -4.0       2     0.0\n",
      "4 -1 -1 +1 -1 +1   -2.0       1     0.0\n",
      "['SPIN', 5 rows, 10 samples, 5 variables]\n"
     ]
    }
   ],
   "source": [
    "# 'Advantage_system6.2 con annealing_time =100 us\n",
    "\n",
    "J = {(0,1):1, (0,3):1, (0,4):1,(1,2):1, (1,4):1, (2,3):1, (2,4):1, (3,4):1}\n",
    "h = {}\n",
    "\n",
    "prisma = dimod.BinaryQuadraticModel(h, J, 0.0, dimod.SPIN)\n",
    "\n",
    "sampler = EmbeddingComposite(DWaveSampler(solver = 'Advantage_system6.2'))\n",
    "result = sampler.sample(prisma, num_reads=10, \n",
    "    return_embedding = True)\n",
    "result = sampler.sample(prisma, num_reads=10, annealing_time = 100)\n",
    "\n",
    "print(\"'Samples' obtenidos:\\n\")\n",
    "print(result)"
   ]
  },
  {
   "cell_type": "markdown",
   "metadata": {},
   "source": [
    "#### Programación hacía adelante (`forward sheduling`)\n",
    "\n",
    "La evolución temporal  del hamiltoniano durante el `annealing time` es lineal, con una pendiente constante entre t=0 y el tiempo de annealing. Durante este intervalo el parámetro del hamiltoniano, s(t),  varía linealmente entre s=0 y s=1, de modo que:\n",
    "                \n",
    "            H(s) = sH0 + (1-s)Hf, s(t) = (1/ta)* t, ta = annealing time\n",
    "\n",
    "Pero este mapeo lineal se puede cambiar fijando los valores de s para determinado tiempo de annealing.\n",
    "\n",
    "Se usa para ello listas con pares de números en coma flotante. El primer elemento del par es el tiempo 𝑡 en microsegundos con una granularidad de 0.01 u 0.0.2 𝜇𝑠 según sampler, y el segundo elemento, su valor `s` en ese instante. \n",
    "\n",
    "La pendiente máxima de cualquier segmento de curva no debe ser mayor que el inverso del tiempo mínimo soportado por el annealer. \n",
    "Así, para una QPU con rango de annealing de 0.5-2000 𝜇𝑠, la pendiente máxima que nunca se debe superar es:\n",
    "\n",
    "- m= (sf-si)/(tf-ti)=(1-0)/(0.5-0)=2𝜇𝑠−1\n",
    "\n",
    "Así, entre los dos intervalos siguientes: [0.0, 0.0], [5.0, 0.25], el annealer empieza en t=0 con s=0, variando este parámetro linealmente hasta el valor s=0.25 para t=5 us. La pendiente de intervalo es por tanto: \n",
    "\n",
    "- m = (0.25-0/5-0)= 0.05 𝜇𝑠−1\n",
    "\n",
    "El mapeo s(t) resultante es la curva lineal por partes que interconecta los puntos proporcionados, y que determinan la rapidez con la que evoluciona el annealer en cada intervalo\n",
    "\n",
    "En el siguiente doc se puede ampliar la info sobre este proceso:\n",
    "\n",
    "https://docs.dwavesys.com/docs/latest/c_solver_parameters.html#param-anneal-sched\n",
    "\n",
    "#### Importante: \n",
    "\n",
    "Recordemos que por el principio adiabático, una evolución demasiado rápida puede provocar que el estado final no corresponda al de mínima energía\n",
    "\n",
    "A continuación se repetirá el problema maxcut anterior, usando una programación de 4 etapas, con una pronunciada pendiente inicial, muy suave entre 10-40𝜇𝑠, y de nuevo pronunciada en los últimos 10𝜇s, alcanzándose el hamiltoniano final a los 50 𝜇𝑠 (s=1) "
   ]
  },
  {
   "cell_type": "code",
   "execution_count": 83,
   "metadata": {
    "id": "LYM4kqH3IpGa"
   },
   "outputs": [
    {
     "name": "stdout",
     "output_type": "stream",
     "text": [
      "'Samples' obtenidos:\n",
      "\n",
      "   0  1  2  3  4 energy num_oc. chain_.\n",
      "0 -1 +1 -1 +1 -1   -4.0       2     0.0\n",
      "1 +1 -1 +1 -1 +1   -4.0       5     0.0\n",
      "2 -1 +1 -1 +1 +1   -4.0       1     0.0\n",
      "3 +1 -1 +1 -1 -1   -4.0       2     0.0\n",
      "['SPIN', 4 rows, 10 samples, 5 variables]\n"
     ]
    }
   ],
   "source": [
    "forward_schedule=[[0.0, 0.0], [10.0, 0.25], [40, 0.75], [50, 1.0]]\n",
    "\n",
    "sampler = EmbeddingComposite(DWaveSampler())\n",
    "\n",
    "result = sampler.sample(prisma, num_reads=10, \n",
    "    anneal_schedule = forward_schedule)\n",
    "\n",
    "print(\"'Samples' obtenidos:\\n\")\n",
    "print(result)"
   ]
  },
  {
   "cell_type": "markdown",
   "metadata": {},
   "source": [
    "### Programación inversa (`reverse sheduling`)\n",
    "\n",
    "El annealer también soporta programación inversa, es decir, tramos en los cuales la variación s(t) es de la forma:\n",
    "                \n",
    "                s(t) = 1- 1/ta *t\n",
    "\n",
    "No obstante, una programación de este tipo <b> debe de empezar y terminar con s=1 </b>, por lo que es imperativo que el último tramo sea de programación directa.\n",
    "\n",
    "Este modo también obliga a indicar un estado inicial para s=1. Se hará mediante parejas clave:valor (índice_qb, estado) \n",
    "\n",
    "- -1 / 1 : Ising, activos\n",
    "- 0 / 1 : QUBO, activos\n",
    "- 3      : sin usar o inactivos\n",
    "\n",
    "https://docs.dwavesys.com/docs/latest/c_solver_parameters.html#param-initial-state\n",
    "\n",
    "Si se han programado múltiples `reads` mediante una llamada única a la API del solver, existen dos enfoques para el estado inicial del siguiente `read`:\n",
    "\n",
    "- `reinitialize_state=true`: reinicializa al estado inicial especificado en cada `read`.\n",
    "\n",
    "- `reinitialize_state=false`: solo se fija el estado inicial en el primer read. Los siguientes parten `del estado final` del `read` anterior.\n",
    "\n",
    "La programación siguiente parte en t=0 con s=1,  haciendo una programación inversa de 10𝜇𝑠 hasta s=0.5,  y a continuación una directa para completar el annealing a los 20𝜇𝑠, regresando a  s=1.\n"
   ]
  },
  {
   "cell_type": "code",
   "execution_count": 84,
   "metadata": {
    "id": "KbH16epAI1jO"
   },
   "outputs": [
    {
     "name": "stdout",
     "output_type": "stream",
     "text": [
      "'Samples' obtenidos:\n",
      "\n",
      "   0  1  2  3  4 energy num_oc. chain_.\n",
      "0 -1 +1 -1 +1 +1   -4.0       1     0.0\n",
      "1 -1 +1 -1 +1 -1   -4.0       1     0.0\n",
      "2 -1 +1 -1 +1 -1   -4.0       1     0.0\n",
      "3 +1 -1 +1 -1 -1   -4.0       1     0.0\n",
      "4 +1 -1 +1 -1 -1   -4.0       1     0.0\n",
      "5 +1 -1 +1 -1 +1   -4.0       1     0.0\n",
      "7 +1 -1 +1 -1 +1   -4.0       1     0.0\n",
      "8 +1 -1 +1 -1 +1   -4.0       1     0.0\n",
      "9 +1 -1 +1 -1 -1   -4.0       1     0.0\n",
      "6 +1 -1 -1 -1 +1   -2.0       1     0.0\n",
      "['SPIN', 10 rows, 10 samples, 5 variables]\n"
     ]
    }
   ],
   "source": [
    "reverse_schedule=[[0.0, 1.0], [10.0, 0.5], [20, 1.0]]\n",
    "estado_inicial = {0:-1, 1:-1, 2:-1, 3:1, 4:1}  # q4q3q2q1q0=-1-1-111\n",
    "\n",
    "sampler = EmbeddingComposite(DWaveSampler())\n",
    "result = sampler.sample(prisma, num_reads=10, \n",
    "    anneal_schedule = reverse_schedule,\n",
    "    reinitialize_state=False, initial_state = estado_inicial)\n",
    "\n",
    "print(\"'Samples' obtenidos:\\n\")\n",
    "print(result)"
   ]
  },
  {
   "cell_type": "markdown",
   "metadata": {},
   "source": [
    "## Anexo"
   ]
  },
  {
   "cell_type": "markdown",
   "metadata": {},
   "source": [
    "### Samplers y solvers alternativos"
   ]
  },
  {
   "cell_type": "markdown",
   "metadata": {},
   "source": [
    "Un `sampler` acepta un problema en formato de modelo cuadrático binario (BQM) o modelo cuadrático discreto (DQM) y devuelve asignaciones de variables. Los samplers generalmente intentan minimizar una función objetivo, pero también pueden muestrear distribuciones definidas por el problema.\n",
    "\n",
    "https://docs.ocean.dwavesys.com/projects/system/en/stable/reference/samplers.html\n",
    "\n",
    "https://docs.ocean.dwavesys.com/en/stable/docs_system/reference/samplers.html"
   ]
  },
  {
   "cell_type": "markdown",
   "metadata": {},
   "source": [
    "#### SteepestDescentSolver()\n",
    "\n",
    "https://docs.ocean.dwavesys.com/projects/greedy/en/latest/reference/generated/greedy.sampler.SteepestDescentSolver.sample.html"
   ]
  },
  {
   "cell_type": "code",
   "execution_count": 15,
   "metadata": {
    "id": "XNpcZwmJJjqs"
   },
   "outputs": [
    {
     "name": "stdout",
     "output_type": "stream",
     "text": [
      "   0  1  2  3  4 energy num_oc. num_st.\n",
      "0 +1 -1 +1 -1 +1   -4.0       3       1\n",
      "1 -1 +1 -1 +1 +1   -4.0       1       2\n",
      "2 -1 +1 -1 +1 -1   -4.0       3       1\n",
      "3 +1 -1 +1 -1 -1   -4.0       3       1\n",
      "['SPIN', 4 rows, 10 samples, 5 variables]\n"
     ]
    }
   ],
   "source": [
    "import greedy\n",
    "import dimod\n",
    " \n",
    "J = {(0,1):1, (0,3):1, (0,4):1,(1,2):1, (1,4):1, (2,3):1, (2,4):1, (3,4):1}\n",
    "h = {}\n",
    "\n",
    "prisma = dimod.BinaryQuadraticModel(h, J, 0.0, dimod.SPIN)\n",
    "\n",
    "# Sampler con  SteepestDescentSolver\n",
    "\n",
    "solver = greedy.SteepestDescentSolver()\n",
    "solution = solver.sample(prisma, num_reads = 10)\n",
    "\n",
    "print(solution.aggregate())"
   ]
  },
  {
   "cell_type": "code",
   "execution_count": 30,
   "metadata": {
    "id": "ED0psiS0Jppm"
   },
   "outputs": [
    {
     "name": "stdout",
     "output_type": "stream",
     "text": [
      "   0  1  2  3  4 energy num_oc. num_re.\n",
      "0 +1 -1 +1 -1 -1   -4.0       5       1\n",
      "1 -1 +1 -1 +1 +1   -4.0       4       1\n",
      "2 +1 -1 +1 -1 +1   -4.0       4       1\n",
      "3 -1 +1 -1 +1 -1   -4.0       2       1\n",
      "['SPIN', 4 rows, 15 samples, 5 variables]\n"
     ]
    }
   ],
   "source": [
    "import tabu \n",
    "\n",
    "solver = tabu.TabuSampler()\n",
    "solution = solver.sample(prisma, num_reads = 15)\n",
    "\n",
    "print(solution.aggregate())"
   ]
  },
  {
   "cell_type": "markdown",
   "metadata": {},
   "source": [
    "#### SimulatedAnnealingSampler()\n",
    "\n",
    "Sampler dimod que utiliza un algoritmo de annealing simulado, un método heurístico de optimización para ordenadores clásicos.\n",
    "\n",
    "https://docs.ocean.dwavesys.com/projects/neal/en/latest/reference/sampler.html"
   ]
  },
  {
   "cell_type": "code",
   "execution_count": 85,
   "metadata": {
    "id": "Cmeis9TDJtZ1"
   },
   "outputs": [
    {
     "name": "stdout",
     "output_type": "stream",
     "text": [
      "   0  1  2  3  4 energy num_oc.\n",
      "0 +1 -1 +1 -1 -1   -4.0       3\n",
      "1 -1 +1 -1 +1 -1   -4.0       3\n",
      "2 -1 +1 -1 +1 +1   -4.0       2\n",
      "3 +1 -1 +1 -1 +1   -4.0       2\n",
      "['SPIN', 4 rows, 10 samples, 5 variables]\n"
     ]
    }
   ],
   "source": [
    "import neal \n",
    "\n",
    "sampler = neal.SimulatedAnnealingSampler()\n",
    "solution = sampler.sample(prisma, num_reads = 10)\n",
    "\n",
    "print(solution.aggregate())"
   ]
  },
  {
   "cell_type": "markdown",
   "metadata": {},
   "source": [
    "#### Samplers Dwave\n",
    "\n",
    "https://docs.ocean.dwavesys.com/en/stable/docs_system/reference/samplers.html"
   ]
  },
  {
   "cell_type": "code",
   "execution_count": 90,
   "metadata": {
    "id": "RHU3aB83Jv0r"
   },
   "outputs": [],
   "source": [
    "import dwave.system \n",
    "\n",
    "sampler = dwave.system.LeapHybridSampler()\n"
   ]
  },
  {
   "cell_type": "code",
   "execution_count": 91,
   "metadata": {},
   "outputs": [
    {
     "name": "stdout",
     "output_type": "stream",
     "text": [
      "   0  1  2  3  4 energy num_oc. chain_.\n",
      "0 +1 -1 +1 -1 -1   -4.0       1     0.0\n",
      "1 -1 +1 -1 +1 -1   -4.0       6     0.0\n",
      "2 -1 +1 -1 +1 +1   -4.0       2     0.0\n",
      "3 +1 +1 +1 -1 -1   -2.0       1     0.0\n",
      "['SPIN', 4 rows, 10 samples, 5 variables]\n"
     ]
    }
   ],
   "source": [
    "import dwave.system \n",
    "\n",
    "sampler = EmbeddingComposite(DWaveSampler())\n",
    "solution = sampler.sample(prisma, num_reads = 10)\n",
    "\n",
    "print(solution.aggregate())"
   ]
  },
  {
   "cell_type": "markdown",
   "metadata": {},
   "source": [
    "#### DWaveCliqueSampler\n",
    "\n",
    "Sampler para resolver Clique BQM en los sistemas D-Wave\n",
    "\n"
   ]
  },
  {
   "cell_type": "code",
   "execution_count": null,
   "metadata": {},
   "outputs": [],
   "source": []
  }
 ],
 "metadata": {
  "colab": {
   "provenance": []
  },
  "kernelspec": {
   "display_name": "Python 3 (ipykernel)",
   "language": "python",
   "name": "python3"
  },
  "language_info": {
   "codemirror_mode": {
    "name": "ipython",
    "version": 3
   },
   "file_extension": ".py",
   "mimetype": "text/x-python",
   "name": "python",
   "nbconvert_exporter": "python",
   "pygments_lexer": "ipython3",
   "version": "3.10.11"
  }
 },
 "nbformat": 4,
 "nbformat_minor": 4
}
