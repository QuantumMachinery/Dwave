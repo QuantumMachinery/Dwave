{
 "cells": [
  {
   "cell_type": "markdown",
   "id": "da40bd2f-1d24-4bdf-be58-8eef2a42ee7f",
   "metadata": {
    "tags": []
   },
   "source": [
    "## Planificación de la producción: frutería\n",
    "\n",
    "V1.0, Julio 23\n",
    "\n",
    "#### Problema CQM c/ reformulación Qubo\n",
    "\n",
    "En este interesante e intuitivo problema CQM se modela el beneficio de una frutería atendiendo a la producción de dos surtidos de frutas.\n",
    "\n",
    "La función objetivo codifica la diferencia entre el importe de venta de los lotes y el coste de la materia prima usada para su confección.\n",
    "\n",
    "Una frutería vende dos tipos de surtidos de frutos rojos, A y B. \n",
    "\n",
    "\n",
    "- El surtido de tipo A contiene 75 g de arándanos y 100 g de frambuesas, se vende a 3 euros\n",
    "\n",
    "- El surtido de tipo B contiene 75 g de arándanos y 50 g de frambuesas, se vende a  2 euros. \n",
    "\n",
    "- La frutería dispone de un total de 4 kg de arándanos y 5 kg de frambuesas \n",
    "\n",
    "- Las ventas de tipo A, siempre es menor o igual al doble de los de tipo B.\n",
    "\n",
    "\n",
    "Para el frutero el coste de las materias primas son:\n",
    "\n",
    "- 500g de frambuesa le cuestan 6€, y de arándano 8€\n",
    "\n",
    "<b> Se pide </b>\n",
    "\n",
    "1. Determinar los lotes que deben de prepararse de cada clase para maximar importe ventas\n",
    "\n",
    "2. Deducir beneficio:\n",
    "\n",
    "    - manualmente, a partir del dimensionado de los lotes\n",
    "    - codificando el coste en la función objetivo.\n",
    "\n",
    "\n",
    "<b>Planteamiento algebraico:</b>\n",
    "\n",
    "    - x1, x2 ; variables  A y  B\n",
    "\n",
    "    - Función objetivo 1: minimizar{f(x1,x2)} = -3*x1 - 2*x2\n",
    "    - Función objetivo 2: minimizar {f(x1,x2)=(75*x1 + 75*x2)*8/500+ (100*x1 + 50*x2)*6/500 -(3*x1 + 2*x2))}\n",
    "\n",
    "- Restricciones:\n",
    "\n",
    "    - 75x1 + 75x2 <= 4000 \n",
    "    - 100x1+ 50x2 <= 5000\n",
    "    - x1 -2X2 <= 0 \n",
    "\n",
    "\n"
   ]
  },
  {
   "cell_type": "code",
   "execution_count": 36,
   "id": "77bae138-26c9-4b39-b5a2-63c2d5f0a4df",
   "metadata": {},
   "outputs": [],
   "source": [
    "# Recursos\n",
    "import dimod\n",
    "from dimod import ConstrainedQuadraticModel, ExactCQMSolver, Integer\n",
    "from dwave.system import DWaveSampler, EmbeddingComposite\n",
    "\n",
    "# Funciones auxiliares\n",
    "\n",
    "def sol_factibles(sampleset,n=None):\n",
    "    # Resultados\n",
    "    \n",
    "    subset=sampleset.filter(lambda s: s.is_feasible).aggregate()\n",
    "    \n",
    "    if not n:\n",
    "        print(f\"\\nLas {len(subset)} soluciones factibles al problema son:\\n\")\n",
    "    else:\n",
    "        print(f\"\\nImprimiendo las {n}/{len(subset)} primeras soluciones factibles:\\n\")\n",
    "    \n",
    "    print(subset.slice(n))\n",
    "    \n",
    "    \n",
    "def sol_problema(result):\n",
    "    # Agregación de los n reads\n",
    "    samples = []\n",
    "    ocurrencias = []\n",
    "\n",
    "    for s in result.data():\n",
    "        samples.append(invert(s.sample))\n",
    "        ocurrencias.append(s.num_occurrences)\n",
    "\n",
    "    sampleset = dimod.SampleSet.from_samples_cqm(samples,cqm,num_occurrences=ocurrencias)\n",
    "    return(sampleset)"
   ]
  },
  {
   "cell_type": "markdown",
   "id": "467459a4-0b79-4570-96cf-99796e0594bc",
   "metadata": {},
   "source": [
    "#### Caso simple\n",
    "\n",
    "Obtener dimensionado surtidos atendiendo al criterio de maximizar el importe de venta "
   ]
  },
  {
   "cell_type": "code",
   "execution_count": 22,
   "id": "8a0d61ff-6203-4c85-aa9a-7d0d471539b1",
   "metadata": {},
   "outputs": [
    {
     "name": "stdout",
     "output_type": "stream",
     "text": [
      "Planteamiento problema CQM\n",
      "==========================\n",
      "Constrained quadratic model: 2 variables, 3 constraints, 8 biases\n",
      "\n",
      "Objective\n",
      "  -3*Integer('Xa') - 2*Integer('Xb')\n",
      "\n",
      "Constraints\n",
      "  Producción 1: 75*x1 + 75*x2 <= 4000: 75*Integer('Xa') + 75*Integer('Xb') <= 4000.0\n",
      "  Producción 2: 100*x1 + 50*x2 <= 5000: 100*Integer('Xa') + 50*Integer('Xb') <= 5000.0\n",
      "  Producción 3: x1 - 2*x2 <= 0: Integer('Xa') - 2*Integer('Xb') <= 0.0\n",
      "\n",
      "Bounds\n",
      "  0.0 <= Integer('Xa') <= 40.0\n",
      "  0.0 <= Integer('Xb') <= 40.0\n",
      "\n"
     ]
    }
   ],
   "source": [
    "## Definición del problema CQM\n",
    "\n",
    "x1 = Integer('Xa',upper_bound=40)\n",
    "x2 = Integer('Xb',upper_bound=40)\n",
    "\n",
    "cqm = ConstrainedQuadraticModel()\n",
    "\n",
    "\n",
    "# Función objetivo: Maximizar (ventas-costes)o minimizar (-ventas+costes)\n",
    "\n",
    "cqm.set_objective(-3*x1 - 2*x2)\n",
    "\n",
    "# Restricciones\n",
    "\n",
    "cqm.add_constraint(75*x1 + 75*x2 <= 4000,\"Producción 1: 75*x1 + 75*x2 <= 4000\")\n",
    "cqm.add_constraint(100*x1 + 50*x2 <= 5000,\"Producción 2: 100*x1 + 50*x2 <= 5000\")\n",
    "cqm.add_constraint(x1 - 2*x2 <= 0,\"Producción 3: x1 - 2*x2 <= 0\")\n",
    "print(\"Planteamiento problema CQM\")\n",
    "print(\"==========================\")\n",
    "print(cqm)"
   ]
  },
  {
   "cell_type": "markdown",
   "id": "02eed209-1aac-416b-bf44-4891b216df25",
   "metadata": {},
   "source": [
    "### Solución por fuerza bruta"
   ]
  },
  {
   "cell_type": "code",
   "execution_count": 24,
   "id": "edf95fa5-cad3-4fc2-b8b0-6896d19a0883",
   "metadata": {
    "tags": []
   },
   "outputs": [],
   "source": [
    "result = ExactCQMSolver().sample_cqm(cqm)"
   ]
  },
  {
   "cell_type": "code",
   "execution_count": 25,
   "id": "26c00d6c-2002-4f56-a16f-50aa21ceced0",
   "metadata": {
    "tags": []
   },
   "outputs": [
    {
     "name": "stdout",
     "output_type": "stream",
     "text": [
      "\n",
      "Imprimiendo las 10/899 primeras soluciones factibles:\n",
      "\n",
      "  Xa Xb energy num_oc. is_sat. is_fea.\n",
      "0 35 18 -141.0       1 arra...    True\n",
      "1 34 19 -140.0       1 arra...    True\n",
      "2 33 20 -139.0       1 arra...    True\n",
      "3 32 21 -138.0       1 arra...    True\n",
      "4 34 18 -138.0       1 arra...    True\n",
      "5 33 19 -137.0       1 arra...    True\n",
      "6 31 22 -137.0       1 arra...    True\n",
      "7 34 17 -136.0       1 arra...    True\n",
      "8 32 20 -136.0       1 arra...    True\n",
      "9 30 23 -136.0       1 arra...    True\n",
      "['INTEGER', 10 rows, 10 samples, 2 variables]\n"
     ]
    }
   ],
   "source": [
    "solCPU=sol_factibles(result,10)"
   ]
  },
  {
   "cell_type": "markdown",
   "id": "b787f2c1-4738-45e4-987c-c00634b0976d",
   "metadata": {},
   "source": [
    "\n",
    "<b>Resultados:</b>\n",
    "\n",
    "- Lotes: A: 35  B: 18\n",
    "\n",
    "- Importe ventas: 141€\n",
    "\n",
    "- Costes: \n",
    "\n",
    "    - Arándanos: 75x35 + 75x18 = 3975,   coste: 63.6€\n",
    "    - Frambuesas: 100x35 + 50x18 = 4400, coste: 52.8€\n",
    "    \n",
    "- Beneficio: \n",
    "\n",
    "    - Ventas-coste: 141-63.6-52.8= 24.6€\n",
    "    \n"
   ]
  },
  {
   "cell_type": "markdown",
   "id": "ad00d6ef-3609-4307-a5bb-d713b05b8e0b",
   "metadata": {},
   "source": [
    "#### Función objetivo: minimizar costes-ventas\n",
    "\n",
    "Se va ahora a incluir en la funcón objetivo el coste de los lotes, evitando así el posprocesado numérico para obtener el beneficio.\n",
    "\n",
    "Maximizar (ventas-costes) equivale a  Minimizar (-ventas+costes)"
   ]
  },
  {
   "cell_type": "code",
   "execution_count": 26,
   "id": "475883a6-9ddd-4da2-a57f-69a5a9b0a4dc",
   "metadata": {},
   "outputs": [
    {
     "name": "stdout",
     "output_type": "stream",
     "text": [
      "Planteamiento problema CQM\n",
      "==========================\n",
      "Constrained quadratic model: 2 variables, 3 constraints, 8 biases\n",
      "\n",
      "Objective\n",
      "  -0.6000000000000001*Integer('Xa') - 0.20000000000000018*Integer('Xb')\n",
      "\n",
      "Constraints\n",
      "  Producción 1: 75*x1 + 75*x2 <= 4000: 75*Integer('Xa') + 75*Integer('Xb') <= 4000.0\n",
      "  Producción 2: 100*x1 + 50*x2 <= 5000: 100*Integer('Xa') + 50*Integer('Xb') <= 5000.0\n",
      "  Producción 3: x1 - 2*x2 <= 0: Integer('Xa') - 2*Integer('Xb') <= 0.0\n",
      "\n",
      "Bounds\n",
      "  0.0 <= Integer('Xa') <= 40.0\n",
      "  0.0 <= Integer('Xb') <= 40.0\n",
      "\n"
     ]
    }
   ],
   "source": [
    "## Definición del problema CQM\n",
    "\n",
    "x1 = Integer('Xa',upper_bound=40)\n",
    "x2 = Integer('Xb',upper_bound=40)\n",
    "\n",
    "cqm = ConstrainedQuadraticModel()\n",
    "\n",
    "\n",
    "# Función objetivo: \n",
    "\n",
    "cqm.set_objective((75*x1 + 75*x2)*8/500+ (100*x1 + 50*x2)*6/500 -(3*x1 + 2*x2))\n",
    "\n",
    "# Restricciones\n",
    "\n",
    "cqm.add_constraint(75*x1 + 75*x2 <= 4000,\"Producción 1: 75*x1 + 75*x2 <= 4000\")\n",
    "cqm.add_constraint(100*x1 + 50*x2 <= 5000,\"Producción 2: 100*x1 + 50*x2 <= 5000\")\n",
    "cqm.add_constraint(x1 - 2*x2 <= 0,\"Producción 3: x1 - 2*x2 <= 0\")\n",
    "print(\"Planteamiento problema CQM\")\n",
    "print(\"==========================\")\n",
    "print(cqm)"
   ]
  },
  {
   "cell_type": "code",
   "execution_count": 27,
   "id": "609f3e6f-c472-4350-8790-2bd3b40330bf",
   "metadata": {
    "tags": []
   },
   "outputs": [],
   "source": [
    "result = ExactCQMSolver().sample_cqm(cqm)"
   ]
  },
  {
   "cell_type": "code",
   "execution_count": 28,
   "id": "ac9541c3-8f30-4c4c-9349-e36e7dcf0e43",
   "metadata": {
    "tags": []
   },
   "outputs": [
    {
     "name": "stdout",
     "output_type": "stream",
     "text": [
      "\n",
      "Imprimiendo las 10/899 primeras soluciones factibles:\n",
      "\n",
      "  Xa Xb energy num_oc. is_sat. is_fea.\n",
      "0 35 18  -24.6       1 arra...    True\n",
      "1 34 19  -24.2       1 arra...    True\n",
      "2 34 18  -24.0       1 arra...    True\n",
      "3 33 20  -23.8       1 arra...    True\n",
      "4 34 17  -23.8       1 arra...    True\n",
      "5 33 19  -23.6       1 arra...    True\n",
      "6 33 18  -23.4       1 arra...    True\n",
      "7 32 21  -23.4       1 arra...    True\n",
      "8 33 17  -23.2       1 arra...    True\n",
      "9 32 20  -23.2       1 arra...    True\n",
      "['INTEGER', 10 rows, 10 samples, 2 variables]\n"
     ]
    }
   ],
   "source": [
    "solCPU=sol_factibles(result,10)"
   ]
  },
  {
   "cell_type": "markdown",
   "id": "349c04dd-67e0-4d70-beb6-7b3abca3e796",
   "metadata": {},
   "source": [
    "### Solución con QPU"
   ]
  },
  {
   "cell_type": "code",
   "execution_count": 33,
   "id": "a04d4ffb-2199-4848-ac50-a001994c49fc",
   "metadata": {
    "tags": []
   },
   "outputs": [],
   "source": [
    "#reformulación qubo y sampling\n",
    "\n",
    "fl=20 # factor penalizador de lagrange\n",
    "\n",
    "qubo, invert = dimod.cqm_to_bqm(cqm, lagrange_multiplier = fl)\n",
    "\n",
    "sampler = EmbeddingComposite(DWaveSampler())\n",
    "result = sampler.sample(qubo, num_reads=2000)"
   ]
  },
  {
   "cell_type": "code",
   "execution_count": 34,
   "id": "2d2e80d8-808e-45b0-92c9-ce807d6c460d",
   "metadata": {},
   "outputs": [
    {
     "name": "stdout",
     "output_type": "stream",
     "text": [
      "\n",
      "Imprimiendo las 5/384 primeras soluciones factibles:\n",
      "\n",
      "  Xa Xb energy num_oc. is_sat. is_fea.\n",
      "0 35 18  -24.6       1 arra...    True\n",
      "1 34 19  -24.2       1 arra...    True\n",
      "2 33 20  -23.8       2 arra...    True\n",
      "3 33 19  -23.6       1 arra...    True\n",
      "4 33 18  -23.4       1 arra...    True\n",
      "['INTEGER', 5 rows, 6 samples, 2 variables]\n"
     ]
    }
   ],
   "source": [
    "sampleset=sol_problema(result)\n",
    "solQPU=sol_factibles(sampleset,5)"
   ]
  },
  {
   "cell_type": "markdown",
   "id": "b38afd6c-5be7-444f-87c9-759e9216426b",
   "metadata": {},
   "source": [
    "### <b>Analizando los resultados del sampler QPU</b>\n",
    "\n",
    "- Se ha formulado un problema Qubo desde un problema CQM\n",
    "\n",
    "- La fuerza bruta es útil para estimar el upper_bound del espacio de entradas, para luego ajustarlo para la QPU\n",
    "\n",
    "- El espacio de soluciones factibles es muy inferior al de fuerza bruta\n",
    "\n",
    "- Se han replicado los valores óptimos obtenidos por fuerza bruta\n",
    "\n",
    "- Con 1000 samples se resolvió el problema con función de coste simple\n",
    "\n",
    "- Hubo que subir a 2000 para obtener el beneficio correcto con una única ocurrencia.\n",
    "\n"
   ]
  },
  {
   "cell_type": "code",
   "execution_count": null,
   "id": "b6fb8c9b-efd1-4755-af8f-0b2b24e63268",
   "metadata": {},
   "outputs": [],
   "source": []
  }
 ],
 "metadata": {
  "kernelspec": {
   "display_name": "Python 3 (ipykernel)",
   "language": "python",
   "name": "python3"
  },
  "language_info": {
   "codemirror_mode": {
    "name": "ipython",
    "version": 3
   },
   "file_extension": ".py",
   "mimetype": "text/x-python",
   "name": "python",
   "nbconvert_exporter": "python",
   "pygments_lexer": "ipython3",
   "version": "3.10.11"
  }
 },
 "nbformat": 4,
 "nbformat_minor": 5
}
