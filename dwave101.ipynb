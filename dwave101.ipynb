{
 "cells": [
  {
   "cell_type": "markdown",
   "metadata": {
    "id": "9Ld6xO_gU1GD"
   },
   "source": [
    "# QA - Quantum Annealing - Dwave 101"
   ]
  },
  {
   "cell_type": "markdown",
   "metadata": {},
   "source": [
    "Documento referencial fundamental:\n",
    "\n",
    "https://support.dwavesys.com/hc/en-us/articles/360045654674-Which-Solver-Sampler-Should-I-Use-\n",
    "\n",
    "Documentos iniciales esencial sobre solvers, tipos etc:\n",
    "\n",
    "https://docs.dwavesys.com/docs/latest/doc_getting_started.html\n",
    "\n",
    "\n",
    "https://docs.dwavesys.com/docs/latest/c_solver_parameters.html#:~:text=1000%2C%20**reverse_anneal_params)-,annealing_time,returned%20in%20the%20timing%20structure.\n",
    "\n",
    "\n",
    "#### Conceptos previos\n",
    "\n",
    "El annealing cuántico en el que se fundamentan los QPU de Dwave, está basado en la computación adiabática, con un hamiltoniano inicial de fácil preparación, y al que se hace evolucionar en el tiempo hacía el hamiltoniano problema, siendo la función de coste a minimizar, la energía de este hamiltoniano problema. En un annealer el principio de evolución adiabática solo es inspiradora, por lo que no está garantizada que el estado final corresponda al de mínima energía del problema planteado. \n",
    "\n",
    "En el siguiente enlace se desarrolla un poco más esta base fundacional.\n",
    "\n",
    "https://docs.dwavesys.com/docs/latest/c_qpu_annealing.html\n",
    "\n",
    "En D-Wave, un `solver` es una abstracción de alto nivel que abarca los componentes hardware y software necesarios para resolver un problema de optimización determinado. Consiste en una colección de herramientas y algoritmos que se utilizan para mapear el problema de optimización en el hardware del annealer.\n",
    "\n",
    "El solver encapsula todo el proceso de formulación de la función de coste del problema,y de sus restricciones, brindando un interfaz que permita a los usuarios ingresar el problema de una manera que se pueda luego transpilar en el annealer cuántico.  \n",
    "\n",
    "Los solvers también manejan varios detalles técnicos, como configurar la conexión con el annealer, envío a la nube para su ejecución y recuperación de los resultados.\n",
    "\n",
    "Documentación específica:\n",
    "\n",
    "Getting Started oficial:\n",
    "\n",
    "https://docs.dwavesys.com/docs/latest/doc_getting_started.html\n",
    "\n",
    "Parámetros Solvers:\n",
    "\n",
    "https://docs.dwavesys.com/docs/latest/doc_solver_ref.html\n",
    "\n",
    "\n",
    "Por otro lado, un `sampler` es un componente de bajo nivel que interactúa directamente con el hardware del annealer. Toma un problema como entrada y devuelve una muestras de la distribución de posibles soluciones. Un sampler no realiza ninguna formulación o interpretación del problema de alto nivel, ni aplica ninguna restricción a las soluciones que devuelve. Simplemente toma un problema en un formato particular, lo mapea en el annealer cuántico, lo ejecuta n `reads`, equivalente a los `runs`, y devuelve el conjunto de muestras o `samples`, que son la configuraciones de los qbits-variables soluciones del problema.\n",
    "\n",
    "\n",
    "La adaptación del problema al hardware qpu, o transpilación, se denomina `embedding` o incrustación en este ecosistema.\n",
    "\n",
    "\n",
    "Algoritmos de grafos proporcionados\n",
    "\n",
    "https://docs.ocean.dwavesys.com/projects/dwave-networkx/en/latest/reference/algorithms/index.html\n"
   ]
  },
  {
   "cell_type": "markdown",
   "metadata": {
    "id": "JVihxhS9VEKJ"
   },
   "source": [
    "Instalación del entorno SDK. Mejor crear env Anaconda."
   ]
  },
  {
   "cell_type": "code",
   "execution_count": 1,
   "metadata": {
    "id": "SKFxM8wQANz2"
   },
   "outputs": [],
   "source": [
    "# pip install dwave-ocean-sdk==6.0.1"
   ]
  },
  {
   "cell_type": "markdown",
   "metadata": {
    "id": "jW-1DjgJVbvU"
   },
   "source": [
    "Configuración de la cuenta. \n",
    "Mejor hacerlo desde consola para mayor claridad. Activar previamente env ocean!\n",
    "\n",
    "Solo es necesario la primera vez"
   ]
  },
  {
   "cell_type": "code",
   "execution_count": 2,
   "metadata": {
    "id": "9WoQF03-EaGu"
   },
   "outputs": [],
   "source": [
    "# !dwave config create -> mejor desde consola"
   ]
  },
  {
   "cell_type": "markdown",
   "metadata": {},
   "source": [
    "Dentro del SDK Ocean, la biblioteca `dimod` es una API para samplers, proporcionado por ejemplo, la clase BQM (binary quadratic model) que permite plantear problemas de optimización usando:\n",
    "\n",
    "- Modelo Ising para variables {-1,1}\n",
    "- Modelos Qubo, tanto cuadráticos como de orden superior!- para variables {0,1}\n",
    "\n",
    "https://docs.ocean.dwavesys.com/en/stable/docs_dimod/index.html\n",
    "\n",
    "\n",
    "Ocean proporciona varios samplers que permiten depurar los algoritmos con cpu local, y que no consumen por tanto tiempo-máquina:\n",
    "\n",
    "Una lista de los mismos:\n",
    "\n",
    "https://docs.ocean.dwavesys.com/en/stable/docs_dimod/reference/sampler_composites/samplers.html\n",
    "\n",
    "Pero especialmente, estamos interesados en samplers Qhardware:\n",
    "\n",
    "https://docs.ocean.dwavesys.com/en/stable/docs_system/reference/samplers.html"
   ]
  },
  {
   "cell_type": "markdown",
   "metadata": {},
   "source": [
    "### Primer ejemplo. Maxcut \n",
    "\n",
    "Se pretende resolver un problema maxcut de 5 nodos. Para fijar visualmente el problema, una geometría de prisma de base cuadrada:  4 nodos en los vértices de las aristas de un cuadrado, y un quinto nodo en el centro. "
   ]
  },
  {
   "cell_type": "markdown",
   "metadata": {},
   "source": [
    "#### Modelo Ising\n",
    "\n",
    "El formalismo Ising se adapta especialmente bien a este tipo de problemas, favoreciendo con un peso -1 a las configuraciones nodales de diferente clase, o penalizando con un peso de +1 cuando los nodos pertenecen a la misma clase.\n",
    "\n",
    "Por cada configuración se obtendrá una función de coste asociada, con el balance final entre premios y penalizanciones para las diferentes aristas de la geometría nodal.\n",
    "\n",
    "Se utiliza QPU real Dwave con el sampler DwaveSampler\n",
    "\n",
    "Los parámetros del problema: J, h, BQM etc se pueden consultar en el siguiente link:\n",
    "\n",
    "https://docs.dwavesys.com/docs/latest/c_solver_problems.html"
   ]
  },
  {
   "cell_type": "code",
   "execution_count": 3,
   "metadata": {
    "id": "UUFTKnf6FMb4"
   },
   "outputs": [
    {
     "name": "stdout",
     "output_type": "stream",
     "text": [
      "El problema a resolver es::\n",
      "BinaryQuadraticModel({0: 0.0, 1: 0.0, 3: 0.0, 4: 0.0, 2: 0.0}, {(1, 0): 1.0, (3, 0): 1.0, (4, 0): 1.0, (4, 1): 1.0, (4, 3): 1.0, (2, 1): 1.0, (2, 3): 1.0, (2, 4): 1.0}, 0.0, 'SPIN')\n"
     ]
    }
   ],
   "source": [
    "# Modelo Maxcut Ising \n",
    "\n",
    "# 4 nodos en los vértices de un cuadrado, con nodo central, o prisma de base cuadrada.\n",
    "\n",
    "import dimod\n",
    "\n",
    "J = {(0,1):1, (0,3):1, (0,4):1,(1,2):1, (1,4):1, (2,3):1, (2,4):1, (3,4):1}\n",
    "h = {}\n",
    "\n",
    "problem = dimod.BinaryQuadraticModel(h, J, 0.0, dimod.SPIN)  #BQM\n",
    "print(\"El problema a resolver es::\")\n",
    "print(problem)\n"
   ]
  },
  {
   "cell_type": "code",
   "execution_count": null,
   "metadata": {},
   "outputs": [],
   "source": [
    "import dimod\n",
    "\n",
    "G = nx.Graph()\n",
    "G.add_weighted_edges_from({(0, 1, .1), (0, 2, .5), (0, 3, .1), (1, 2, .1),(1, 3, .5), (2, 3, .1)})\n",
    "\n",
    "dnx.traveling_salesperson(G, dimod.ExactSolver(), start=0) \n",
    "[0, 1, 2, 3]"
   ]
  },
  {
   "cell_type": "code",
   "execution_count": 4,
   "metadata": {
    "id": "qgAnVWndFlUT"
   },
   "outputs": [
    {
     "name": "stdout",
     "output_type": "stream",
     "text": [
      "Soluciones Ising\n",
      "   0  1  2  3  4 energy num_oc. chain_.\n",
      "0 -1 +1 -1 +1 -1   -4.0       4     0.0\n",
      "1 +1 -1 +1 -1 +1   -4.0       2     0.0\n",
      "2 +1 -1 +1 -1 -1   -4.0       3     0.0\n",
      "3 -1 +1 -1 +1 +1   -4.0       1     0.0\n",
      "['SPIN', 4 rows, 10 samples, 5 variables]\n"
     ]
    }
   ],
   "source": [
    "from dwave.system import DWaveSampler\n",
    "from dwave.system import EmbeddingComposite\n",
    "\n",
    "\n",
    "sampler = EmbeddingComposite(DWaveSampler())\n",
    "\n",
    "result = sampler.sample(problem, num_reads=10)\n",
    "\n",
    "print(\"Soluciones Ising\")\n",
    "print(result)"
   ]
  },
  {
   "cell_type": "markdown",
   "metadata": {},
   "source": [
    "Cada arista maxcut contribuye con -1 a la energía, cada arista no maxcut contribuye con +1.\n",
    "\n",
    "Energía mínima óptima = aristas * -1 = -8\n",
    "\n",
    "Energía mínima alcanzada = -4\n",
    "\n",
    "dif: 8-4 = 4\n",
    "\n",
    "max cut =  dif + dif/2 = 6 aristas\n",
    "\n",
    "max cut es de 6, con 4 posibles combinaciones nodales óptimas. \n",
    "\n",
    "Veamos ahora un modelo BQM con restricciones:\n",
    "\n",
    "- Modelo CQM, cuadrático con restricciones"
   ]
  },
  {
   "cell_type": "markdown",
   "metadata": {},
   "source": [
    "#### Modelo BQM\n",
    "\n",
    "Veamos ahora un modelo BQM con restricciones, o modelo CQM (modelo cuadrático con restricciones"
   ]
  },
  {
   "cell_type": "code",
   "execution_count": 55,
   "metadata": {
    "id": "42ucb8VpFuKt"
   },
   "outputs": [],
   "source": [
    "# Modelo binario cuadrático con restricciones: CQM\n",
    "\n",
    "# Definición de las variables binarias {0,1}\n",
    "\n",
    "x0 = dimod.Binary(\"x0\")\n",
    "x1 = dimod.Binary(\"x1\")\n",
    "x2 = dimod.Binary(\"x2\")\n",
    "x3 = dimod.Binary(\"x3\")"
   ]
  },
  {
   "cell_type": "code",
   "execution_count": 56,
   "metadata": {
    "id": "7upiqt8eFzy3"
   },
   "outputs": [
    {
     "data": {
      "text/plain": [
       "'Segunda restricción'"
      ]
     },
     "execution_count": 56,
     "metadata": {},
     "output_type": "execute_result"
    }
   ],
   "source": [
    "blp = dimod.ConstrainedQuadraticModel() #Modelo CQM\n",
    "\n",
    "blp.set_objective(-2*x0-3*x1+4*x2-x3)\n",
    "blp.add_constraint(x0 + x1 <= 2, \"Primera restricción\")\n",
    "blp.add_constraint(x2 + x3 <= 1, \"Segunda restricción\")"
   ]
  },
  {
   "cell_type": "code",
   "execution_count": 57,
   "metadata": {
    "id": "hJF69F3LF5Dc"
   },
   "outputs": [
    {
     "name": "stdout",
     "output_type": "stream",
     "text": [
      "Variables:\n",
      "Variables(['x0', 'x1', 'x2', 'x3'])\n",
      "Objetivo:\n",
      "ObjectiveView({'x0': -2.0, 'x1': -3.0, 'x2': 4.0, 'x3': -1.0}, {}, 0.0, {'x0': 'BINARY', 'x1': 'BINARY', 'x2': 'BINARY', 'x3': 'BINARY'})\n",
      "Restricciones:\n",
      "{'Primera restricción': Le(ConstraintView({'x0': 1.0, 'x1': 1.0}, {}, 0.0, {'x0': 'BINARY', 'x1': 'BINARY'}), 2.0), 'Segunda restricción': Le(ConstraintView({'x2': 1.0, 'x3': 1.0}, {}, 0.0, {'x2': 'BINARY', 'x3': 'BINARY'}), 1.0)}\n"
     ]
    }
   ],
   "source": [
    "print(\"Variables:\")\n",
    "print(blp.variables)\n",
    "print(\"Objetivo:\")\n",
    "print(blp.objective)\n",
    "print(\"Restricciones:\") \n",
    "print(blp.constraints)"
   ]
  },
  {
   "cell_type": "markdown",
   "metadata": {},
   "source": [
    "- Ensayos de soluciones (samples)"
   ]
  },
  {
   "cell_type": "code",
   "execution_count": 60,
   "metadata": {
    "id": "V9Wtt3OlF_uK"
   },
   "outputs": [
    {
     "name": "stdout",
     "output_type": "stream",
     "text": [
      "Muestra {'x0': 1, 'x1': 1, 'x2': 1, 'x3': 1}\n",
      "Su coste -2.0\n",
      "Es factible? False\n",
      "Métrica restricciones:\n",
      "{'Primera restricción': 0.0, 'Segunda restricción': 1.0}\n"
     ]
    }
   ],
   "source": [
    "sample1 = {\"x0\":1, \"x1\":1, \"x2\":1, \"x3\":1}\n",
    "print(\"Muestra\", sample1)\n",
    "print(\"Su coste\", blp.objective.energy(sample1))\n",
    "print(\"Es factible?\",blp.check_feasible(sample1))\n",
    "print(\"Métrica restricciones:\")\n",
    "print(blp.violations(sample1))"
   ]
  },
  {
   "cell_type": "code",
   "execution_count": 61,
   "metadata": {
    "id": "tam0h2V1GmP9"
   },
   "outputs": [
    {
     "name": "stdout",
     "output_type": "stream",
     "text": [
      "Muestra {'x0': 0, 'x1': 0, 'x2': 1, 'x3': 1}\n",
      "Su coste 3.0\n",
      "Es factible? False\n",
      "Métrica restricciones:\n",
      "{'Primera restricción': -2.0, 'Segunda restricción': 1.0}\n"
     ]
    }
   ],
   "source": [
    "sample2 = {\"x0\":0, \"x1\":0, \"x2\":1, \"x3\":1}\n",
    "print(\"Muestra\", sample2)\n",
    "print(\"Su coste\", blp.objective.energy(sample2))\n",
    "print(\"Es factible?\",blp.check_feasible(sample2))\n",
    "print(\"Métrica restricciones:\")\n",
    "print(blp.violations(sample2))"
   ]
  },
  {
   "cell_type": "markdown",
   "metadata": {},
   "source": [
    "En los resultados anteriores:\n",
    "- métrica con valor negativo: se viola restricción por defecto \n",
    "- métrica con valor positiva: se viola restricción por exceso\n",
    "\n",
    "\n",
    "A continuación se usará un Solver CQM exacto, por fuerza bruta. \n",
    "\n",
    "Lo que hace este solver es barrer todo el espacio de entradas, y para cada uno, valorar la función de coste, es decir, su función objetivo"
   ]
  },
  {
   "cell_type": "code",
   "execution_count": 62,
   "metadata": {
    "id": "xyQzxTkhGsZo"
   },
   "outputs": [
    {
     "name": "stdout",
     "output_type": "stream",
     "text": [
      "The list of assignments is\n",
      "   x0 x1 x2 x3 energy num_oc. is_sat. is_fea.\n",
      "11  1  1  0  1   -6.0       1 arra...    True\n",
      "3   1  1  0  0   -5.0       1 arra...    True\n",
      "9   0  1  0  1   -4.0       1 arra...    True\n",
      "1   0  1  0  0   -3.0       1 arra...    True\n",
      "10  1  0  0  1   -3.0       1 arra...    True\n",
      "2   1  0  0  0   -2.0       1 arra...    True\n",
      "15  1  1  1  1   -2.0       1 arra...   False\n",
      "7   1  1  1  0   -1.0       1 arra...    True\n",
      "8   0  0  0  1   -1.0       1 arra...    True\n",
      "0   0  0  0  0    0.0       1 arra...    True\n",
      "13  0  1  1  1    0.0       1 arra...   False\n",
      "5   0  1  1  0    1.0       1 arra...    True\n",
      "14  1  0  1  1    1.0       1 arra...   False\n",
      "6   1  0  1  0    2.0       1 arra...    True\n",
      "12  0  0  1  1    3.0       1 arra...   False\n",
      "4   0  0  1  0    4.0       1 arra...    True\n",
      "['INTEGER', 16 rows, 16 samples, 4 variables]\n"
     ]
    }
   ],
   "source": [
    "# Solver fuerza bruta ExactCQMSolver\n",
    "\n",
    "solver = dimod.ExactCQMSolver()\n",
    "solution = solver.sample_cqm(blp)\n",
    "\n",
    "print(\"Lista de asignaciones\")\n",
    "print(solution)"
   ]
  },
  {
   "cell_type": "markdown",
   "metadata": {},
   "source": [
    "\n",
    "De la tabla anterior se observa que la solución óptima, función de coste mínima,  corresponde a:\n",
    "\n",
    "[x0x1x2x3x4]=[1101]\n",
    "\n",
    "con valor f=-6.\n",
    "\n",
    "Se pueden extraer las soluciones factibles con el siguiente método:"
   ]
  },
  {
   "cell_type": "code",
   "execution_count": 64,
   "metadata": {
    "id": "9dRF20ktG2Wf"
   },
   "outputs": [
    {
     "data": {
      "text/plain": [
       "Sample(sample={'x0': 1, 'x1': 1, 'x2': 0, 'x3': 1}, energy=-6.0, num_occurrences=1, is_satisfied=array([ True,  True]), is_feasible=True)"
      ]
     },
     "execution_count": 64,
     "metadata": {},
     "output_type": "execute_result"
    }
   ],
   "source": [
    "feasible_sols = solution.filter(lambda s: s.is_feasible)\n",
    "feasible_sols.first"
   ]
  },
  {
   "cell_type": "markdown",
   "metadata": {},
   "source": [
    "#### CQM a Qubo\n",
    "\n",
    "Plantear un problema en formalismo qubo obliga a incorporar las restricciones a la función objetivo como penalizaciones,  usando para ello expresiones cuadráticas, generalmente con la ayuda de `variables slack`, y un `multiplicador o factor de Lagrange` que module el nivel de penalización por incumplimiento de la restricción.\n"
   ]
  },
  {
   "cell_type": "code",
   "execution_count": 67,
   "metadata": {
    "id": "JSYjdRNuG_x5"
   },
   "outputs": [],
   "source": [
    "# vy0, y1 = dimod.Binaries([\"y0\", \"y1\"])\n",
    "y0 = dimod.Binary(\"y0\")\n",
    "y1 = dimod.Binary(\"y1\")\n",
    "\n",
    "cqm = dimod.ConstrainedQuadraticModel() #CQM\n",
    "\n",
    "cqm.set_objective(-2*y0-3*y1)\n",
    "cqm.add_constraint(y0 + 2*y1 <= 2);"
   ]
  },
  {
   "cell_type": "code",
   "execution_count": 68,
   "metadata": {
    "id": "pJko6mDSHF63"
   },
   "outputs": [
    {
     "name": "stdout",
     "output_type": "stream",
     "text": [
      "BinaryQuadraticModel({'y0': -17.0, 'y1': -23.0, 'slack_v78a5140c4d30443b8e6c6f67b113bb37_0': -15.0, 'slack_v78a5140c4d30443b8e6c6f67b113bb37_1': -15.0}, {('y1', 'y0'): 20.0, ('slack_v78a5140c4d30443b8e6c6f67b113bb37_0', 'y0'): 10.0, ('slack_v78a5140c4d30443b8e6c6f67b113bb37_0', 'y1'): 20.0, ('slack_v78a5140c4d30443b8e6c6f67b113bb37_1', 'y0'): 10.0, ('slack_v78a5140c4d30443b8e6c6f67b113bb37_1', 'y1'): 20.0, ('slack_v78a5140c4d30443b8e6c6f67b113bb37_1', 'slack_v78a5140c4d30443b8e6c6f67b113bb37_0'): 10.0}, 20.0, 'BINARY')\n"
     ]
    }
   ],
   "source": [
    "qubo, invert = dimod.cqm_to_bqm(cqm, lagrange_multiplier = 5)\n",
    "print(qubo)"
   ]
  },
  {
   "cell_type": "code",
   "execution_count": 69,
   "metadata": {
    "id": "zeKwEoWxHJXz"
   },
   "outputs": [
    {
     "name": "stdout",
     "output_type": "stream",
     "text": [
      "The solutions that we have obtained are\n",
      "  slack_v78a5140c4d30443b8e6c6f67b113bb37_0 ... y1 energy num_oc. chain_.\n",
      "0                                         0 ...  1   -3.0       6     0.0\n",
      "1                                         0 ...  0   -2.0       1     0.0\n",
      "2                                         1 ...  0   -2.0       2     0.0\n",
      "3                                         0 ...  1    0.0       1     0.0\n",
      "['BINARY', 4 rows, 10 samples, 4 variables]\n"
     ]
    }
   ],
   "source": [
    "# Transpilado  (embedding) a Qpu\n",
    "\n",
    "sampler = EmbeddingComposite(DWaveSampler())\n",
    "result = sampler.sample(qubo, num_reads=10)\n",
    "\n",
    "print(\"Soluciones encontradas:\")\n",
    "print(result)"
   ]
  },
  {
   "cell_type": "markdown",
   "metadata": {},
   "source": [
    "Pero no todas estas soluciones son factibles, cumplen las restricciones, aunque su función de coste pueda ser la mínima.\n",
    "\n",
    "A continuación se hace un filtrado de estos resultados:"
   ]
  },
  {
   "cell_type": "code",
   "execution_count": 78,
   "metadata": {
    "id": "FrhzIllgHQqz"
   },
   "outputs": [
    {
     "name": "stdout",
     "output_type": "stream",
     "text": [
      "Soluciones (función de coste vs factibilidadd):\n",
      "  y0 y1 energy num_oc. is_sat. is_fea.\n",
      "3  1  1   -5.0       1 arra...   False\n",
      "0  0  1   -3.0       6 arra...    True\n",
      "1  1  0   -2.0       1 arra...    True\n",
      "2  1  0   -2.0       2 arra...    True\n",
      "['INTEGER', 4 rows, 10 samples, 2 variables]\n"
     ]
    }
   ],
   "source": [
    "samples = []\n",
    "occurrences = []\n",
    "for s in result.data():\n",
    "    samples.append(invert(s.sample))\n",
    "    occurrences.append(s.num_occurrences)\n",
    "sampleset = dimod.SampleSet.from_samples_cqm(samples,cqm,\n",
    "    num_occurrences=occurrences)\n",
    "print(\"Soluciones (función de coste vs factibilidadd):\")\n",
    "print(sampleset)"
   ]
  },
  {
   "cell_type": "code",
   "execution_count": 86,
   "metadata": {
    "id": "PKDAg5bsHZCl"
   },
   "outputs": [
    {
     "name": "stdout",
     "output_type": "stream",
     "text": [
      "\n",
      "Soluciones finales:\n",
      "  y0 y1 energy num_oc. is_sat. is_fea.\n",
      "0  0  1   -3.0       6 arra...    True\n",
      "1  1  0   -2.0       3 arra...    True\n",
      "['INTEGER', 2 rows, 9 samples, 2 variables]\n"
     ]
    }
   ],
   "source": [
    "final_sols = sampleset.filter(lambda s: s.is_feasible)\n",
    "final_sols = final_sols.aggregate()\n",
    "print(\"\\nSoluciones finales:\")\n",
    "print(final_sols)"
   ]
  },
  {
   "cell_type": "markdown",
   "metadata": {},
   "source": [
    "\n",
    "### Caracterización física de QPUs asignables a Cliente\n",
    "\n",
    "La instrucción `!dwave config create` , que ha de ejecutarse una primera y única vez en `local`, o en cada sesión si se hace desde `colab`, instancia el objeto Client que configura el entorno operativo y la disponibilidad de recursos asociados.\n",
    "\n",
    "Se puede obtener info relevante usando diferentes métodos del mismo."
   ]
  },
  {
   "cell_type": "code",
   "execution_count": 21,
   "metadata": {},
   "outputs": [],
   "source": [
    "# Funciones auxiliares informativas\n",
    "\n",
    "import random\n",
    "from dwave.system import DWaveSampler\n",
    "from dwave.cloud import Client\n",
    "\n",
    "def client_info():\n",
    "    print(\"Solvers:\")\n",
    "    for solver in Client.from_config().get_solvers():\n",
    "        print(solver)\n",
    "\n",
    "def dwave_info(sampler,modo=0):\n",
    "    print(\"Nombre:\",sampler.properties[\"chip_id\"])\n",
    "    print(\"No. qubits:\",sampler.properties[\"num_qubits\"])\n",
    "    print(\"Categoría:\",sampler.properties[\"category\"])\n",
    "    print(\"Problemas soportados:\",sampler.properties[\"supported_problem_types\"])\n",
    "    print(\"Topología:\",sampler.properties[\"topology\"])\n",
    "    print(\"Fuerza de acoplamiento\", sampler.properties[\"h_range\"])\n",
    "    print(\"Rango de 'reads':\",sampler.properties[\"num_reads_range\"])\n",
    "    print(\"Annealing time (defecto)\",sampler.properties[\"default_annealing_time\"],\"microsecs\")\n",
    "    print(\"Rango annealing time (us)\",sampler.properties[\"annealing_time_range\"])\n",
    "    if modo:\n",
    "        print(\"Acoplamientos:\",sampler.properties[\"couplers\"]) #muestra geometría\n",
    "        print(sampler.adjacency) # muestra adyacencias"
   ]
  },
  {
   "cell_type": "code",
   "execution_count": 22,
   "metadata": {},
   "outputs": [],
   "source": [
    "with Client.from_config() as client:\n",
    "    solver = client.get_solver()\n",
    "    # Build a random Ising model to exactly fit the graph the solver supports\n",
    "    linear = {index: random.choice([-1, 1]) for index in solver.nodes}\n",
    "    quad = {key: random.choice([-1, 1]) for key in solver.undirected_edges}"
   ]
  },
  {
   "cell_type": "code",
   "execution_count": 25,
   "metadata": {},
   "outputs": [
    {
     "data": {
      "text/plain": [
       "{(827, 830): -1,\n",
       " (247, 255): -1,\n",
       " (266, 268): -1,\n",
       " (1282, 1410): 1,\n",
       " (1920, 1926): 1,\n",
       " (1639, 1647): 1,\n",
       " (1979, 1981): -1,\n",
       " (262, 270): -1,\n",
       " (561, 566): 1,\n",
       " (602, 604): -1,\n",
       " (1347, 1475): 1,\n",
       " (321, 325): -1,\n",
       " (1975, 1983): -1,\n",
       " (1994, 1996): -1,\n",
       " (1713, 1717): 1,\n",
       " (897, 902): -1,\n",
       " (1683, 1811): -1,\n",
       " (336, 340): -1,\n",
       " (616, 623): 1,\n",
       " (908, 916): 1,\n",
       " (1768, 1774): -1,\n",
       " (672, 676): 1,\n",
       " (952, 959): -1,\n",
       " (971, 972): -1,\n",
       " (1251, 1255): 1,\n",
       " (616, 744): -1,\n",
       " (690, 693): -1,\n",
       " (110, 118): -1,\n",
       " (1145, 1273): -1,\n",
       " (1244, 1252): -1,\n",
       " (1307, 1308): -1,\n",
       " (1587, 1591): 1,\n",
       " (952, 1080): -1,\n",
       " (1026, 1029): 1,\n",
       " (446, 454): -1,\n",
       " (745, 750): -1,\n",
       " (1309, 1317): -1,\n",
       " (154, 282): 1,\n",
       " (683, 811): -1,\n",
       " (1321, 1327): -1,\n",
       " (1362, 1365): -1,\n",
       " (1546, 1674): 1,\n",
       " (1081, 1086): -1,\n",
       " (243, 246): 1,\n",
       " (3, 5): -1,\n",
       " (866, 868): -1,\n",
       " (1019, 1147): -1,\n",
       " (1657, 1663): -1,\n",
       " (1096, 1101): -1,\n",
       " (1882, 2010): -1,\n",
       " (856, 860): -1,\n",
       " (298, 303): -1,\n",
       " (58, 62): -1,\n",
       " (1731, 1733): 1,\n",
       " (1450, 1454): -1,\n",
       " (1491, 1492): 1,\n",
       " (634, 639): 1,\n",
       " (73, 77): -1,\n",
       " (179, 180): 1,\n",
       " (1786, 1790): 1,\n",
       " (1225, 1228): 1,\n",
       " (645, 653): -1,\n",
       " (1505, 1511): 1,\n",
       " (409, 413): -1,\n",
       " (128, 134): -1,\n",
       " (353, 481): 1,\n",
       " (427, 430): -1,\n",
       " (882, 1010): 1,\n",
       " (1561, 1564): -1,\n",
       " (981, 989): 1,\n",
       " (1841, 1847): -1,\n",
       " (1280, 1285): -1,\n",
       " (464, 470): 1,\n",
       " (689, 817): 1,\n",
       " (763, 766): 1,\n",
       " (183, 191): -1,\n",
       " (202, 204): -1,\n",
       " (482, 487): 1,\n",
       " (1616, 1621): -1,\n",
       " (1915, 1917): -1,\n",
       " (198, 206): 1,\n",
       " (538, 540): -1,\n",
       " (1283, 1411): 1,\n",
       " (818, 823): 1,\n",
       " (257, 261): -1,\n",
       " (1120, 1124): -1,\n",
       " (1911, 1919): 1,\n",
       " (603, 605): -1,\n",
       " (833, 838): 1,\n",
       " (1619, 1747): 1,\n",
       " (552, 559): 1,\n",
       " (593, 597): 1,\n",
       " (2017, 2022): -1,\n",
       " (1456, 1460): 1,\n",
       " (1985, 1989): -1,\n",
       " (888, 895): -1,\n",
       " (907, 908): -1,\n",
       " (1187, 1191): -1,\n",
       " (552, 680): 1,\n",
       " (1792, 1796): -1,\n",
       " (1180, 1188): -1,\n",
       " (433, 436): 1,\n",
       " (2040, 2046): -1,\n",
       " (1224, 1231): 1,\n",
       " (1523, 1527): -1,\n",
       " (888, 1016): 1,\n",
       " (962, 965): 1,\n",
       " (146, 150): 1,\n",
       " (90, 218): 1,\n",
       " (1516, 1524): 1,\n",
       " (769, 772): 1,\n",
       " (619, 747): -1,\n",
       " (1224, 1352): 1,\n",
       " (1298, 1301): 1,\n",
       " (718, 726): 1,\n",
       " (1017, 1022): -1,\n",
       " (456, 460): 1,\n",
       " (201, 207): 1,\n",
       " (426, 554): 1,\n",
       " (1880, 1885): -1,\n",
       " (955, 1083): -1,\n",
       " (1593, 1599): 1,\n",
       " (1818, 1946): 1,\n",
       " (1353, 1358): -1,\n",
       " (792, 796): -1,\n",
       " (275, 277): 1,\n",
       " (857, 861): 1,\n",
       " (1128, 1132): 1,\n",
       " (1427, 1428): -1,\n",
       " (570, 575): 1,\n",
       " (330, 334): -1,\n",
       " (1754, 1759): 1,\n",
       " (1193, 1197): -1,\n",
       " (52, 60): 1,\n",
       " (115, 116): -1,\n",
       " (1722, 1726): 1,\n",
       " (64, 70): -1,\n",
       " (105, 108): 1,\n",
       " (289, 417): -1,\n",
       " (1529, 1533): -1,\n",
       " (388, 396): -1,\n",
       " (917, 925): -1,\n",
       " (170, 173): 1,\n",
       " (1777, 1783): 1,\n",
       " (1216, 1221): -1,\n",
       " (400, 406): 1,\n",
       " (625, 753): -1,\n",
       " (699, 702): -1,\n",
       " (119, 127): -1,\n",
       " (1253, 1261): -1,\n",
       " (1552, 1557): 1,\n",
       " (1851, 1853): 1,\n",
       " (961, 1089): 1,\n",
       " (1035, 1038): 1,\n",
       " (455, 463): 1,\n",
       " (474, 476): -1,\n",
       " (754, 759): -1,\n",
       " (193, 197): 1,\n",
       " (163, 291): 1,\n",
       " (1617, 1622): 1,\n",
       " (1658, 1660): 1,\n",
       " (1847, 1855): 1,\n",
       " (1888, 1893): 1,\n",
       " (0, 4): -1,\n",
       " (1090, 1095): -1,\n",
       " (529, 533): -1,\n",
       " (1953, 1958): 1,\n",
       " (1392, 1396): 1,\n",
       " (824, 831): 1,\n",
       " (865, 869): -1,\n",
       " (1964, 1972): 1,\n",
       " (1728, 1732): -1,\n",
       " (2027, 2028): -1,\n",
       " (67, 71): 1,\n",
       " (930, 934): -1,\n",
       " (1116, 1124): 1,\n",
       " (369, 372): 1,\n",
       " (1976, 1982): -1,\n",
       " (1160, 1167): 1,\n",
       " (1459, 1463): -1,\n",
       " (824, 952): -1,\n",
       " (26, 154): 1,\n",
       " (705, 708): -1,\n",
       " (2031, 2039): 1,\n",
       " (1795, 1799): 1,\n",
       " (1160, 1288): -1,\n",
       " (1234, 1237): -1,\n",
       " (654, 662): -1,\n",
       " (953, 958): 1,\n",
       " (1739, 1867): -1,\n",
       " (137, 143): 1,\n",
       " (362, 490): -1,\n",
       " (719, 727): -1,\n",
       " (760, 765): 1,\n",
       " (990, 998): 1,\n",
       " (1289, 1294): -1,\n",
       " (728, 732): -1,\n",
       " (698, 826): 1,\n",
       " (211, 213): -1,\n",
       " (1354, 1359): 1,\n",
       " (1395, 1397): 1,\n",
       " (1625, 1630): -1,\n",
       " (1064, 1068): 1,\n",
       " (1344, 1351): -1,\n",
       " (1363, 1364): -1,\n",
       " (266, 270): -1,\n",
       " (1129, 1133): -1,\n",
       " (1699, 1700): 1,\n",
       " (1979, 1983): 1,\n",
       " (1344, 1472): 1,\n",
       " (602, 606): 1,\n",
       " (41, 44): 1,\n",
       " (321, 327): 1,\n",
       " (546, 674): -1,\n",
       " (324, 332): -1,\n",
       " (1184, 1190): -1,\n",
       " (667, 671): -1,\n",
       " (853, 861): 1,\n",
       " (106, 109): -1,\n",
       " (1713, 1719): -1,\n",
       " (2037, 2045): 1,\n",
       " (561, 689): -1,\n",
       " (55, 63): -1,\n",
       " (96, 101): -1,\n",
       " (660, 668): 1,\n",
       " (1520, 1526): -1,\n",
       " (1258, 1260): 1,\n",
       " (442, 445): 1,\n",
       " (1488, 1493): 1,\n",
       " (897, 1025): -1,\n",
       " (971, 974): 1,\n",
       " (391, 399): 1,\n",
       " (690, 695): 1,\n",
       " (99, 227): 1,\n",
       " (1594, 1596): -1,\n",
       " (497, 502): -1,\n",
       " (235, 236): -1,\n",
       " (727, 735): -1,\n",
       " (1026, 1031): -1,\n",
       " (465, 469): -1,\n",
       " (272, 276): -1,\n",
       " (571, 572): 1,\n",
       " (1362, 1367): -1,\n",
       " (801, 805): 1,\n",
       " (745, 873): -1,\n",
       " (1664, 1668): -1,\n",
       " (1944, 1951): 1,\n",
       " (3, 7): -1,\n",
       " (866, 870): -1,\n",
       " (856, 862): -1,\n",
       " (1081, 1209): 1,\n",
       " (2018, 2021): -1,\n",
       " (283, 411): -1,\n",
       " (641, 644): -1,\n",
       " (61, 69): 1,\n",
       " (921, 927): -1,\n",
       " (360, 365): 1,\n",
       " (590, 598): -1,\n",
       " (1491, 1494): -1,\n",
       " (1774, 1782): -1,\n",
       " (298, 426): -1,\n",
       " (397, 405): 1,\n",
       " (1257, 1263): -1,\n",
       " (696, 701): 1,\n",
       " (995, 997): -1,\n",
       " (179, 182): -1,\n",
       " (1225, 1230): 1,\n",
       " (634, 762): -1,\n",
       " (1848, 1852): -1,\n",
       " (1032, 1037): 1,\n",
       " (1331, 1333): -1,\n",
       " (1561, 1566): 1,\n",
       " (234, 239): 1,\n",
       " (1280, 1287): -1,\n",
       " (202, 206): 1,\n",
       " (825, 828): -1,\n",
       " (9, 13): 1,\n",
       " (1616, 1623): 1,\n",
       " (1915, 1919): 1,\n",
       " (1280, 1408): -1,\n",
       " (538, 542): 1,\n",
       " (257, 263): -1,\n",
       " (482, 610): -1,\n",
       " (260, 268): -1,\n",
       " (1120, 1126): -1,\n",
       " (1161, 1164): 1,\n",
       " (603, 607): -1,\n",
       " (1616, 1744): 1,\n",
       " (1690, 1693): -1,\n",
       " (1973, 1981): -1,\n",
       " (593, 599): 1,\n",
       " (32, 37): 1,\n",
       " (818, 946): 1,\n",
       " (596, 604): 1,\n",
       " (1456, 1462): 1,\n",
       " (1755, 1758): 1,\n",
       " (378, 381): -1,\n",
       " (1985, 1991): 1,\n",
       " (2026, 2029): -1,\n",
       " (97, 102): -1,\n",
       " (138, 140): -1,\n",
       " (833, 961): -1,\n",
       " (327, 335): 1,\n",
       " (368, 373): -1,\n",
       " (1792, 1798): -1,\n",
       " (1511, 1519): 1,\n",
       " (35, 163): -1,\n",
       " (1530, 1532): 1,\n",
       " (134, 142): 1,\n",
       " (433, 438): -1,\n",
       " (962, 967): 1,\n",
       " (371, 499): 1,\n",
       " (1866, 1868): -1,\n",
       " (1585, 1589): 1,\n",
       " (444, 452): -1,\n",
       " (769, 774): -1,\n",
       " (208, 212): -1,\n",
       " (507, 508): -1,\n",
       " (1298, 1303): 1,\n",
       " (456, 462): -1,\n",
       " (1880, 1887): -1,\n",
       " (1921, 1925): 1,\n",
       " (780, 788): -1,\n",
       " (843, 844): 1,\n",
       " (1889, 1892): 1,\n",
       " (562, 565): 1,\n",
       " (792, 798): 1,\n",
       " (1017, 1145): 1,\n",
       " (275, 279): 1,\n",
       " (1880, 2008): 1,\n",
       " (219, 347): -1,\n",
       " (577, 580): 1,\n",
       " (1645, 1653): 1,\n",
       " (857, 863): -1,\n",
       " (898, 901): 1,\n",
       " (1128, 1134): -1,\n",
       " (1353, 1481): -1,\n",
       " (1427, 1430): 1,\n",
       " (1710, 1718): 1,\n",
       " (555, 683): 1,\n",
       " (333, 341): -1,\n",
       " (1193, 1199): -1,\n",
       " (632, 637): -1,\n",
       " (115, 118): -1,\n",
       " (1202, 1204): 1,\n",
       " (570, 698): 1,\n",
       " (105, 110): 1,\n",
       " (1784, 1788): -1,\n",
       " (1529, 1535): -1,\n",
       " (968, 973): -1,\n",
       " (1754, 1882): 1,\n",
       " (1267, 1269): 1,\n",
       " (170, 175): -1,\n",
       " (1216, 1223): -1,\n",
       " (1603, 1605): 1,\n",
       " (1322, 1326): -1,\n",
       " (761, 764): -1,\n",
       " (181, 189): -1,\n",
       " (1552, 1559): 1,\n",
       " (1851, 1855): 1,\n",
       " (1216, 1344): 1,\n",
       " (193, 199): 1,\n",
       " (1658, 1662): 1,\n",
       " (1097, 1100): -1,\n",
       " (517, 525): 1,\n",
       " (0, 6): -1,\n",
       " (1552, 1680): -1,\n",
       " (1626, 1629): -1,\n",
       " (529, 535): 1,\n",
       " (754, 882): -1,\n",
       " (532, 540): -1,\n",
       " (1392, 1398): 1,\n",
       " (1433, 1436): -1,\n",
       " (1617, 1745): -1,\n",
       " (1152, 1157): -1,\n",
       " (314, 317): -1,\n",
       " (1888, 2016): 1,\n",
       " (1382, 1390): -1,\n",
       " (635, 638): -1,\n",
       " (74, 76): -1,\n",
       " (865, 871): -1,\n",
       " (1090, 1218): -1,\n",
       " (1728, 1734): -1,\n",
       " (2027, 2030): -1,\n",
       " (1447, 1455): 1,\n",
       " (70, 78): -1,\n",
       " (369, 374): -1,\n",
       " (939, 941): -1,\n",
       " (1783, 1791): 1,\n",
       " (307, 435): -1,\n",
       " (1521, 1525): -1,\n",
       " (705, 710): -1,\n",
       " (144, 148): 1,\n",
       " (424, 431): -1,\n",
       " (1857, 1861): -1,\n",
       " (716, 724): -1,\n",
       " (1576, 1582): 1,\n",
       " (480, 484): -1,\n",
       " (760, 767): -1,\n",
       " (779, 780): 1,\n",
       " (1059, 1063): -1,\n",
       " (424, 552): 1,\n",
       " (498, 501): -1,\n",
       " (728, 734): 1,\n",
       " (953, 1081): -1,\n",
       " (1052, 1060): 1,\n",
       " (1912, 1918): -1,\n",
       " (1115, 1116): -1,\n",
       " (1395, 1399): -1,\n",
       " (760, 888): 1,\n",
       " (834, 837): 1,\n",
       " (1289, 1417): -1,\n",
       " (1363, 1366): 1,\n",
       " (491, 619): 1,\n",
       " (1986, 1988): -1,\n",
       " (269, 277): -1,\n",
       " (1129, 1135): 1,\n",
       " (1354, 1482): -1,\n",
       " (889, 894): 1,\n",
       " (328, 332): -1,\n",
       " (1625, 1753): 1,\n",
       " (1119, 1127): 1,\n",
       " (1982, 1990): 1,\n",
       " (827, 955): -1,\n",
       " (904, 909): -1,\n",
       " (664, 668): -1,\n",
       " (106, 111): 1,\n",
       " (96, 103): 1,\n",
       " (1539, 1541): -1,\n",
       " (1258, 1262): 1,\n",
       " (1299, 1300): -1,\n",
       " (442, 447): 1,\n",
       " (96, 224): 1,\n",
       " (1875, 1877): 1,\n",
       " (1594, 1598): -1,\n",
       " (1033, 1036): -1,\n",
       " (453, 461): 1,\n",
       " (217, 221): 1,\n",
       " (1488, 1616): 1,\n",
       " (161, 289): 1,\n",
       " (235, 238): -1,\n",
       " (465, 471): -1,\n",
       " (690, 818): -1,\n",
       " (1369, 1372): -1,\n",
       " (789, 797): 1,\n",
       " (1649, 1655): 1,\n",
       " (1088, 1093): 1,\n",
       " (272, 278): 1,\n",
       " (497, 625): -1,\n",
       " (571, 574): -1,\n",
       " (10, 12): -1,\n",
       " (1026, 1154): -1,\n",
       " (1664, 1670): -1,\n",
       " (1383, 1391): -1,\n",
       " (1424, 1429): 1,\n",
       " (346, 348): -1,\n",
       " (1091, 1219): 1,\n",
       " (65, 69): 1,\n",
       " (1362, 1490): 1,\n",
       " (1719, 1727): 1,\n",
       " (1738, 1740): -1,\n",
       " (2018, 2023): 1,\n",
       " (641, 646): 1,\n",
       " (80, 84): -1,\n",
       " (360, 367): 1,\n",
       " (401, 405): 1,\n",
       " (1793, 1797): -1,\n",
       " (416, 420): 1,\n",
       " (696, 703): 1,\n",
       " (715, 716): 1,\n",
       " (995, 999): -1,\n",
       " (360, 488): -1,\n",
       " (988, 996): 1,\n",
       " (1848, 1854): 1,\n",
       " (1032, 1039): 1,\n",
       " (1051, 1052): -1,\n",
       " (1331, 1335): 1,\n",
       " (696, 824): -1,\n",
       " (770, 773): -1,\n",
       " (190, 198): -1,\n",
       " (1225, 1353): -1,\n",
       " (1324, 1332): 1,\n",
       " (1903, 1911): 1,\n",
       " (427, 555): 1,\n",
       " (1387, 1388): 1,\n",
       " (1922, 1924): 1,\n",
       " (1032, 1160): 1,\n",
       " (1106, 1109): 1,\n",
       " (526, 534): -1,\n",
       " (825, 830): -1,\n",
       " (264, 268): -1,\n",
       " (9, 15): -1,\n",
       " (234, 362): 1,\n",
       " (763, 891): -1,\n",
       " (1161, 1166): 1,\n",
       " (600, 604): 1,\n",
       " (83, 85): -1,\n",
       " (1690, 1695): -1,\n",
       " (32, 39): 1,\n",
       " (1475, 1477): 1,\n",
       " (936, 940): -1,\n",
       " (1235, 1236): -1,\n",
       " (378, 383): -1,\n",
       " (138, 142): 1,\n",
       " (32, 160): 1,\n",
       " (1811, 1813): -1,\n",
       " (1530, 1534): -1,\n",
       " (153, 157): 1,\n",
       " (97, 225): -1,\n",
       " (368, 496): 1,\n",
       " (1866, 1870): -1,\n",
       " (1305, 1308): -1,\n",
       " (725, 733): -1,\n",
       " (1585, 1591): -1,\n",
       " (1024, 1029): -1,\n",
       " (208, 214): -1,\n",
       " (433, 561): 1,\n",
       " (507, 510): 1,\n",
       " (962, 1090): -1,\n",
       " (1641, 1644): -1,\n",
       " (1061, 1069): -1,\n",
       " (1921, 1927): -1,\n",
       " (1360, 1365): 1,\n",
       " (1659, 1661): 1,\n",
       " (769, 897): 1,\n",
       " (843, 846): 1,\n",
       " (263, 271): -1,\n",
       " (282, 284): -1,\n",
       " (562, 567): 1,\n",
       " (1, 5): -1,\n",
       " (1655, 1663): -1,\n",
       " (1696, 1701): -1,\n",
       " (1995, 1997): 1,\n",
       " (577, 582): 1,\n",
       " (618, 620): -1,\n",
       " (898, 903): -1,\n",
       " (337, 341): 1,\n",
       " (1200, 1204): 1,\n",
       " (1991, 1999): 1,\n",
       " (632, 639): 1,\n",
       " (392, 398): -1,\n",
       " (1835, 1836): 1,\n",
       " (924, 932): -1,\n",
       " (1784, 1790): 1,\n",
       " (1825, 1828): 1,\n",
       " (968, 975): -1,\n",
       " (1267, 1271): 1,\n",
       " (632, 760): -1,\n",
       " (1260, 1268): -1,\n",
       " (513, 516): -1,\n",
       " (105, 233): -1,\n",
       " (1839, 1847): 1,\n",
       " (1603, 1607): 1,\n",
       " (968, 1096): -1,\n",
       " (1042, 1045): 1,\n",
       " (462, 470): -1,\n",
       " (761, 766): -1,\n",
       " (170, 298): -1,\n",
       " (699, 827): -1,\n",
       " (1378, 1381): 1,\n",
       " (798, 806): -1,\n",
       " (1097, 1102): 1,\n",
       " (1883, 2011): 1,\n",
       " (536, 540): 1,\n",
       " (816, 823): 1,\n",
       " (19, 21): -1,\n",
       " (1433, 1438): 1,\n",
       " (872, 876): -1,\n",
       " (1152, 1159): 1,\n",
       " (1171, 1172): 1,\n",
       " (816, 944): -1,\n",
       " (314, 319): -1,\n",
       " (355, 357): 1,\n",
       " (74, 78): 1,\n",
       " (937, 941): -1,\n",
       " (1507, 1508): -1,\n",
       " (1787, 1791): -1,\n",
       " (1152, 1280): -1,\n",
       " (129, 135): 1,\n",
       " (132, 140): 1,\n",
       " (1802, 1806): 1,\n",
       " (1241, 1244): 1,\n",
       " (661, 669): -1,\n",
       " (1521, 1527): 1,\n",
       " (1562, 1565): -1,\n",
       " (144, 150): 1,\n",
       " (369, 497): 1,\n",
       " (468, 476): -1,\n",
       " (997, 1005): -1,\n",
       " (250, 253): 1,\n",
       " (1857, 1863): 1,\n",
       " (1296, 1301): 1,\n",
       " (480, 486): 1,\n",
       " (705, 833): 1,\n",
       " (779, 782): 1,\n",
       " (199, 207): 1,\n",
       " (218, 220): 1,\n",
       " (498, 503): 1,\n",
       " (1632, 1637): 1,\n",
       " (1931, 1933): 1,\n",
       " (1115, 1118): 1,\n",
       " (535, 543): -1,\n",
       " (834, 839): 1,\n",
       " (273, 277): 1,\n",
       " (1927, 1935): -1,\n",
       " (1986, 1990): 1,\n",
       " (609, 613): 1,\n",
       " (328, 334): -1,\n",
       " (2001, 2005): -1,\n",
       " (674, 678): 1,\n",
       " (1761, 1764): -1,\n",
       " (904, 911): -1,\n",
       " (664, 670): 1,\n",
       " (889, 1017): -1,\n",
       " (449, 452): -1,\n",
       " (1539, 1543): 1,\n",
       " (904, 1032): -1,\n",
       " (978, 981): -1,\n",
       " (398, 406): -1,\n",
       " (1299, 1302): 1,\n",
       " (106, 234): 1,\n",
       " (205, 213): 1,\n",
       " (504, 509): -1,\n",
       " (1875, 1879): 1,\n",
       " (734, 742): -1,\n",
       " (1033, 1038): -1,\n",
       " (1819, 1947): 1,\n",
       " (217, 223): -1,\n",
       " (442, 570): -1,\n",
       " (840, 845): -1,\n",
       " (1369, 1374): -1,\n",
       " (808, 812): -1,\n",
       " (1088, 1095): -1,\n",
       " (291, 293): -1,\n",
       " (10, 14): -1,\n",
       " (1144, 1148): -1,\n",
       " (1424, 1431): -1,\n",
       " (1443, 1444): 1,\n",
       " (1088, 1216): -1,\n",
       " (346, 350): 1,\n",
       " (65, 71): 1,\n",
       " (68, 76): -1,\n",
       " (1716, 1724): -1,\n",
       " (1738, 1742): -1,\n",
       " (1779, 1780): -1,\n",
       " (1424, 1552): 1,\n",
       " (1498, 1501): 1,\n",
       " (80, 86): -1,\n",
       " (121, 124): 1,\n",
       " (1781, 1789): -1,\n",
       " (401, 407): 1,\n",
       " (626, 754): 1,\n",
       " (404, 412): -1,\n",
       " (1264, 1270): 1,\n",
       " (1793, 1799): -1,\n",
       " (641, 769): -1,\n",
       " (715, 718): -1,\n",
       " (135, 143): -1,\n",
       " (176, 181): 1,\n",
       " (1899, 1902): 1,\n",
       " (1338, 1340): -1,\n",
       " (1491, 1619): 1,\n",
       " (1568, 1573): -1,\n",
       " (1051, 1054): 1,\n",
       " (471, 479): 1,\n",
       " (770, 775): 1,\n",
       " (179, 307): -1,\n",
       " (1674, 1676): -1,\n",
       " (16, 20): 1,\n",
       " (315, 316): 1,\n",
       " (1922, 1926): 1,\n",
       " (1106, 1111): 1,\n",
       " (545, 549): 1,\n",
       " (264, 270): 1,\n",
       " (1688, 1695): 1,\n",
       " (651, 652): -1,\n",
       " (1697, 1700): 1,\n",
       " (881, 885): -1,\n",
       " (600, 606): -1,\n",
       " (825, 953): -1,\n",
       " (2043, 2044): 1,\n",
       " (83, 87): -1,\n",
       " (385, 388): -1,\n",
       " (2033, 2036): 1,\n",
       " (1453, 1461): -1,\n",
       " (1475, 1479): -1,\n",
       " (936, 942): -1,\n",
       " (1161, 1289): -1,\n",
       " (1235, 1238): 1,\n",
       " (655, 663): -1,\n",
       " (363, 491): -1,\n",
       " (1001, 1007): 1,\n",
       " (440, 445): -1,\n",
       " (670, 678): 1,\n",
       " (1010, 1012): -1,\n",
       " (1755, 1883): 1,\n",
       " (1854, 1862): 1,\n",
       " (378, 506): -1,\n",
       " (1592, 1596): -1,\n",
       " (776, 781): 1,\n",
       " (1075, 1077): -1,\n",
       " (1305, 1310): 1,\n",
       " (1024, 1031): -1,\n",
       " (1928, 1932): 1,\n",
       " (1411, 1413): -1,\n",
       " (1360, 1367): -1,\n",
       " (1379, 1380): -1,\n",
       " (1659, 1663): -1,\n",
       " (1024, 1152): -1,\n",
       " (282, 286): 1,\n",
       " (1, 7): 1,\n",
       " (1652, 1660): 1,\n",
       " (905, 908): -1,\n",
       " (1696, 1703): -1,\n",
       " (1995, 1999): 1,\n",
       " (1360, 1488): -1,\n",
       " (1434, 1437): 1,\n",
       " (618, 622): -1,\n",
       " (337, 343): 1,\n",
       " (562, 690): 1,\n",
       " (340, 348): 1,\n",
       " (1988, 1996): -1,\n",
       " (1200, 1206): 1,\n",
       " (1696, 1824): -1,\n",
       " (1770, 1773): -1,\n",
       " (1190, 1198): -1,\n",
       " (577, 705): 1,\n",
       " (112, 117): -1,\n",
       " (898, 1026): 1,\n",
       " (411, 413): -1,\n",
       " (1835, 1838): 1,\n",
       " (1427, 1555): -1,\n",
       " (177, 182): -1,\n",
       " (1825, 1830): -1,\n",
       " (407, 415): -1,\n",
       " (747, 749): 1,\n",
       " (1591, 1599): -1,\n",
       " (115, 243): 1,\n",
       " (1610, 1612): 1,\n",
       " (1329, 1333): 1,\n",
       " (513, 518): 1,\n",
       " (1600, 1604): -1,\n",
       " (1042, 1047): -1,\n",
       " (1946, 1948): -1,\n",
       " (1665, 1669): 1,\n",
       " (288, 292): -1,\n",
       " (587, 588): 1,\n",
       " (536, 542): 1,\n",
       " (761, 889): -1,\n",
       " (19, 23): 1,\n",
       " (860, 868): -1,\n",
       " (923, 924): -1,\n",
       " (1389, 1397): -1,\n",
       " (642, 645): 1,\n",
       " (872, 878): -1,\n",
       " (1097, 1225): -1,\n",
       " (1171, 1174): 1,\n",
       " (591, 599): -1,\n",
       " (355, 359): 1,\n",
       " (1454, 1462): -1,\n",
       " (299, 427): -1,\n",
       " (1725, 1733): 1,\n",
       " (937, 943): -1,\n",
       " (2024, 2029): 1,\n",
       " (1433, 1561): -1,\n",
       " (1507, 1510): 1,\n",
       " (927, 935): -1,\n",
       " (946, 948): 1,\n",
       " (314, 442): -1,\n",
       " (635, 763): 1,\n",
       " (712, 717): -1,\n",
       " (472, 476): 1,\n",
       " (1562, 1567): -1,\n",
       " (1864, 1868): -1,\n",
       " (1347, 1349): -1,\n",
       " (1066, 1070): -1,\n",
       " (250, 255): -1,\n",
       " (1296, 1303): 1,\n",
       " (218, 222): 1,\n",
       " (259, 260): 1,\n",
       " (1683, 1685): 1,\n",
       " (1402, 1406): 1,\n",
       " (841, 844): 1,\n",
       " (261, 269): -1,\n",
       " (25, 29): 1,\n",
       " (1632, 1639): 1,\n",
       " (1931, 1935): -1,\n",
       " (1296, 1424): 1,\n",
       " (790, 798): -1,\n",
       " (273, 279): 1,\n",
       " (498, 626): -1,\n",
       " (1177, 1180): 1,\n",
       " (597, 605): -1,\n",
       " (1632, 1760): 1,\n",
       " (1706, 1709): -1,\n",
       " (1126, 1134): 1,\n",
       " (379, 382): -1,\n",
       " (1989, 1997): 1,\n",
       " (609, 615): 1,\n",
       " (48, 53): 1,\n",
       " (834, 962): -1,\n",
       " (1191, 1199): -1,\n",
       " (1232, 1237): 1,\n",
       " (1462, 1470): 1,\n",
       " (154, 156): 1,\n",
       " (1761, 1766): -1,\n",
       " (683, 685): -1,\n",
       " (1527, 1535): 1,\n",
       " (1546, 1548): 1,\n",
       " (1826, 1831): -1,\n",
       " (1867, 1869): 1,\n",
       " (449, 454): 1,\n",
       " (1536, 1540): 1,\n",
       " (168, 175): -1,\n",
       " (1863, 1871): 1,\n",
       " (1882, 1884): -1,\n",
       " (1601, 1605): -1,\n",
       " (224, 228): -1,\n",
       " (504, 511): 1,\n",
       " (1937, 1941): 1,\n",
       " (796, 804): 1,\n",
       " (1656, 1662): 1,\n",
       " (840, 847): 1,\n",
       " (859, 860): 1,\n",
       " (1139, 1143): 1,\n",
       " (504, 632): -1,\n",
       " (578, 581): -1,\n",
       " (1325, 1333): -1,\n",
       " (1033, 1161): -1,\n",
       " (527, 535): -1,\n",
       " (1132, 1140): 1,\n",
       " (1992, 1998): 1,\n",
       " (235, 363): -1,\n",
       " (1730, 1732): 1,\n",
       " (840, 968): 1,\n",
       " (914, 917): 1,\n",
       " (334, 342): 1,\n",
       " (1960, 1965): -1,\n",
       " (72, 76): -1,\n",
       " (1369, 1497): 1,\n",
       " (1443, 1446): -1,\n",
       " (863, 871): 1,\n",
       " (1726, 1734): 1,\n",
       " (571, 699): -1,\n",
       " (648, 653): 1,\n",
       " (969, 974): 1,\n",
       " (408, 412): 1,\n",
       " (707, 708): -1,\n",
       " (1199, 1207): -1,\n",
       " (1498, 1503): -1,\n",
       " (1283, 1285): -1,\n",
       " (1043, 1044): -1,\n",
       " (1273, 1277): -1,\n",
       " (176, 183): 1,\n",
       " (1619, 1621): -1,\n",
       " (1338, 1342): -1,\n",
       " (197, 205): 1,\n",
       " (176, 304): -1,\n",
       " (1674, 1678): -1,\n",
       " (1113, 1116): -1,\n",
       " (533, 541): -1,\n",
       " (1393, 1399): -1,\n",
       " (832, 837): -1,\n",
       " (16, 22): -1,\n",
       " (241, 369): -1,\n",
       " (315, 318): 1,\n",
       " (1062, 1070): -1,\n",
       " (770, 898): 1,\n",
       " (1449, 1452): 1,\n",
       " (869, 877): -1,\n",
       " (1168, 1173): 1,\n",
       " (1467, 1469): -1,\n",
       " (651, 654): -1,\n",
       " (71, 79): -1,\n",
       " (90, 92): 1,\n",
       " (1697, 1702): 1,\n",
       " (1106, 1234): 1,\n",
       " (2043, 2046): 1,\n",
       " (1463, 1471): 1,\n",
       " (1504, 1509): 1,\n",
       " (1803, 1805): -1,\n",
       " (385, 390): -1,\n",
       " (426, 428): 1,\n",
       " (2033, 2038): -1,\n",
       " (706, 711): 1,\n",
       " (145, 149): 1,\n",
       " (1799, 1807): -1,\n",
       " (1818, 1820): -1,\n",
       " (160, 164): 1,\n",
       " (440, 447): 1,\n",
       " (1010, 1014): 1,\n",
       " (1873, 1877): -1,\n",
       " (732, 740): 1,\n",
       " (1592, 1598): 1,\n",
       " (1633, 1636): -1,\n",
       " (776, 783): 1,\n",
       " (795, 796): -1,\n",
       " (1075, 1079): 1,\n",
       " (440, 568): 1,\n",
       " (1068, 1076): -1,\n",
       " (1928, 1934): -1,\n",
       " (1411, 1415): -1,\n",
       " (776, 904): -1,\n",
       " (850, 853): -1,\n",
       " (270, 278): -1,\n",
       " (569, 574): 1,\n",
       " (1305, 1433): -1,\n",
       " (799, 807): 1,\n",
       " (1983, 1991): 1,\n",
       " (507, 635): -1,\n",
       " (2002, 2004): 1,\n",
       " (1186, 1189): -1,\n",
       " (606, 614): 1,\n",
       " (905, 910): 1,\n",
       " (344, 348): 1,\n",
       " (1434, 1439): -1,\n",
       " (1998, 2006): -1,\n",
       " (843, 971): -1,\n",
       " (680, 684): -1,\n",
       " (979, 980): 1,\n",
       " (163, 165): -1,\n",
       " (1770, 1775): 1,\n",
       " (112, 119): -1,\n",
       " (411, 415): -1,\n",
       " (1315, 1316): -1,\n",
       " (747, 751): -1,\n",
       " (112, 240): 1,\n",
       " (1610, 1614): 1,\n",
       " (1049, 1052): -1,\n",
       " (469, 477): -1,\n",
       " (1329, 1335): 1,\n",
       " (1370, 1373): -1,\n",
       " (1600, 1606): 1,\n",
       " (177, 305): 1,\n",
       " (1825, 1953): 1,\n",
       " (1946, 1950): -1,\n",
       " (1385, 1388): 1,\n",
       " (805, 813): -1,\n",
       " (1665, 1671): 1,\n",
       " (1104, 1109): -1,\n",
       " (288, 294): 1,\n",
       " (513, 641): 1,\n",
       " (587, 590): -1,\n",
       " (7, 15): -1,\n",
       " (26, 28): -1,\n",
       " (306, 311): -1,\n",
       " (347, 349): 1,\n",
       " (1042, 1170): 1,\n",
       " (1721, 1724): -1,\n",
       " (1440, 1445): 1,\n",
       " (1739, 1741): 1,\n",
       " (923, 926): -1,\n",
       " (343, 351): -1,\n",
       " (362, 364): -1,\n",
       " (642, 647): 1,\n",
       " (81, 85): 1,\n",
       " (1794, 1798): 1,\n",
       " (698, 700): -1,\n",
       " (417, 421): 1,\n",
       " (2024, 2031): 1,\n",
       " (136, 142): 1,\n",
       " (1809, 1813): -1,\n",
       " (1569, 1572): 1,\n",
       " (712, 719): -1,\n",
       " (472, 478): -1,\n",
       " (1004, 1012): 1,\n",
       " (1864, 1870): 1,\n",
       " (1347, 1351): -1,\n",
       " (712, 840): -1,\n",
       " (786, 789): -1,\n",
       " (206, 214): -1,\n",
       " (1107, 1110): 1,\n",
       " (1562, 1690): -1,\n",
       " (1340, 1348): 1,\n",
       " (1683, 1687): 1,\n",
       " (1122, 1125): -1,\n",
       " (542, 550): 1,\n",
       " (841, 846): 1,\n",
       " (25, 31): 1,\n",
       " (250, 378): 1,\n",
       " (779, 907): -1,\n",
       " (1458, 1461): 1,\n",
       " (1993, 1997): 1,\n",
       " (1177, 1182): -1,\n",
       " (616, 620): 1,\n",
       " (896, 903): 1,\n",
       " (99, 101): 1,\n",
       " (952, 956): -1,\n",
       " (1232, 1239): 1,\n",
       " (1251, 1252): -1,\n",
       " (1531, 1535): 1,\n",
       " (896, 1024): -1,\n",
       " (970, 973): -1,\n",
       " (154, 158): -1,\n",
       " (1524, 1532): -1,\n",
       " (1546, 1550): -1,\n",
       " (1587, 1588): -1,\n",
       " (1867, 1871): 1,\n",
       " (1232, 1360): 1,\n",
       " (1306, 1309): -1,\n",
       " ...}"
      ]
     },
     "execution_count": 25,
     "metadata": {},
     "output_type": "execute_result"
    }
   ],
   "source": [
    "quad"
   ]
  },
  {
   "cell_type": "code",
   "execution_count": 18,
   "metadata": {},
   "outputs": [],
   "source": [
    "#solver.undirected_edges"
   ]
  },
  {
   "cell_type": "code",
   "execution_count": 125,
   "metadata": {
    "id": "ycO77-2JHhCE"
   },
   "outputs": [
    {
     "name": "stdout",
     "output_type": "stream",
     "text": [
      "Solvers:\n",
      "StructuredSolver(id='DW_2000Q_6')\n",
      "BQMSolver(id='hybrid_binary_quadratic_model_version2')\n",
      "DQMSolver(id='hybrid_discrete_quadratic_model_version1')\n",
      "CQMSolver(id='hybrid_constrained_quadratic_model_version1')\n",
      "StructuredSolver(id='Advantage_system6.1')\n",
      "StructuredSolver(id='Advantage2_prototype1.1')\n",
      "StructuredSolver(id='Advantage_system4.1')\n"
     ]
    }
   ],
   "source": [
    "# Obtenemos solvers disponibles\n",
    "client_info()"
   ]
  },
  {
   "cell_type": "markdown",
   "metadata": {},
   "source": [
    "Los solvers anteriores tienen asociado samplers cuyas características se pueden consultar:"
   ]
  },
  {
   "cell_type": "code",
   "execution_count": 122,
   "metadata": {
    "id": "sICOR7yoHmeB"
   },
   "outputs": [
    {
     "name": "stdout",
     "output_type": "stream",
     "text": [
      "Nombre: DW_2000Q_6\n",
      "No. qubits: 2048\n",
      "Categoría: qpu\n",
      "Problemas soportados: ['ising', 'qubo']\n",
      "Topología: {'type': 'chimera', 'shape': [16, 16, 4]}\n",
      "Fuerza de acoplamiento [-2.0, 2.0]\n",
      "Rango de 'reads': [1, 10000]\n",
      "Annealing time (defecto) 20.0 microsecs\n",
      "Rango annealing time (us) [1.0, 2000.0]\n"
     ]
    }
   ],
   "source": [
    "sampler=DWaveSampler(solver='DW_2000Q_6')\n",
    "dwave_info(sampler)"
   ]
  },
  {
   "cell_type": "code",
   "execution_count": 123,
   "metadata": {
    "id": "SvYDUn4cHwnT"
   },
   "outputs": [
    {
     "name": "stdout",
     "output_type": "stream",
     "text": [
      "Nombre: Advantage_system4.1\n",
      "No. qubits: 5760\n",
      "Categoría: qpu\n",
      "Problemas soportados: ['ising', 'qubo']\n",
      "Topología: {'type': 'pegasus', 'shape': [16]}\n",
      "Fuerza de acoplamiento [-4.0, 4.0]\n",
      "Rango de 'reads': [1, 10000]\n",
      "Annealing time (defecto) 20.0 microsecs\n",
      "Rango annealing time (us) [0.5, 2000.0]\n"
     ]
    }
   ],
   "source": [
    "sampler=DWaveSampler(solver='Advantage_system4.1')\n",
    "dwave_info(sampler)"
   ]
  },
  {
   "cell_type": "code",
   "execution_count": 124,
   "metadata": {
    "id": "BEbRGsy3H5jP"
   },
   "outputs": [
    {
     "name": "stdout",
     "output_type": "stream",
     "text": [
      "Nombre: Advantage2_prototype1.1\n",
      "No. qubits: 576\n",
      "Categoría: qpu\n",
      "Problemas soportados: ['ising', 'qubo']\n",
      "Topología: {'type': 'zephyr', 'shape': [4, 4]}\n",
      "Fuerza de acoplamiento [-4.0, 4.0]\n",
      "Rango de 'reads': [1, 10000]\n",
      "Annealing time (defecto) 20.0 microsecs\n",
      "Rango annealing time (us) [1.0, 2000.0]\n"
     ]
    }
   ],
   "source": [
    "sampler=DWaveSampler(solver='Advantage2_prototype1.1')\n",
    "dwave_info(sampler)"
   ]
  },
  {
   "cell_type": "code",
   "execution_count": 126,
   "metadata": {},
   "outputs": [
    {
     "name": "stdout",
     "output_type": "stream",
     "text": [
      "Nombre: Advantage_system6.1\n",
      "No. qubits: 5760\n",
      "Categoría: qpu\n",
      "Problemas soportados: ['ising', 'qubo']\n",
      "Topología: {'type': 'pegasus', 'shape': [16]}\n",
      "Fuerza de acoplamiento [-4.0, 4.0]\n",
      "Rango de 'reads': [1, 10000]\n",
      "Annealing time (defecto) 20.0 microsecs\n",
      "Rango annealing time (us) [0.5, 2000.0]\n"
     ]
    }
   ],
   "source": [
    "sampler=DWaveSampler(solver='Advantage_system6.1')\n",
    "dwave_info(sampler)"
   ]
  },
  {
   "cell_type": "markdown",
   "metadata": {},
   "source": [
    "### Maxcut con QPU\n",
    "\n",
    "Retomando el problema maxcut de comienzo, se va a resolver ahora con qpu.-"
   ]
  },
  {
   "cell_type": "code",
   "execution_count": 4,
   "metadata": {
    "id": "ntM_2zE4ITU-"
   },
   "outputs": [],
   "source": [
    "# Problema maxcut de 5 nodos \n",
    "\n",
    "J = {(0,1):1, (0,3):1, (0,4):1,(1,2):1, (1,4):1, (2,3):1, (2,4):1, (3,4):1}\n",
    "h = {}\n",
    "\n",
    "prisma = dimod.BinaryQuadraticModel(h, J, 0.0, dimod.SPIN)\n",
    "\n",
    "# embedding y run en annealer DW_2000Q_6\n",
    "\n",
    "sampler = EmbeddingComposite(DWaveSampler(solver = \"DW_2000Q_6\"))\n",
    "result = sampler.sample(prisma, num_reads=10, \n",
    "    return_embedding = True)\n"
   ]
  },
  {
   "cell_type": "code",
   "execution_count": 5,
   "metadata": {},
   "outputs": [
    {
     "name": "stdout",
     "output_type": "stream",
     "text": [
      "'Samples' obtenidos:\n",
      "\n",
      "   0  1  2  3  4 energy num_oc. chain_.\n",
      "0 +1 -1 +1 -1 +1   -4.0       2     0.0\n",
      "1 -1 +1 -1 +1 -1   -4.0       2     0.0\n",
      "2 -1 +1 -1 +1 +1   -4.0       1     0.0\n",
      "3 +1 -1 +1 -1 -1   -4.0       5     0.0\n",
      "['SPIN', 4 rows, 10 samples, 5 variables]\n",
      "\n",
      "La incrustación usada fue:\n",
      "\n",
      "{'embedding': {1: (238,), 0: (232,), 3: (236,), 4: (237, 235), 2: (233,)}, 'chain_break_method': 'majority_vote', 'embedding_parameters': {}, 'chain_strength': 2.529440096147762}\n"
     ]
    }
   ],
   "source": [
    "print(\"'Samples' obtenidos:\\n\")\n",
    "print(result)\n",
    "print(\"\\nLa incrustación usada fue:\\n\")\n",
    "print(result.info[\"embedding_context\"])"
   ]
  },
  {
   "cell_type": "markdown",
   "metadata": {},
   "source": [
    "### Annealing time\n",
    "\n",
    "Como se mencionó al comienzo del cuaderno, el annealer hace evolucionar un hamiltoniano inicial, de setup, a uno final, que representa el problema a minimizar.\n",
    "\n",
    "Esta evolución temporal queda caracterizada por el  `annealing time`, uno de los parámetros fundamentales de un determinado `read`.\n",
    "\n",
    "El rango de valores admitidos depende del qpu seleccionado. En el  DW_2000Q_6  por ejemplo varía entre 1 y 2000 𝜇𝑠, con una resolución de 0,02 𝜇𝑠, siendo 20 𝜇𝑠 el valor por defecto. Consultar la descripción proporcionada por `dwave_info(sampler)` para otros samplers, y el siguiente doc:\n",
    "\n",
    "https://docs.dwavesys.com/docs/latest/c_solver_parameters.html#annealing-time\n",
    "\n",
    "Se va a repetir el ejemplo anterior usando un At= 100𝜇𝑠 \n"
   ]
  },
  {
   "cell_type": "code",
   "execution_count": 114,
   "metadata": {
    "id": "erXf3rnXIkOf"
   },
   "outputs": [
    {
     "name": "stdout",
     "output_type": "stream",
     "text": [
      "'Samples' obtenidos:\n",
      "\n",
      "   0  1  2  3  4 energy num_oc. chain_.\n",
      "0 +1 -1 +1 -1 -1   -4.0       5     0.0\n",
      "1 -1 +1 -1 +1 -1   -4.0       1     0.0\n",
      "2 +1 -1 +1 -1 +1   -4.0       4     0.0\n",
      "['SPIN', 3 rows, 10 samples, 5 variables]\n"
     ]
    }
   ],
   "source": [
    "# DW_2000Q_6 con annealing_time =100 us\n",
    "\n",
    "J = {(0,1):1, (0,3):1, (0,4):1,(1,2):1, (1,4):1, (2,3):1, (2,4):1, (3,4):1}\n",
    "h = {}\n",
    "\n",
    "prisma = dimod.BinaryQuadraticModel(h, J, 0.0, dimod.SPIN)\n",
    "\n",
    "sampler = EmbeddingComposite(DWaveSampler(solver = \"DW_2000Q_6\"))\n",
    "result = sampler.sample(prisma, num_reads=10, \n",
    "    return_embedding = True)\n",
    "result = sampler.sample(prisma, num_reads=10, annealing_time = 100)\n",
    "\n",
    "print(\"'Samples' obtenidos:\\n\")\n",
    "print(result)"
   ]
  },
  {
   "cell_type": "markdown",
   "metadata": {},
   "source": [
    "#### Programación hacía adelante (`forward sheduling`)\n",
    "\n",
    "La evolución temporal  del hamiltoniano durante el `annealing time` es lineal, con una pendiente constante entre t=0 y el tiempo de annealing. Durante este intervalo el parámetro del hamiltoniano, s(t),  varía linealmente entre s=0 y s=1, de modo que:\n",
    "                \n",
    "            H(s) = sH0 + (1-s)Hf, s(t) = (1/ta)* t, ta = annealing time\n",
    "\n",
    "Pero este mapeo lineal se puede cambiar fijando los valores de s para determinado tiempo de annealing.\n",
    "\n",
    "Se usa para ello listas con pares de números en coma flotante. El primer elemento del par es el tiempo 𝑡 en microsegundos con una granularidad de 0.01 u 0.0.2 𝜇𝑠 según sampler, y el segundo elemento, su valor `s` en ese instante. \n",
    "\n",
    "La pendiente máxima de cualquier segmento de curva no debe ser mayor que el inverso del tiempo mínimo soportado por el annealer. \n",
    "Así, para una QPU con rango de annealing de 0.5-2000 𝜇𝑠, la pendiente máxima que nunca se debe superar es:\n",
    "\n",
    "- m= (sf-si)/(tf-ti)=(1-0)/(0.5-0)=2𝜇𝑠−1\n",
    "\n",
    "Así, entre los dos intervalos siguientes: [0.0, 0.0], [5.0, 0.25], el annealer empieza en t=0 con s=0, variando este parámetro linealmente hasta el valor s=0.25 para t=5 us. La pendiente de intervalo es por tanto: \n",
    "\n",
    "- m = (0.25-0/5-0)= 0.05 𝜇𝑠−1\n",
    "\n",
    "El mapeo s(t) resultante es la curva lineal por partes que interconecta los puntos proporcionados, y que determinan la rapidez con la que evoluciona el annealer en cada intervalo\n",
    "\n",
    "En el siguiente doc se puede ampliar la info sobre este proceso:\n",
    "\n",
    "https://docs.dwavesys.com/docs/latest/c_solver_parameters.html#param-anneal-sched\n",
    "\n",
    "#### Importante: \n",
    "\n",
    "Recordemos que por el principio adiabático, una evolución demasiado rápida puede provocar que el estado final no corresponda al de mínima energía\n",
    "\n",
    "A continuación se repetirá el problema maxcut anterior, usando una programación de 4 etapas, con una pronunciada pendiente inicial, muy suave entre 10-40𝜇𝑠, y de nuevo pronunciada en los últimos 10𝜇s, alcanzándose el hamiltoniano final a los 50 𝜇𝑠 (s=1) "
   ]
  },
  {
   "cell_type": "code",
   "execution_count": 118,
   "metadata": {
    "id": "LYM4kqH3IpGa"
   },
   "outputs": [
    {
     "name": "stdout",
     "output_type": "stream",
     "text": [
      "'Samples' obtenidos:\n",
      "\n",
      "   0  1  2  3  4 energy num_oc. chain_.\n",
      "0 +1 -1 +1 -1 +1   -4.0       2     0.0\n",
      "1 +1 -1 +1 -1 -1   -4.0       3     0.0\n",
      "2 -1 +1 -1 +1 -1   -4.0       3     0.0\n",
      "3 -1 +1 -1 +1 +1   -4.0       2     0.0\n",
      "['SPIN', 4 rows, 10 samples, 5 variables]\n"
     ]
    }
   ],
   "source": [
    "forward_schedule=[[0.0, 0.0], [10.0, 0.25], [40, 0.75], [50, 1.0]]\n",
    "\n",
    "sampler = EmbeddingComposite(DWaveSampler())\n",
    "\n",
    "result = sampler.sample(prisma, num_reads=10, \n",
    "    anneal_schedule = forward_schedule)\n",
    "\n",
    "print(\"'Samples' obtenidos:\\n\")\n",
    "print(result)"
   ]
  },
  {
   "cell_type": "markdown",
   "metadata": {},
   "source": [
    "### Programación inversa (`reverse sheduling`)\n",
    "\n",
    "El annealer también soporta programación inversa, es decir, tramos en los cuales la variación s(t) es de la forma:\n",
    "                \n",
    "                s(t) = 1- 1/ta *t\n",
    "\n",
    "No obstante, una programación de este tipo debe de empezar y terminar con s=1, por lo que es imperativo que el último tramo sea de programación directa.\n",
    "\n",
    "Este modo también obliga a indicar un estado inicial para s=1. Se hará mediante parejas clave:valor (índice_qb, estado) \n",
    "\n",
    "- -1 / 1 : Ising, activos\n",
    "- 0 / 1 : QUBO, activos\n",
    "- 3      : sin usar o inactivos\n",
    "\n",
    "https://docs.dwavesys.com/docs/latest/c_solver_parameters.html#param-initial-state\n",
    "\n",
    "Si se han programado múltiples `reads` mediante una llamada única a la API del solver, existen dos enfoques para el estado inicial del siguiente `read`:\n",
    "\n",
    "- `reinitialize_state=true`: reinicializa al estado inicial especificado en cada `read`.\n",
    "\n",
    "- `reinitialize_state=false`: solo se fija el estado inicial en el primer read. Los siguientes parten `del estado final` del `read` anterior.\n",
    "\n",
    "La programación siguiente parte en t=0 con s=1,  haciendo una programación inversa de 10𝜇𝑠 hasta s=0.5,  y a continuación una directa para completar el annealing a los 20𝜇𝑠, regresando a  s=1.\n"
   ]
  },
  {
   "cell_type": "code",
   "execution_count": 121,
   "metadata": {
    "id": "KbH16epAI1jO"
   },
   "outputs": [
    {
     "name": "stdout",
     "output_type": "stream",
     "text": [
      "'Samples' obtenidos:\n",
      "\n",
      "   0  1  2  3  4 energy num_oc. chain_.\n",
      "0 +1 -1 +1 -1 -1   -4.0       1     0.0\n",
      "2 +1 -1 +1 -1 -1   -4.0       1     0.0\n",
      "3 +1 -1 +1 -1 -1   -4.0       1     0.0\n",
      "4 -1 +1 -1 +1 +1   -4.0       1     0.0\n",
      "5 -1 +1 -1 +1 -1   -4.0       1     0.0\n",
      "6 -1 +1 -1 +1 -1   -4.0       1     0.0\n",
      "7 -1 +1 -1 +1 +1   -4.0       1     0.0\n",
      "8 -1 +1 -1 +1 +1   -4.0       1     0.0\n",
      "9 -1 +1 -1 +1 +1   -4.0       1     0.0\n",
      "1 +1 +1 +1 -1 -1   -2.0       1     0.0\n",
      "['SPIN', 10 rows, 10 samples, 5 variables]\n"
     ]
    }
   ],
   "source": [
    "reverse_schedule=[[0.0, 1.0], [10.0, 0.5], [20, 1.0]]\n",
    "estado_inicial = {0:-1, 1:-1, 2:-1, 3:1, 4:1}  # q4q3q2q1q0=-1-1-111\n",
    "\n",
    "sampler = EmbeddingComposite(DWaveSampler())\n",
    "result = sampler.sample(prisma, num_reads=10, \n",
    "    anneal_schedule = reverse_schedule,\n",
    "    reinitialize_state=False, initial_state = estado_inicial)\n",
    "\n",
    "print(\"'Samples' obtenidos:\\n\")\n",
    "print(result)"
   ]
  },
  {
   "cell_type": "markdown",
   "metadata": {},
   "source": [
    "### Problema lineal binario con restricciones"
   ]
  },
  {
   "cell_type": "code",
   "execution_count": 5,
   "metadata": {
    "id": "zbRc9V4CJLKH"
   },
   "outputs": [],
   "source": [
    "sampler = EmbeddingComposite(DWaveSampler(\"Advantage_system4.1\"))\n",
    "\n",
    "# Definición del problema \n",
    "\n",
    "x0 = dimod.Binary(\"x0\")\n",
    "x1 = dimod.Binary(\"x1\")\n",
    "x2 = dimod.Binary(\"x2\")\n",
    "\n",
    "# Modelo CQM con restricciones\n",
    "blp = dimod.ConstrainedQuadraticModel()\n",
    "\n",
    "# Función objetivo\n",
    "blp.set_objective(-5*x0+3*x1-2*x2)\n",
    "\n",
    "# Restricciones\n",
    "blp.add_constraint(x0 + x2 <= 1, \"Primera restricción\")\n",
    "blp.add_constraint(3*x0 -x1 + 3*x2 <= 4, \"Segunda restricción\")\n",
    "\n",
    "# Conversión a qubo (cqm-bqm) con multiplicador de Lagrange \n",
    "fl=10\n",
    "qubo, invert = dimod.cqm_to_bqm(blp, lagrange_multiplier = fl)\n",
    "result = sampler.sample(qubo, num_reads=100)\n",
    "\n",
    "# Agregación de los n reads\n",
    "samples = []\n",
    "occurrences = []\n",
    "\n",
    "for s in result.data():\n",
    "    samples.append(invert(s.sample))\n",
    "    occurrences.append(s.num_occurrences)\n",
    "sampleset = dimod.SampleSet.from_samples_cqm(samples,blp,\n",
    "    num_occurrences=occurrences)"
   ]
  },
  {
   "cell_type": "code",
   "execution_count": 6,
   "metadata": {},
   "outputs": [
    {
     "name": "stdout",
     "output_type": "stream",
     "text": [
      "\n",
      "Factor de Lagrange: 10\n",
      "\n",
      "Las soluciones factibles al problema son:\n",
      "\n",
      "  x0 x1 x2 energy num_oc. is_sat. is_fea.\n",
      "0  1  0  0   -5.0      15 arra...    True\n",
      "1  0  0  1   -2.0       9 arra...    True\n",
      "2  1  1  0   -2.0      36 arra...    True\n",
      "3  0  0  0    0.0       9 arra...    True\n",
      "4  0  1  1    1.0      18 arra...    True\n",
      "5  0  1  0    3.0      11 arra...    True\n",
      "['INTEGER', 6 rows, 98 samples, 3 variables]\n"
     ]
    }
   ],
   "source": [
    "# Resultados\n",
    "print(\"\\nFactor de Lagrange:\", fl)\n",
    "print(\"\\nLas soluciones factibles al problema son:\\n\")\n",
    "print(sampleset.filter(lambda s: s.is_feasible).aggregate())"
   ]
  },
  {
   "cell_type": "markdown",
   "metadata": {},
   "source": [
    "\n",
    "#### Influencia del factor de Lagrange:\n",
    "\n",
    "Se va a repetir el problema usando factores de lagrange 4 y 1, que como sabemos, \"amplifican\" las penalizaciones por no cumplimiento de las restricciones."
   ]
  },
  {
   "cell_type": "code",
   "execution_count": 133,
   "metadata": {
    "id": "DiUb5nqIJQNf"
   },
   "outputs": [],
   "source": [
    "# FL=4\n",
    "fl=4\n",
    "qubo, invert = dimod.cqm_to_bqm(blp, lagrange_multiplier = fl)\n",
    "result = sampler.sample(qubo, num_reads=100)\n",
    "\n",
    "# Agregación de los n reads\n",
    "samples = []\n",
    "occurrences = []\n",
    "\n",
    "for s in result.data():\n",
    "    samples.append(invert(s.sample))\n",
    "    occurrences.append(s.num_occurrences)\n",
    "sampleset = dimod.SampleSet.from_samples_cqm(samples,blp,\n",
    "    num_occurrences=occurrences)\n"
   ]
  },
  {
   "cell_type": "code",
   "execution_count": 134,
   "metadata": {},
   "outputs": [
    {
     "name": "stdout",
     "output_type": "stream",
     "text": [
      "\n",
      "Las soluciones factibles al problema son:\n",
      "\n",
      "  x0 x1 x2 energy num_oc. is_sat. is_fea.\n",
      "0  1  0  0   -5.0      17 arra...    True\n",
      "1  1  1  0   -2.0      27 arra...    True\n",
      "2  0  0  1   -2.0      18 arra...    True\n",
      "3  0  0  0    0.0      15 arra...    True\n",
      "4  0  1  1    1.0      18 arra...    True\n",
      "5  0  1  0    3.0       2 arra...    True\n",
      "['INTEGER', 6 rows, 97 samples, 3 variables]\n"
     ]
    }
   ],
   "source": [
    "# Resultados\n",
    "print(\"\\nFactor de Lagrange:\", fl)\n",
    "print(\"\\nLas soluciones factibles al problema son:\\n\")\n",
    "print(sampleset.filter(lambda s: s.is_feasible).aggregate())"
   ]
  },
  {
   "cell_type": "code",
   "execution_count": 135,
   "metadata": {
    "id": "ztgEnnB8JYC4"
   },
   "outputs": [],
   "source": [
    "# FL1\n",
    "fl=1\n",
    "qubo, invert = dimod.cqm_to_bqm(blp, lagrange_multiplier = fl)\n",
    "result = sampler.sample(qubo, num_reads=100)\n",
    "\n",
    "# Agregación de los n reads\n",
    "samples = []\n",
    "occurrences = []\n",
    "\n",
    "for s in result.data():\n",
    "    samples.append(invert(s.sample))\n",
    "    occurrences.append(s.num_occurrences)\n",
    "sampleset = dimod.SampleSet.from_samples_cqm(samples,blp,\n",
    "    num_occurrences=occurrences)"
   ]
  },
  {
   "cell_type": "code",
   "execution_count": 136,
   "metadata": {},
   "outputs": [
    {
     "name": "stdout",
     "output_type": "stream",
     "text": [
      "\n",
      "Factor de Lagrange: 1\n",
      "\n",
      "Las soluciones factibles al problema son:\n",
      "\n",
      "  x0 x1 x2 energy num_oc. is_sat. is_fea.\n",
      "0  1  0  0   -5.0      71 arra...    True\n",
      "1  0  0  1   -2.0       8 arra...    True\n",
      "2  1  1  0   -2.0      17 arra...    True\n",
      "3  0  0  0    0.0       1 arra...    True\n",
      "4  0  1  1    1.0       1 arra...    True\n",
      "['INTEGER', 5 rows, 98 samples, 3 variables]\n"
     ]
    }
   ],
   "source": [
    "# Resultados\n",
    "print(\"\\nFactor de Lagrange:\", fl)\n",
    "print(\"\\nLas soluciones factibles al problema son:\\n\")\n",
    "print(sampleset.filter(lambda s: s.is_feasible).aggregate())"
   ]
  },
  {
   "cell_type": "markdown",
   "metadata": {},
   "source": [
    "## Anexo"
   ]
  },
  {
   "cell_type": "markdown",
   "metadata": {},
   "source": [
    "### Samplers y solvers alternativos"
   ]
  },
  {
   "cell_type": "markdown",
   "metadata": {},
   "source": [
    "Un `sampler` acepta un problema en formato de modelo cuadrático binario (BQM) o modelo cuadrático discreto (DQM) y devuelve asignaciones de variables. Los samplers generalmente intentan minimizar una función objetivo, pero también pueden muestrear distribuciones definidas por el problema.\n",
    "\n",
    "https://docs.ocean.dwavesys.com/projects/system/en/stable/reference/samplers.html\n",
    "\n",
    "https://docs.ocean.dwavesys.com/en/stable/docs_system/reference/samplers.html"
   ]
  },
  {
   "cell_type": "markdown",
   "metadata": {},
   "source": [
    "#### SteepestDescentSolver()\n",
    "\n",
    "https://docs.ocean.dwavesys.com/projects/greedy/en/latest/reference/generated/greedy.sampler.SteepestDescentSolver.sample.html"
   ]
  },
  {
   "cell_type": "code",
   "execution_count": 15,
   "metadata": {
    "id": "XNpcZwmJJjqs"
   },
   "outputs": [
    {
     "name": "stdout",
     "output_type": "stream",
     "text": [
      "   0  1  2  3  4 energy num_oc. num_st.\n",
      "0 +1 -1 +1 -1 +1   -4.0       3       1\n",
      "1 -1 +1 -1 +1 +1   -4.0       1       2\n",
      "2 -1 +1 -1 +1 -1   -4.0       3       1\n",
      "3 +1 -1 +1 -1 -1   -4.0       3       1\n",
      "['SPIN', 4 rows, 10 samples, 5 variables]\n"
     ]
    }
   ],
   "source": [
    "import greedy\n",
    "import dimod\n",
    " \n",
    "J = {(0,1):1, (0,3):1, (0,4):1,(1,2):1, (1,4):1, (2,3):1, (2,4):1, (3,4):1}\n",
    "h = {}\n",
    "\n",
    "prisma = dimod.BinaryQuadraticModel(h, J, 0.0, dimod.SPIN)\n",
    "\n",
    "# Sampler con  SteepestDescentSolver\n",
    "\n",
    "solver = greedy.SteepestDescentSolver()\n",
    "solution = solver.sample(prisma, num_reads = 10)\n",
    "\n",
    "print(solution.aggregate())"
   ]
  },
  {
   "cell_type": "code",
   "execution_count": 30,
   "metadata": {
    "id": "ED0psiS0Jppm"
   },
   "outputs": [
    {
     "name": "stdout",
     "output_type": "stream",
     "text": [
      "   0  1  2  3  4 energy num_oc. num_re.\n",
      "0 +1 -1 +1 -1 -1   -4.0       5       1\n",
      "1 -1 +1 -1 +1 +1   -4.0       4       1\n",
      "2 +1 -1 +1 -1 +1   -4.0       4       1\n",
      "3 -1 +1 -1 +1 -1   -4.0       2       1\n",
      "['SPIN', 4 rows, 15 samples, 5 variables]\n"
     ]
    }
   ],
   "source": [
    "import tabu \n",
    "\n",
    "solver = tabu.TabuSampler()\n",
    "solution = solver.sample(prisma, num_reads = 15)\n",
    "\n",
    "print(solution.aggregate())"
   ]
  },
  {
   "cell_type": "markdown",
   "metadata": {},
   "source": [
    "#### SimulatedAnnealingSampler()\n",
    "\n",
    "Sampler dimod que utiliza un algoritmo de annealing simulado, un método heurístico de optimización para ordenadores clásicos.\n",
    "\n",
    "https://docs.ocean.dwavesys.com/projects/neal/en/latest/reference/sampler.html"
   ]
  },
  {
   "cell_type": "code",
   "execution_count": 32,
   "metadata": {
    "id": "Cmeis9TDJtZ1"
   },
   "outputs": [
    {
     "name": "stdout",
     "output_type": "stream",
     "text": [
      "   0  1  2  3  4 energy num_oc.\n",
      "0 +1 -1 +1 -1 -1   -4.0       3\n",
      "1 -1 +1 -1 +1 +1   -4.0       4\n",
      "2 +1 -1 +1 -1 +1   -4.0       1\n",
      "3 -1 +1 -1 +1 -1   -4.0       2\n",
      "['SPIN', 4 rows, 10 samples, 5 variables]\n"
     ]
    },
    {
     "ename": "ValueError",
     "evalue": "invalid combination of arguments provided: if data capture not enabled, problem/response/solver have to be specified; also, make sure a structured problem is being inspected",
     "output_type": "error",
     "traceback": [
      "\u001b[0;31m---------------------------------------------------------------------------\u001b[0m",
      "\u001b[0;31mValueError\u001b[0m                                Traceback (most recent call last)",
      "Cell \u001b[0;32mIn[32], line 8\u001b[0m\n\u001b[1;32m      6\u001b[0m \u001b[38;5;28mprint\u001b[39m(solution\u001b[38;5;241m.\u001b[39maggregate())\n\u001b[1;32m      7\u001b[0m \u001b[38;5;28;01mimport\u001b[39;00m \u001b[38;5;21;01mdwave\u001b[39;00m\u001b[38;5;21;01m.\u001b[39;00m\u001b[38;5;21;01minspector\u001b[39;00m\n\u001b[0;32m----> 8\u001b[0m \u001b[43mdwave\u001b[49m\u001b[38;5;241;43m.\u001b[39;49m\u001b[43minspector\u001b[49m\u001b[38;5;241;43m.\u001b[39;49m\u001b[43mshow\u001b[49m\u001b[43m(\u001b[49m\u001b[43msolution\u001b[49m\u001b[43m)\u001b[49m\n",
      "File \u001b[0;32m~/anaconda3/envs/ocean/lib/python3.10/site-packages/dwave/inspector/__init__.py:190\u001b[0m, in \u001b[0;36mshow\u001b[0;34m(*args, **kwargs)\u001b[0m\n\u001b[1;32m    188\u001b[0m block \u001b[38;5;241m=\u001b[39m kwargs\u001b[38;5;241m.\u001b[39mpop(\u001b[38;5;124m'\u001b[39m\u001b[38;5;124mblock\u001b[39m\u001b[38;5;124m'\u001b[39m, Block\u001b[38;5;241m.\u001b[39mONCE)\n\u001b[1;32m    189\u001b[0m timeout \u001b[38;5;241m=\u001b[39m kwargs\u001b[38;5;241m.\u001b[39mpop(\u001b[38;5;124m'\u001b[39m\u001b[38;5;124mtimeout\u001b[39m\u001b[38;5;124m'\u001b[39m, \u001b[38;5;28;01mNone\u001b[39;00m)\n\u001b[0;32m--> 190\u001b[0m data \u001b[38;5;241m=\u001b[39m \u001b[43mfrom_objects\u001b[49m\u001b[43m(\u001b[49m\u001b[38;5;241;43m*\u001b[39;49m\u001b[43margs\u001b[49m\u001b[43m,\u001b[49m\u001b[43m \u001b[49m\u001b[38;5;241;43m*\u001b[39;49m\u001b[38;5;241;43m*\u001b[39;49m\u001b[43mkwargs\u001b[49m\u001b[43m)\u001b[49m\n\u001b[1;32m    191\u001b[0m id_ \u001b[38;5;241m=\u001b[39m push_inspector_data(data)\n\u001b[1;32m    192\u001b[0m \u001b[38;5;28;01mreturn\u001b[39;00m open_problem(id_, block\u001b[38;5;241m=\u001b[39mblock, timeout\u001b[38;5;241m=\u001b[39mtimeout)\n",
      "File \u001b[0;32m~/anaconda3/envs/ocean/lib/python3.10/site-packages/dwave/inspector/adapters.py:843\u001b[0m, in \u001b[0;36mfrom_objects\u001b[0;34m(*args, **kwargs)\u001b[0m\n\u001b[1;32m    838\u001b[0m \u001b[38;5;28;01mif\u001b[39;00m bqm \u001b[38;5;129;01mis\u001b[39;00m \u001b[38;5;129;01mnot\u001b[39;00m \u001b[38;5;28;01mNone\u001b[39;00m \u001b[38;5;129;01mand\u001b[39;00m sampleset \u001b[38;5;129;01mis\u001b[39;00m \u001b[38;5;129;01mnot\u001b[39;00m \u001b[38;5;28;01mNone\u001b[39;00m \u001b[38;5;129;01mand\u001b[39;00m sampler \u001b[38;5;129;01mis\u001b[39;00m \u001b[38;5;129;01mnot\u001b[39;00m \u001b[38;5;28;01mNone\u001b[39;00m:\n\u001b[1;32m    839\u001b[0m     \u001b[38;5;28;01mreturn\u001b[39;00m from_bqm_sampleset(\n\u001b[1;32m    840\u001b[0m         bqm\u001b[38;5;241m=\u001b[39mbqm, sampleset\u001b[38;5;241m=\u001b[39msampleset, sampler\u001b[38;5;241m=\u001b[39msampler,\n\u001b[1;32m    841\u001b[0m         embedding_context\u001b[38;5;241m=\u001b[39membedding_context, warnings\u001b[38;5;241m=\u001b[39mwarnings)\n\u001b[0;32m--> 843\u001b[0m \u001b[38;5;28;01mraise\u001b[39;00m \u001b[38;5;167;01mValueError\u001b[39;00m(\n\u001b[1;32m    844\u001b[0m     \u001b[38;5;124m\"\u001b[39m\u001b[38;5;124minvalid combination of arguments provided: if data capture not \u001b[39m\u001b[38;5;124m\"\u001b[39m\n\u001b[1;32m    845\u001b[0m     \u001b[38;5;124m\"\u001b[39m\u001b[38;5;124menabled, problem/response/solver have to be specified; \u001b[39m\u001b[38;5;124m\"\u001b[39m\n\u001b[1;32m    846\u001b[0m     \u001b[38;5;124m\"\u001b[39m\u001b[38;5;124malso, make sure a structured problem is being inspected\u001b[39m\u001b[38;5;124m\"\u001b[39m)\n",
      "\u001b[0;31mValueError\u001b[0m: invalid combination of arguments provided: if data capture not enabled, problem/response/solver have to be specified; also, make sure a structured problem is being inspected"
     ]
    }
   ],
   "source": [
    "import neal \n",
    "\n",
    "sampler = neal.SimulatedAnnealingSampler()\n",
    "solution = sampler.sample(prisma, num_reads = 10)\n",
    "\n",
    "print(solution.aggregate())"
   ]
  },
  {
   "cell_type": "markdown",
   "metadata": {},
   "source": [
    "#### Samplers Dwave\n",
    "\n",
    "https://docs.ocean.dwavesys.com/en/stable/docs_system/reference/samplers.html"
   ]
  },
  {
   "cell_type": "code",
   "execution_count": 25,
   "metadata": {
    "id": "RHU3aB83Jv0r"
   },
   "outputs": [],
   "source": [
    "import dwave.system \n",
    "\n",
    "sampler = dwave.system.LeapHybridSampler()\n"
   ]
  },
  {
   "cell_type": "code",
   "execution_count": 22,
   "metadata": {},
   "outputs": [
    {
     "name": "stdout",
     "output_type": "stream",
     "text": [
      "   0  1  2  3  4 energy num_oc. chain_.\n",
      "0 -1 +1 -1 +1 +1   -4.0       2     0.0\n",
      "1 -1 +1 -1 +1 -1   -4.0       7     0.0\n",
      "2 +1 -1 +1 -1 +1   -4.0       1     0.0\n",
      "['SPIN', 3 rows, 10 samples, 5 variables]\n"
     ]
    }
   ],
   "source": [
    "import dwave.system \n",
    "'''\n",
    "sampler = DWaveSampler()\n",
    "\n",
    "Problem graph incompatible with solver. \n",
    "Please use 'EmbeddingComposite' to map the problem graph to the solver\n",
    "'''\n",
    "sampler = EmbeddingComposite(DWaveSampler())\n",
    "solution = sampler.sample(prisma, num_reads = 10)\n",
    "\n",
    "print(solution.aggregate())"
   ]
  },
  {
   "cell_type": "code",
   "execution_count": 141,
   "metadata": {
    "id": "YQ2I2UvlJzym"
   },
   "outputs": [
    {
     "data": {
      "text/plain": [
       "20"
      ]
     },
     "execution_count": 141,
     "metadata": {},
     "output_type": "execute_result"
    }
   ],
   "source": [
    "sampler.properties[\"quota_conversion_rate\"]\n"
   ]
  },
  {
   "cell_type": "code",
   "execution_count": null,
   "metadata": {},
   "outputs": [],
   "source": [
    "\n",
    "D-Wave system como sampler para modelos BQM "
   ]
  },
  {
   "cell_type": "markdown",
   "metadata": {},
   "source": [
    "#### DWaveCliqueSampler\n",
    "\n",
    "Sampler para resolver Clique BQM en los sistemas D-Wave\n",
    "\n"
   ]
  },
  {
   "cell_type": "code",
   "execution_count": null,
   "metadata": {},
   "outputs": [],
   "source": []
  }
 ],
 "metadata": {
  "colab": {
   "provenance": []
  },
  "kernelspec": {
   "display_name": "Python 3 (ipykernel)",
   "language": "python",
   "name": "python3"
  },
  "language_info": {
   "codemirror_mode": {
    "name": "ipython",
    "version": 3
   },
   "file_extension": ".py",
   "mimetype": "text/x-python",
   "name": "python",
   "nbconvert_exporter": "python",
   "pygments_lexer": "ipython3",
   "version": "3.10.11"
  }
 },
 "nbformat": 4,
 "nbformat_minor": 4
}
