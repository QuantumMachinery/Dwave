{
 "cells": [
  {
   "cell_type": "markdown",
   "id": "da40bd2f-1d24-4bdf-be58-8eef2a42ee7f",
   "metadata": {},
   "source": [
    "## Planificación de la producción\n",
    "\n",
    "#### Problema CQM c/ reformulación Qubo\n",
    "\n",
    "\n",
    "Una empresa de recambios industriales produce dos tipos de baterías, A y B. \n",
    "\n",
    "- Su producción semanal debe ser de al menos 30 baterías en total y el número de baterías de tipo B no puede\n",
    "superar en más de 10 unidades a las fabricadas del tipo A. \n",
    "\n",
    "- Cada batería de tipo A tiene unos gastos de producción de 150 euros y cada batería de tipo B de 100 euros, disponiendo de un máximo de 6000euros a la semana para costes de producción.\n",
    "\n",
    "- Si la empresa vende todo lo que produce y cada batería de tipo A se vende a  130euros y la de tipo B a 140 euros, \n",
    "\n",
    "1. ¿cuántas baterías de cada tipo tendrán que producir a la semana para que el beneficio total sea máximo?. \n",
    "\n",
    "2. ¿Cuál es el beneficio semanal?\n",
    "\n",
    "\n",
    "<b>Planteamiento algebraico:</b>\n",
    "\n",
    "    - x1, x2 ; variables bat A y bat B\n",
    "\n",
    "    - Función objetivo: minimizar{f(x1,x2)} = -130*x1 - 140*x2\n",
    "\n",
    "- Restricciones:\n",
    "\n",
    "    - x1 + x2 >=30\n",
    "    - x2 - x1 <= 10\n",
    "    - 15*x1 + 10*x2 <= 600\n",
    "\n"
   ]
  },
  {
   "cell_type": "code",
   "execution_count": 151,
   "id": "77bae138-26c9-4b39-b5a2-63c2d5f0a4df",
   "metadata": {},
   "outputs": [],
   "source": [
    "# Recursos\n",
    "import dimod\n",
    "from dimod import ConstrainedQuadraticModel, ExactCQMSolver, Integer\n",
    "from dwave.system import DWaveSampler, EmbeddingComposite\n",
    "\n",
    "# Funciones auxiliares\n",
    "\n",
    "def sol_factibles(sampleset,n=None):\n",
    "    # Resultados\n",
    "    \n",
    "    subset=sampleset.filter(lambda s: s.is_feasible).aggregate()\n",
    "    \n",
    "    if not n:\n",
    "        print(f\"\\nLas {len(subset)} soluciones factibles al problema son:\\n\")\n",
    "    else:\n",
    "        print(f\"\\nImprimiendo las {n}/{len(subset)} primeras soluciones factibles:\\n\")\n",
    "    \n",
    "    print(subset.slice(n))\n",
    "    \n",
    "    \n",
    "def sol_problema(result):\n",
    "    # Agregación de los n reads\n",
    "    samples = []\n",
    "    ocurrencias = []\n",
    "\n",
    "    for s in result.data():\n",
    "        samples.append(invert(s.sample))\n",
    "        ocurrencias.append(s.num_occurrences)\n",
    "\n",
    "    sampleset = dimod.SampleSet.from_samples_cqm(samples,cqm,num_occurrences=ocurrencias)\n",
    "    return(sampleset)"
   ]
  },
  {
   "cell_type": "code",
   "execution_count": 153,
   "id": "3af9bf02-f003-4819-bf89-58a479f3cd78",
   "metadata": {},
   "outputs": [
    {
     "name": "stdout",
     "output_type": "stream",
     "text": [
      "Planteamiento problema CQM\n",
      "==========================\n",
      "Constrained quadratic model: 2 variables, 3 constraints, 8 biases\n",
      "\n",
      "Objective\n",
      "  -13*Integer('Xa') - 14*Integer('Xb')\n",
      "\n",
      "Constraints\n",
      "  Producción 1: Xa + Xb >=30: Integer('Xa') + Integer('Xb') >= 30.0\n",
      "  Producción 2: Xb - Xa <= 10: Integer('Xb') - Integer('Xa') <= 10.0\n",
      "  Costes:150Xa + 100Xb <= 6000: 15*Integer('Xa') + 10*Integer('Xb') <= 600.0\n",
      "\n",
      "Bounds\n",
      "  0.0 <= Integer('Xa') <= 40.0\n",
      "  0.0 <= Integer('Xb') <= 40.0\n",
      "\n"
     ]
    }
   ],
   "source": [
    "# Definición del problema CQM\n",
    "\n",
    "x1 = Integer('Xa',upper_bound=40)\n",
    "x2 = Integer('Xb',upper_bound=40)\n",
    "\n",
    "cqm = ConstrainedQuadraticModel()\n",
    "\n",
    "\n",
    "# Función objetivo: minimizar beneficio\n",
    "\n",
    "cqm.set_objective(-13*x1 - 14*x2)\n",
    "\n",
    "# Restricciones\n",
    "\n",
    "cqm.add_constraint(x1 + x2 >= 30,\"Producción 1: Xa + Xb >=30\")\n",
    "cqm.add_constraint(x2 - x1 <= 10,\"Producción 2: Xb - Xa <= 10\")\n",
    "cqm.add_constraint(15*x1 + 10*x2 <= 600,\"Costes:150Xa + 100Xb <= 6000\")\n",
    "print(\"Planteamiento problema CQM\")\n",
    "print(\"==========================\")\n",
    "print(cqm)"
   ]
  },
  {
   "cell_type": "markdown",
   "id": "02eed209-1aac-416b-bf44-4891b216df25",
   "metadata": {},
   "source": [
    "### Solución por fuerza bruta"
   ]
  },
  {
   "cell_type": "code",
   "execution_count": 154,
   "id": "edf95fa5-cad3-4fc2-b8b0-6896d19a0883",
   "metadata": {},
   "outputs": [],
   "source": [
    "result = ExactCQMSolver().sample_cqm(cqm)"
   ]
  },
  {
   "cell_type": "code",
   "execution_count": 155,
   "id": "26c00d6c-2002-4f56-a16f-50aa21ceced0",
   "metadata": {
    "tags": []
   },
   "outputs": [
    {
     "name": "stdout",
     "output_type": "stream",
     "text": [
      "\n",
      "Imprimiendo las 10/376 primeras soluciones factibles:\n",
      "\n",
      "  Xa Xb energy num_oc. is_sat. is_fea.\n",
      "0 20 30 -680.0       1 arra...    True\n",
      "1 20 29 -666.0       1 arra...    True\n",
      "2 21 28 -665.0       1 arra...    True\n",
      "3 22 27 -664.0       1 arra...    True\n",
      "4 19 29 -653.0       1 arra...    True\n",
      "5 20 28 -652.0       1 arra...    True\n",
      "6 21 27 -651.0       1 arra...    True\n",
      "7 22 26 -650.0       1 arra...    True\n",
      "8 23 25 -649.0       1 arra...    True\n",
      "9 24 24 -648.0       1 arra...    True\n",
      "['INTEGER', 10 rows, 10 samples, 2 variables]\n"
     ]
    }
   ],
   "source": [
    "solCPU=sol_factibles(result,10)"
   ]
  },
  {
   "cell_type": "markdown",
   "id": "b787f2c1-4738-45e4-987c-c00634b0976d",
   "metadata": {},
   "source": [
    "\n",
    "<b>Resultados:</b>\n",
    "\n",
    "- El importe semanal máximo por ventas: 6800€\n",
    "\n",
    "- Coste producción semanal : 6000€\n",
    "\n",
    "- Beneficio máximo: 600€"
   ]
  },
  {
   "cell_type": "markdown",
   "id": "349c04dd-67e0-4d70-beb6-7b3abca3e796",
   "metadata": {},
   "source": [
    "### Solución con QPU"
   ]
  },
  {
   "cell_type": "code",
   "execution_count": 156,
   "id": "a04d4ffb-2199-4848-ac50-a001994c49fc",
   "metadata": {
    "tags": []
   },
   "outputs": [],
   "source": [
    "#reformulación qubo y sampling\n",
    "\n",
    "fl=20 # factor penalizador de lagrange\n",
    "\n",
    "qubo, invert = dimod.cqm_to_bqm(cqm, lagrange_multiplier = fl)\n",
    "\n",
    "sampler = EmbeddingComposite(DWaveSampler())\n",
    "result = sampler.sample(qubo, num_reads=4000)"
   ]
  },
  {
   "cell_type": "code",
   "execution_count": 148,
   "id": "2d2e80d8-808e-45b0-92c9-ce807d6c460d",
   "metadata": {},
   "outputs": [
    {
     "name": "stdout",
     "output_type": "stream",
     "text": [
      "\n",
      "Imprimiendo las 5/358 primeras soluciones factibles:\n",
      "\n",
      "  Xa Xb energy num_oc. is_sat. is_fea.\n",
      "0 20 30 -680.0       3 arra...    True\n",
      "1 20 29 -666.0       4 arra...    True\n",
      "2 21 28 -665.0       3 arra...    True\n",
      "3 22 27 -664.0       5 arra...    True\n",
      "4 19 29 -653.0       3 arra...    True\n",
      "['INTEGER', 5 rows, 18 samples, 2 variables]\n"
     ]
    }
   ],
   "source": [
    "sampleset=sol_problema(result)\n",
    "solQPU=sol_factibles(sampleset,5)"
   ]
  },
  {
   "cell_type": "markdown",
   "id": "b38afd6c-5be7-444f-87c9-759e9216426b",
   "metadata": {},
   "source": [
    "\n",
    "\n",
    "<b>Analizando los resultados del sampler QPU</b>\n",
    "\n",
    "- Se ha formulado un problema Qubo desde un problema CQM\n",
    "\n",
    "- El espacio de soluciones factibles es similar al de fuerza bruta (sobre 350)\n",
    "\n",
    "- Se han replicado los valores óptimos obtenidos por fuerza bruta\n",
    "\n",
    "- Se necesitaron entre 3000-4000 samples para objetivo mínimo con moda sup > 3 (un umbral sensato)\n"
   ]
  },
  {
   "cell_type": "code",
   "execution_count": null,
   "id": "2e5acee2-63b6-44c6-b962-1a8c8a519cea",
   "metadata": {},
   "outputs": [],
   "source": []
  }
 ],
 "metadata": {
  "kernelspec": {
   "display_name": "Python 3 (ipykernel)",
   "language": "python",
   "name": "python3"
  },
  "language_info": {
   "codemirror_mode": {
    "name": "ipython",
    "version": 3
   },
   "file_extension": ".py",
   "mimetype": "text/x-python",
   "name": "python",
   "nbconvert_exporter": "python",
   "pygments_lexer": "ipython3",
   "version": "3.10.11"
  }
 },
 "nbformat": 4,
 "nbformat_minor": 5
}
